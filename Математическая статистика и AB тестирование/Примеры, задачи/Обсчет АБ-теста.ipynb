{
 "cells": [
  {
   "cell_type": "markdown",
   "metadata": {},
   "source": [
    "<center>\n",
    "<img src=\"logo.png\" height=\"900\"> \n",
    "</center>\n",
    "\n",
    "\n",
    "#  Обсчёт АБ-теста"
   ]
  },
  {
   "cell_type": "code",
   "execution_count": 1,
   "metadata": {},
   "outputs": [],
   "source": [
    "import numpy as np\n",
    "import pandas as pd\n",
    "import seaborn as sns\n",
    "import scipy.stats as sts\n",
    "import matplotlib.pyplot as plt\n",
    "\n",
    "plt.style.use('ggplot')\n",
    "%matplotlib inline"
   ]
  },
  {
   "cell_type": "markdown",
   "metadata": {},
   "source": [
    "Давайте представим, что у нас с вами есть сервис, который работает по подписке (онлайн игра, стриминговый сервис, например). Один из важных факторов успешности бизнеса в таком случае - это удержание пользователей, нам надо придумать, как заинтересовать пользователя в продлении подпсики. Возникла идея дать скидку в $1\\%$ на продление подписки. Чтобы оценить эфект от этой идеи мы как-то разбили пользователей, которые купили подписку за период теста, на две группы и одним дали скидку на продление, а другим нет."
   ]
  },
  {
   "cell_type": "code",
   "execution_count": 2,
   "metadata": {},
   "outputs": [
    {
     "name": "stdout",
     "output_type": "stream",
     "text": [
      "(25935, 10)\n"
     ]
    },
    {
     "data": {
      "text/html": [
       "<div>\n",
       "<style scoped>\n",
       "    .dataframe tbody tr th:only-of-type {\n",
       "        vertical-align: middle;\n",
       "    }\n",
       "\n",
       "    .dataframe tbody tr th {\n",
       "        vertical-align: top;\n",
       "    }\n",
       "\n",
       "    .dataframe thead th {\n",
       "        text-align: right;\n",
       "    }\n",
       "</style>\n",
       "<table border=\"1\" class=\"dataframe\">\n",
       "  <thead>\n",
       "    <tr style=\"text-align: right;\">\n",
       "      <th></th>\n",
       "      <th>user_id</th>\n",
       "      <th>service_id</th>\n",
       "      <th>product_name</th>\n",
       "      <th>product_duration</th>\n",
       "      <th>rn</th>\n",
       "      <th>sale_date</th>\n",
       "      <th>last_duration_days</th>\n",
       "      <th>new_duration_days</th>\n",
       "      <th>is_same</th>\n",
       "      <th>group</th>\n",
       "    </tr>\n",
       "  </thead>\n",
       "  <tbody>\n",
       "    <tr>\n",
       "      <th>0</th>\n",
       "      <td>47233</td>\n",
       "      <td>929</td>\n",
       "      <td>subscription</td>\n",
       "      <td>1_month</td>\n",
       "      <td>1</td>\n",
       "      <td>2018-12-21</td>\n",
       "      <td>30.0</td>\n",
       "      <td>30</td>\n",
       "      <td>1</td>\n",
       "      <td>0</td>\n",
       "    </tr>\n",
       "    <tr>\n",
       "      <th>1</th>\n",
       "      <td>50195</td>\n",
       "      <td>929</td>\n",
       "      <td>subscription</td>\n",
       "      <td>1_month</td>\n",
       "      <td>1</td>\n",
       "      <td>2019-03-17</td>\n",
       "      <td>30.0</td>\n",
       "      <td>30</td>\n",
       "      <td>1</td>\n",
       "      <td>1</td>\n",
       "    </tr>\n",
       "    <tr>\n",
       "      <th>2</th>\n",
       "      <td>62594</td>\n",
       "      <td>929</td>\n",
       "      <td>subscription</td>\n",
       "      <td>1_month</td>\n",
       "      <td>1</td>\n",
       "      <td>2019-02-08</td>\n",
       "      <td>30.0</td>\n",
       "      <td>30</td>\n",
       "      <td>1</td>\n",
       "      <td>0</td>\n",
       "    </tr>\n",
       "    <tr>\n",
       "      <th>3</th>\n",
       "      <td>68918</td>\n",
       "      <td>929</td>\n",
       "      <td>subscription</td>\n",
       "      <td>1_month</td>\n",
       "      <td>2</td>\n",
       "      <td>2019-03-19</td>\n",
       "      <td>30.0</td>\n",
       "      <td>30</td>\n",
       "      <td>1</td>\n",
       "      <td>1</td>\n",
       "    </tr>\n",
       "    <tr>\n",
       "      <th>4</th>\n",
       "      <td>91900</td>\n",
       "      <td>929</td>\n",
       "      <td>subscription</td>\n",
       "      <td>3_month</td>\n",
       "      <td>1</td>\n",
       "      <td>2018-10-29</td>\n",
       "      <td>30.0</td>\n",
       "      <td>90</td>\n",
       "      <td>0</td>\n",
       "      <td>0</td>\n",
       "    </tr>\n",
       "  </tbody>\n",
       "</table>\n",
       "</div>"
      ],
      "text/plain": [
       "   user_id  service_id  product_name product_duration  rn   sale_date  \\\n",
       "0    47233         929  subscription          1_month   1  2018-12-21   \n",
       "1    50195         929  subscription          1_month   1  2019-03-17   \n",
       "2    62594         929  subscription          1_month   1  2019-02-08   \n",
       "3    68918         929  subscription          1_month   2  2019-03-19   \n",
       "4    91900         929  subscription          3_month   1  2018-10-29   \n",
       "\n",
       "   last_duration_days  new_duration_days  is_same  group  \n",
       "0                30.0                 30        1      0  \n",
       "1                30.0                 30        1      1  \n",
       "2                30.0                 30        1      0  \n",
       "3                30.0                 30        1      1  \n",
       "4                30.0                 90        0      0  "
      ]
     },
     "execution_count": 2,
     "metadata": {},
     "output_type": "execute_result"
    }
   ],
   "source": [
    "df1 = pd.read_csv('subscribers_1.csv', sep=',')\n",
    "print(df1.shape)\n",
    "df1.head( )"
   ]
  },
  {
   "cell_type": "markdown",
   "metadata": {},
   "source": [
    "* `rn` - порядковый номер покупки подписки за период.  \n",
    "* `last_duration_days` - длительность предыдущей подписки.\n",
    "* `new_duration_days` - длительность текущей подписки.\n",
    "* `is_same` - менялась ли длительность подписки.\n",
    "* `group` - группа теста, в которую попал пользователь. 1 - тест, 0 - контроль."
   ]
  },
  {
   "cell_type": "markdown",
   "metadata": {},
   "source": [
    "__а)__ Обсчитайте результаты АБ-теста. Найдите разницу между старой и новой длительностями подписки. Постройте для этой разницы гистограмму. Подумайте и дайте себе ответ на следующие вопросы:\n",
    "\n",
    "- Можно ли воспользоваться предпосылкой о нормальности распределения приростов и проверить гипотезу тестом Уэлча? \n",
    "- Переменная, для которой мы проводим тест имеет дискретное распределение. Можно ли здесь использовать тест Манна-Уитни? Даст ли это коректный результат? \n",
    "- Будет ли корректно использовать для проверки гипотезы ЦПТ и тест о равенстве средних, основанный на ней? "
   ]
  },
  {
   "cell_type": "code",
   "execution_count": 17,
   "metadata": {},
   "outputs": [
    {
     "data": {
      "text/plain": [
       "<matplotlib.axes._subplots.AxesSubplot at 0x7f5a6a7939d0>"
      ]
     },
     "execution_count": 17,
     "metadata": {},
     "output_type": "execute_result"
    },
    {
     "data": {
      "image/png": "[encoded data removed]",
      "text/plain": [
       "<Figure size 432x288 with 1 Axes>"
      ]
     },
     "metadata": {
      "needs_background": "light"
     },
     "output_type": "display_data"
    }
   ],
   "source": [
    "df1['duration_diff'] = df1['new_duration_days'] - df1['last_duration_days']\n",
    "df1['duration_diff'].hist(bins=40)"
   ]
  },
  {
   "cell_type": "code",
   "execution_count": 45,
   "metadata": {},
   "outputs": [
    {
     "data": {
      "text/plain": [
       "<matplotlib.axes._subplots.AxesSubplot at 0x7f5a5f9d0410>"
      ]
     },
     "execution_count": 45,
     "metadata": {},
     "output_type": "execute_result"
    },
    {
     "data": {
      "image/png": "[encoded data removed]",
      "text/plain": [
       "<Figure size 432x288 with 1 Axes>"
      ]
     },
     "metadata": {
      "needs_background": "light"
     },
     "output_type": "display_data"
    }
   ],
   "source": [
    "treatment = df1[df1['group'].astype(bool)]['duration_diff']\n",
    "control = df1[~df1['group'].astype(bool)]['duration_diff']\n",
    "\n",
    "treatment.hist(bins=40, alpha=0.4)\n",
    "control.hist(bins=40, alpha=0.4)"
   ]
  },
  {
   "cell_type": "code",
   "execution_count": 46,
   "metadata": {
    "deletable": false,
    "nbgrader": {
     "cell_type": "code",
     "checksum": "0fe5480859f0bca14a42243b85755151",
     "grade": false,
     "grade_id": "cell-bdd9e5329b3db1a1",
     "locked": false,
     "schema_version": 3,
     "solution": true,
     "task": false
    }
   },
   "outputs": [],
   "source": [
    "### ╰( ͡° ͜ʖ ͡° )つ▬▬ι═══════  bzzzzzzzzzz\n",
    "# will the code be with you\n",
    "\n",
    "# your code here\n"
   ]
  },
  {
   "cell_type": "markdown",
   "metadata": {},
   "source": [
    "Правда ли, что средняя длительность подписки изменилась на $1\\%$ уровне значимости? Для ответа на этот вопрос воспользуйтесь асимптотическим тестом на равенство средних против двусторонней альтернативы. Сохраните в переменную `z_obs` получившееся значение статистики, а в `pvalue` получившееся $p$-значение."
   ]
  },
  {
   "cell_type": "code",
   "execution_count": 47,
   "metadata": {},
   "outputs": [
    {
     "data": {
      "text/plain": [
       "(1.994826536822885, 2.139003987178485)"
      ]
     },
     "execution_count": 47,
     "metadata": {},
     "output_type": "execute_result"
    }
   ],
   "source": [
    "treatment.mean(), control.mean()"
   ]
  },
  {
   "cell_type": "code",
   "execution_count": 48,
   "metadata": {},
   "outputs": [],
   "source": [
    "def z_test(a, b):\n",
    "    z_obs = (a.mean() - b.mean()) / np.sqrt(a.var(ddof=1)/len(a) + b.var(ddof=1)/len(b))\n",
    "    pvalue = 2 * (1 - sts.norm.cdf(z_obs))\n",
    "    return z_obs, pvalue"
   ]
  },
  {
   "cell_type": "code",
   "execution_count": 51,
   "metadata": {
    "deletable": false,
    "nbgrader": {
     "cell_type": "code",
     "checksum": "abff103ab41763fc052dca962943d349",
     "grade": false,
     "grade_id": "cell-62ddf31733694201",
     "locked": false,
     "schema_version": 3,
     "solution": true,
     "task": false
    }
   },
   "outputs": [],
   "source": [
    "### ╰( ͡° ͜ʖ ͡° )つ▬▬ι═══════  bzzzzzzzzzz\n",
    "# will the code be with you\n",
    "\n",
    "z_obs, pvalue = z_test(control, treatment)\n",
    "\n",
    "# your code here\n"
   ]
  },
  {
   "cell_type": "code",
   "execution_count": 52,
   "metadata": {},
   "outputs": [
    {
     "data": {
      "text/plain": [
       "(0.7476223219885133, 0.45468799669079174)"
      ]
     },
     "execution_count": 52,
     "metadata": {},
     "output_type": "execute_result"
    }
   ],
   "source": [
    "z_obs, pvalue"
   ]
  },
  {
   "cell_type": "code",
   "execution_count": 53,
   "metadata": {
    "deletable": false,
    "editable": false,
    "nbgrader": {
     "cell_type": "code",
     "checksum": "772e95b8b784d307dcdaaf8f4a3f07bf",
     "grade": true,
     "grade_id": "cell-15ae7f9f303d1b04",
     "locked": true,
     "points": 1,
     "schema_version": 3,
     "solution": false,
     "task": false
    }
   },
   "outputs": [],
   "source": [
    "# проверка того, что задание решено верно\n",
    "assert np.abs(z_obs) < 1\n",
    "assert np.abs(z_obs) > 0.7\n",
    "\n",
    "# подобные тесты скрыты от вас \n"
   ]
  },
  {
   "cell_type": "markdown",
   "metadata": {},
   "source": [
    "__б)__ А теперь представим, что мы продвинутые АБ-тестеры и решили провести ААБ тест (2 контрольные группы и одну тестовую)."
   ]
  },
  {
   "cell_type": "code",
   "execution_count": 36,
   "metadata": {},
   "outputs": [
    {
     "name": "stdout",
     "output_type": "stream",
     "text": [
      "(25935, 10)\n"
     ]
    },
    {
     "data": {
      "text/html": [
       "<div>\n",
       "<style scoped>\n",
       "    .dataframe tbody tr th:only-of-type {\n",
       "        vertical-align: middle;\n",
       "    }\n",
       "\n",
       "    .dataframe tbody tr th {\n",
       "        vertical-align: top;\n",
       "    }\n",
       "\n",
       "    .dataframe thead th {\n",
       "        text-align: right;\n",
       "    }\n",
       "</style>\n",
       "<table border=\"1\" class=\"dataframe\">\n",
       "  <thead>\n",
       "    <tr style=\"text-align: right;\">\n",
       "      <th></th>\n",
       "      <th>user_id</th>\n",
       "      <th>service_id</th>\n",
       "      <th>product_name</th>\n",
       "      <th>product_duration</th>\n",
       "      <th>rn</th>\n",
       "      <th>sale_date</th>\n",
       "      <th>last_duration_days</th>\n",
       "      <th>new_duration_days</th>\n",
       "      <th>is_same</th>\n",
       "      <th>new_group</th>\n",
       "    </tr>\n",
       "  </thead>\n",
       "  <tbody>\n",
       "    <tr>\n",
       "      <th>0</th>\n",
       "      <td>47233</td>\n",
       "      <td>929</td>\n",
       "      <td>subscription</td>\n",
       "      <td>1_month</td>\n",
       "      <td>1</td>\n",
       "      <td>2018-12-21</td>\n",
       "      <td>30.0</td>\n",
       "      <td>30</td>\n",
       "      <td>1</td>\n",
       "      <td>0</td>\n",
       "    </tr>\n",
       "    <tr>\n",
       "      <th>1</th>\n",
       "      <td>50195</td>\n",
       "      <td>929</td>\n",
       "      <td>subscription</td>\n",
       "      <td>1_month</td>\n",
       "      <td>1</td>\n",
       "      <td>2019-03-17</td>\n",
       "      <td>30.0</td>\n",
       "      <td>30</td>\n",
       "      <td>1</td>\n",
       "      <td>2</td>\n",
       "    </tr>\n",
       "    <tr>\n",
       "      <th>2</th>\n",
       "      <td>62594</td>\n",
       "      <td>929</td>\n",
       "      <td>subscription</td>\n",
       "      <td>1_month</td>\n",
       "      <td>1</td>\n",
       "      <td>2019-02-08</td>\n",
       "      <td>30.0</td>\n",
       "      <td>30</td>\n",
       "      <td>1</td>\n",
       "      <td>0</td>\n",
       "    </tr>\n",
       "    <tr>\n",
       "      <th>3</th>\n",
       "      <td>68918</td>\n",
       "      <td>929</td>\n",
       "      <td>subscription</td>\n",
       "      <td>1_month</td>\n",
       "      <td>2</td>\n",
       "      <td>2019-03-19</td>\n",
       "      <td>30.0</td>\n",
       "      <td>30</td>\n",
       "      <td>1</td>\n",
       "      <td>2</td>\n",
       "    </tr>\n",
       "    <tr>\n",
       "      <th>4</th>\n",
       "      <td>91900</td>\n",
       "      <td>929</td>\n",
       "      <td>subscription</td>\n",
       "      <td>3_month</td>\n",
       "      <td>1</td>\n",
       "      <td>2018-10-29</td>\n",
       "      <td>30.0</td>\n",
       "      <td>90</td>\n",
       "      <td>0</td>\n",
       "      <td>0</td>\n",
       "    </tr>\n",
       "  </tbody>\n",
       "</table>\n",
       "</div>"
      ],
      "text/plain": [
       "   user_id  service_id  product_name product_duration  rn   sale_date  \\\n",
       "0    47233         929  subscription          1_month   1  2018-12-21   \n",
       "1    50195         929  subscription          1_month   1  2019-03-17   \n",
       "2    62594         929  subscription          1_month   1  2019-02-08   \n",
       "3    68918         929  subscription          1_month   2  2019-03-19   \n",
       "4    91900         929  subscription          3_month   1  2018-10-29   \n",
       "\n",
       "   last_duration_days  new_duration_days  is_same  new_group  \n",
       "0                30.0                 30        1          0  \n",
       "1                30.0                 30        1          2  \n",
       "2                30.0                 30        1          0  \n",
       "3                30.0                 30        1          2  \n",
       "4                30.0                 90        0          0  "
      ]
     },
     "execution_count": 36,
     "metadata": {},
     "output_type": "execute_result"
    }
   ],
   "source": [
    "df2 = pd.read_csv('subscribers_2.csv', sep=',')\n",
    "print(df2.shape)\n",
    "df2.head( )"
   ]
  },
  {
   "cell_type": "markdown",
   "metadata": {},
   "source": [
    "* `new_group` - группа теста, в которую попал пользователь. $2$ - тест, $0,1$ - контроль."
   ]
  },
  {
   "cell_type": "markdown",
   "metadata": {},
   "source": [
    "Проверьте гипотезу о том, что в каждой из контрольных групп среднее совпадает с тестовой на уровне значимости $1\\%$. Получившиеся $p$-значения запишите в переменные `pval_1` и `pval_2`. Сделайте корректировку методом Холма. Запишите количество отвергнутых гипотез в переменную `hyp_cnt`. "
   ]
  },
  {
   "cell_type": "code",
   "execution_count": 40,
   "metadata": {},
   "outputs": [
    {
     "data": {
      "text/html": [
       "<div>\n",
       "<style scoped>\n",
       "    .dataframe tbody tr th:only-of-type {\n",
       "        vertical-align: middle;\n",
       "    }\n",
       "\n",
       "    .dataframe tbody tr th {\n",
       "        vertical-align: top;\n",
       "    }\n",
       "\n",
       "    .dataframe thead th {\n",
       "        text-align: right;\n",
       "    }\n",
       "</style>\n",
       "<table border=\"1\" class=\"dataframe\">\n",
       "  <thead>\n",
       "    <tr style=\"text-align: right;\">\n",
       "      <th></th>\n",
       "      <th>user_id</th>\n",
       "      <th>service_id</th>\n",
       "      <th>product_name</th>\n",
       "      <th>product_duration</th>\n",
       "      <th>rn</th>\n",
       "      <th>sale_date</th>\n",
       "      <th>last_duration_days</th>\n",
       "      <th>new_duration_days</th>\n",
       "      <th>is_same</th>\n",
       "      <th>new_group</th>\n",
       "      <th>duration_diff</th>\n",
       "    </tr>\n",
       "  </thead>\n",
       "  <tbody>\n",
       "    <tr>\n",
       "      <th>0</th>\n",
       "      <td>47233</td>\n",
       "      <td>929</td>\n",
       "      <td>subscription</td>\n",
       "      <td>1_month</td>\n",
       "      <td>1</td>\n",
       "      <td>2018-12-21</td>\n",
       "      <td>30.0</td>\n",
       "      <td>30</td>\n",
       "      <td>1</td>\n",
       "      <td>0</td>\n",
       "      <td>0.0</td>\n",
       "    </tr>\n",
       "    <tr>\n",
       "      <th>1</th>\n",
       "      <td>50195</td>\n",
       "      <td>929</td>\n",
       "      <td>subscription</td>\n",
       "      <td>1_month</td>\n",
       "      <td>1</td>\n",
       "      <td>2019-03-17</td>\n",
       "      <td>30.0</td>\n",
       "      <td>30</td>\n",
       "      <td>1</td>\n",
       "      <td>2</td>\n",
       "      <td>0.0</td>\n",
       "    </tr>\n",
       "    <tr>\n",
       "      <th>2</th>\n",
       "      <td>62594</td>\n",
       "      <td>929</td>\n",
       "      <td>subscription</td>\n",
       "      <td>1_month</td>\n",
       "      <td>1</td>\n",
       "      <td>2019-02-08</td>\n",
       "      <td>30.0</td>\n",
       "      <td>30</td>\n",
       "      <td>1</td>\n",
       "      <td>0</td>\n",
       "      <td>0.0</td>\n",
       "    </tr>\n",
       "    <tr>\n",
       "      <th>3</th>\n",
       "      <td>68918</td>\n",
       "      <td>929</td>\n",
       "      <td>subscription</td>\n",
       "      <td>1_month</td>\n",
       "      <td>2</td>\n",
       "      <td>2019-03-19</td>\n",
       "      <td>30.0</td>\n",
       "      <td>30</td>\n",
       "      <td>1</td>\n",
       "      <td>2</td>\n",
       "      <td>0.0</td>\n",
       "    </tr>\n",
       "    <tr>\n",
       "      <th>4</th>\n",
       "      <td>91900</td>\n",
       "      <td>929</td>\n",
       "      <td>subscription</td>\n",
       "      <td>3_month</td>\n",
       "      <td>1</td>\n",
       "      <td>2018-10-29</td>\n",
       "      <td>30.0</td>\n",
       "      <td>90</td>\n",
       "      <td>0</td>\n",
       "      <td>0</td>\n",
       "      <td>-60.0</td>\n",
       "    </tr>\n",
       "    <tr>\n",
       "      <th>...</th>\n",
       "      <td>...</td>\n",
       "      <td>...</td>\n",
       "      <td>...</td>\n",
       "      <td>...</td>\n",
       "      <td>...</td>\n",
       "      <td>...</td>\n",
       "      <td>...</td>\n",
       "      <td>...</td>\n",
       "      <td>...</td>\n",
       "      <td>...</td>\n",
       "      <td>...</td>\n",
       "    </tr>\n",
       "    <tr>\n",
       "      <th>25930</th>\n",
       "      <td>12885753927</td>\n",
       "      <td>929</td>\n",
       "      <td>subscription</td>\n",
       "      <td>1_month</td>\n",
       "      <td>1</td>\n",
       "      <td>2019-03-14</td>\n",
       "      <td>30.0</td>\n",
       "      <td>30</td>\n",
       "      <td>1</td>\n",
       "      <td>0</td>\n",
       "      <td>0.0</td>\n",
       "    </tr>\n",
       "    <tr>\n",
       "      <th>25931</th>\n",
       "      <td>12885754861</td>\n",
       "      <td>929</td>\n",
       "      <td>subscription</td>\n",
       "      <td>1_month</td>\n",
       "      <td>1</td>\n",
       "      <td>2019-03-21</td>\n",
       "      <td>30.0</td>\n",
       "      <td>30</td>\n",
       "      <td>1</td>\n",
       "      <td>2</td>\n",
       "      <td>0.0</td>\n",
       "    </tr>\n",
       "    <tr>\n",
       "      <th>25932</th>\n",
       "      <td>12885758998</td>\n",
       "      <td>929</td>\n",
       "      <td>subscription</td>\n",
       "      <td>1_month</td>\n",
       "      <td>1</td>\n",
       "      <td>2019-03-24</td>\n",
       "      <td>30.0</td>\n",
       "      <td>30</td>\n",
       "      <td>1</td>\n",
       "      <td>2</td>\n",
       "      <td>0.0</td>\n",
       "    </tr>\n",
       "    <tr>\n",
       "      <th>25933</th>\n",
       "      <td>12885759604</td>\n",
       "      <td>929</td>\n",
       "      <td>subscription</td>\n",
       "      <td>1_month</td>\n",
       "      <td>1</td>\n",
       "      <td>2019-03-24</td>\n",
       "      <td>30.0</td>\n",
       "      <td>30</td>\n",
       "      <td>1</td>\n",
       "      <td>0</td>\n",
       "      <td>0.0</td>\n",
       "    </tr>\n",
       "    <tr>\n",
       "      <th>25934</th>\n",
       "      <td>12885760389</td>\n",
       "      <td>929</td>\n",
       "      <td>subscription</td>\n",
       "      <td>1_month</td>\n",
       "      <td>1</td>\n",
       "      <td>2019-03-26</td>\n",
       "      <td>30.0</td>\n",
       "      <td>30</td>\n",
       "      <td>1</td>\n",
       "      <td>0</td>\n",
       "      <td>0.0</td>\n",
       "    </tr>\n",
       "  </tbody>\n",
       "</table>\n",
       "<p>25935 rows × 11 columns</p>\n",
       "</div>"
      ],
      "text/plain": [
       "           user_id  service_id  product_name product_duration  rn   sale_date  \\\n",
       "0            47233         929  subscription          1_month   1  2018-12-21   \n",
       "1            50195         929  subscription          1_month   1  2019-03-17   \n",
       "2            62594         929  subscription          1_month   1  2019-02-08   \n",
       "3            68918         929  subscription          1_month   2  2019-03-19   \n",
       "4            91900         929  subscription          3_month   1  2018-10-29   \n",
       "...            ...         ...           ...              ...  ..         ...   \n",
       "25930  12885753927         929  subscription          1_month   1  2019-03-14   \n",
       "25931  12885754861         929  subscription          1_month   1  2019-03-21   \n",
       "25932  12885758998         929  subscription          1_month   1  2019-03-24   \n",
       "25933  12885759604         929  subscription          1_month   1  2019-03-24   \n",
       "25934  12885760389         929  subscription          1_month   1  2019-03-26   \n",
       "\n",
       "       last_duration_days  new_duration_days  is_same  new_group  \\\n",
       "0                    30.0                 30        1          0   \n",
       "1                    30.0                 30        1          2   \n",
       "2                    30.0                 30        1          0   \n",
       "3                    30.0                 30        1          2   \n",
       "4                    30.0                 90        0          0   \n",
       "...                   ...                ...      ...        ...   \n",
       "25930                30.0                 30        1          0   \n",
       "25931                30.0                 30        1          2   \n",
       "25932                30.0                 30        1          2   \n",
       "25933                30.0                 30        1          0   \n",
       "25934                30.0                 30        1          0   \n",
       "\n",
       "       duration_diff  \n",
       "0                0.0  \n",
       "1                0.0  \n",
       "2                0.0  \n",
       "3                0.0  \n",
       "4              -60.0  \n",
       "...              ...  \n",
       "25930            0.0  \n",
       "25931            0.0  \n",
       "25932            0.0  \n",
       "25933            0.0  \n",
       "25934            0.0  \n",
       "\n",
       "[25935 rows x 11 columns]"
      ]
     },
     "execution_count": 40,
     "metadata": {},
     "output_type": "execute_result"
    }
   ],
   "source": [
    "df2['duration_diff'] = df2['last_duration_days'] - df2['new_duration_days']\n",
    "df2"
   ]
  },
  {
   "cell_type": "code",
   "execution_count": 54,
   "metadata": {},
   "outputs": [
    {
     "data": {
      "text/plain": [
       "1        0.0\n",
       "3        0.0\n",
       "7        0.0\n",
       "8        0.0\n",
       "15       0.0\n",
       "        ... \n",
       "25921    0.0\n",
       "25923    0.0\n",
       "25926    0.0\n",
       "25931    0.0\n",
       "25932    0.0\n",
       "Name: duration_diff, Length: 8831, dtype: float64"
      ]
     },
     "execution_count": 54,
     "metadata": {},
     "output_type": "execute_result"
    }
   ],
   "source": [
    "control1 = df2[df2['new_group'] == 0]['duration_diff']\n",
    "control2 = df2[df2['new_group'] == 1]['duration_diff']\n",
    "treatment = df2[df2['new_group'] == 2]['duration_diff']\n",
    "treatment"
   ]
  },
  {
   "cell_type": "code",
   "execution_count": 44,
   "metadata": {},
   "outputs": [
    {
     "data": {
      "text/plain": [
       "(-2.0237395698671996, -1.968586387434555, -2.201336202015627)"
      ]
     },
     "execution_count": 44,
     "metadata": {},
     "output_type": "execute_result"
    }
   ],
   "source": [
    "control1.mean(), control2.mean(), treatment.mean()"
   ]
  },
  {
   "cell_type": "code",
   "execution_count": 64,
   "metadata": {
    "deletable": false,
    "nbgrader": {
     "cell_type": "code",
     "checksum": "7dbeb0e4bd70bbf5ca2a786c94e0eff3",
     "grade": false,
     "grade_id": "cell-e72008defcd8a206",
     "locked": false,
     "schema_version": 3,
     "solution": true,
     "task": false
    }
   },
   "outputs": [],
   "source": [
    "from statsmodels.sandbox.stats.multicomp import multipletests \n",
    "### ╰( ͡° ͜ʖ ͡° )つ▬▬ι═══════  bzzzzzzzzzz\n",
    "# will the code be with you\n",
    "\n",
    "\n",
    "pval_1 = z_test(control1, treatment)[1]\n",
    "pval_2 = z_test(control2, treatment)[1]\n",
    "hyp_cnt = sum(multipletests([pval_1, pval_2], alpha=0.01, method='fdr_bh')[0])\n",
    "\n",
    "# your code here\n"
   ]
  },
  {
   "cell_type": "code",
   "execution_count": 66,
   "metadata": {
    "deletable": false,
    "editable": false,
    "nbgrader": {
     "cell_type": "code",
     "checksum": "499e2b0b4544d9defbd834ec238696df",
     "grade": true,
     "grade_id": "cell-e215872b40397664",
     "locked": true,
     "points": 1,
     "schema_version": 3,
     "solution": false,
     "task": false
    }
   },
   "outputs": [],
   "source": [
    "# проверка того, что задание решено верно\n",
    "assert pval_1 < 0.5\n",
    "assert pval_1 > 0.4\n",
    "assert pval_2 > 0.3\n",
    "assert pval_2 < 0.4\n",
    "\n",
    "# подобные тесты скрыты от вас "
   ]
  },
  {
   "cell_type": "markdown",
   "metadata": {},
   "source": [
    "Какие выводы можно сделать из этого теста?  Валиден ли такой тест?  Если нет, то в чем может быть проблема?"
   ]
  }
 ],
 "metadata": {
  "kernelspec": {
   "display_name": "Python 3",
   "language": "python",
   "name": "python3"
  },
  "language_info": {
   "codemirror_mode": {
    "name": "ipython",
    "version": 3
   },
   "file_extension": ".py",
   "mimetype": "text/x-python",
   "name": "python",
   "nbconvert_exporter": "python",
   "pygments_lexer": "ipython3",
   "version": "3.7.6"
  }
 },
 "nbformat": 4,
 "nbformat_minor": 2
}
