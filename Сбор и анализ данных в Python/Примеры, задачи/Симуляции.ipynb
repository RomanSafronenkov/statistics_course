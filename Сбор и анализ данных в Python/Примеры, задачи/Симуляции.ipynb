{
 "cells": [
  {
   "cell_type": "markdown",
   "metadata": {},
   "source": [
    "<center>\n",
    "<img src=\"logo.png\" height=\"900\"> \n",
    "</center>\n",
    "\n",
    "\n",
    "#  Простые симуляции\n",
    "\n",
    "В этом задании мы решим несколько простых задачек на симуляции. "
   ]
  },
  {
   "cell_type": "code",
   "execution_count": 1,
   "metadata": {},
   "outputs": [],
   "source": [
    "import numpy as np\n",
    "import scipy.stats as sts\n",
    "import matplotlib.pyplot as plt"
   ]
  },
  {
   "cell_type": "markdown",
   "metadata": {},
   "source": [
    "## Упражнение 1 (распределение Пуассона)\n",
    "\n",
    "Случайная величина $X$ имеет распределение Пуассона с $\\lambda = 2$,  $X \\sim Pois(2)$. С помощью $10^6$ симуляций оцените: \n",
    "\n",
    "* $P(X > 6)$\n",
    "* $P(X > 6 \\mid X > 5)$\n",
    "* $P(X > 5, X < 7)$\n",
    "* $E(X^3)$ \n",
    "* $E(X \\mid X > 5)$\n",
    "\n",
    "Вбейте получившиеся ответы в переменные `ans1`, `ans2`, $\\ldots$, `ans5`. "
   ]
  },
  {
   "cell_type": "code",
   "execution_count": 2,
   "metadata": {},
   "outputs": [
    {
     "data": {
      "image/png": "[encoded data removed]",
      "text/plain": [
       "<Figure size 864x432 with 1 Axes>"
      ]
     },
     "metadata": {},
     "output_type": "display_data"
    }
   ],
   "source": [
    "dist = sts.poisson(2)\n",
    "\n",
    "sample = dist.rvs(10**6)\n",
    "plt.rcParams['figure.figsize'] = (12, 6)\n",
    "plt.style.use('ggplot')\n",
    "plt.hist(sample, bins=40);"
   ]
  },
  {
   "cell_type": "code",
   "execution_count": 3,
   "metadata": {
    "deletable": false,
    "nbgrader": {
     "cell_type": "code",
     "checksum": "d510c9a6c4f49d97c2e5161ae93e4a0b",
     "grade": false,
     "grade_id": "cell-0cdc105173d26dcd",
     "locked": false,
     "schema_version": 3,
     "solution": true,
     "task": false
    }
   },
   "outputs": [
    {
     "data": {
      "text/plain": [
       "(0.004606, 0.2782577176342657, 0.011947, 22.020606, 6.3605992871382835)"
      ]
     },
     "execution_count": 3,
     "metadata": {},
     "output_type": "execute_result"
    }
   ],
   "source": [
    "### ╰( ͡° ͜ʖ ͡° )つ▬▬ι═══════  bzzzzzzzzzz\n",
    "# will the code be with you\n",
    "\n",
    "ans1 = (sample > 6).mean()\n",
    "ans2 = (sample[sample > 5] > 6).mean()\n",
    "ans3 = ((sample > 5) & (sample < 7)).mean()\n",
    "ans4 = (sample ** 3).mean()\n",
    "ans5 = (sample[sample > 5]).mean()\n",
    "\n",
    "# your code here\n",
    "ans1, ans2, ans3, ans4, ans5"
   ]
  },
  {
   "cell_type": "code",
   "execution_count": 4,
   "metadata": {
    "deletable": false,
    "editable": false,
    "nbgrader": {
     "cell_type": "code",
     "checksum": "0dcee68ccb098d61c3c07a0e268f5651",
     "grade": true,
     "grade_id": "cell-5e50c3445bab8f6d",
     "locked": true,
     "points": 5,
     "schema_version": 3,
     "solution": false,
     "task": false
    }
   },
   "outputs": [],
   "source": [
    "# проверка, что задание решено корректно\n",
    "assert np.abs(ans3 - 0.01) < 1e-2\n",
    "\n",
    "# Похожие тесты скрыты от вас"
   ]
  },
  {
   "cell_type": "markdown",
   "metadata": {},
   "source": [
    "## Упражнение 2 (нейросети)\n",
    "\n",
    "Юра завёл себе две нейронные сетки и два сервера для их обучения. Две нейросети обучаются независимо на двух серверах. Время их обучения $T_1$ и $T_2$ равномерно распределено на отрезке $[1;3]$ (обучение измеряется в часах). В процессе обучения сервер может упасть. Момент падения сервера $T$ распределён экспоненциально с параметром $\\lambda = 0.3$. Он не зависит от времени обучения нейросеток. \n",
    "\n",
    "Известно, что одна из нейросетей успела обучиться, а вторая не успела. Какова вероятность того, что $T \\le 1.5$? Ответ вбейте в переменную `ans6`. При симуляциях для генерации момента подения используйте для обоих серверов одну и ту же случайную величину. \n",
    "\n",
    "**Hint:** при решении задачи помните о том, что у вас две нейросетки!"
   ]
  },
  {
   "cell_type": "code",
   "execution_count": 5,
   "metadata": {},
   "outputs": [],
   "source": [
    "learning_time = sts.uniform(1, 2)\n",
    "break_prob = sts.expon(scale=1/0.3)\n",
    "\n",
    "learning_sample1 = learning_time.rvs(10**6)\n",
    "learning_sample2 = learning_time.rvs(10**6)\n",
    "\n",
    "break_sample = break_prob.rvs(10**6)"
   ]
  },
  {
   "cell_type": "code",
   "execution_count": 6,
   "metadata": {},
   "outputs": [],
   "source": [
    "# Либо один успеет, другой нет, либо другой успеет, первый нет, но всегда обучается только одна, вторая всегда не успевает\n",
    "condition = (((learning_sample1 < break_sample)\\\n",
    "              & (learning_sample2 >= break_sample)) | ((learning_sample1 >= break_sample)\\\n",
    "                                                       & (learning_sample2 < break_sample)))"
   ]
  },
  {
   "cell_type": "code",
   "execution_count": 7,
   "metadata": {},
   "outputs": [
    {
     "data": {
      "text/plain": [
       "0.18850607938429298"
      ]
     },
     "execution_count": 7,
     "metadata": {},
     "output_type": "execute_result"
    }
   ],
   "source": [
    "(break_sample[condition] <= 1.5).mean()"
   ]
  },
  {
   "cell_type": "code",
   "execution_count": 8,
   "metadata": {
    "deletable": false,
    "nbgrader": {
     "cell_type": "code",
     "checksum": "372c406d43e0c58b63755163e7116843",
     "grade": false,
     "grade_id": "cell-26e7ed9e468a34b2",
     "locked": false,
     "schema_version": 3,
     "solution": true,
     "task": false
    }
   },
   "outputs": [],
   "source": [
    "### ╰( ͡° ͜ʖ ͡° )つ▬▬ι═══════  bzzzzzzzzzz\n",
    "# will the code be with you\n",
    "\n",
    "ans6 = (break_sample[condition] <= 1.5).mean()\n",
    "\n",
    "# your code here\n"
   ]
  },
  {
   "cell_type": "code",
   "execution_count": 9,
   "metadata": {
    "deletable": false,
    "editable": false,
    "nbgrader": {
     "cell_type": "code",
     "checksum": "b52a3cee0475ac74400aceda1dfcf9dc",
     "grade": true,
     "grade_id": "cell-4b7e86061bb9bfff",
     "locked": true,
     "points": 3,
     "schema_version": 3,
     "solution": false,
     "task": false
    }
   },
   "outputs": [],
   "source": [
    "# проверка, что задание решено корректно\n",
    "assert ans6 < 0.2\n",
    "assert ans6 > 0.1\n",
    "\n",
    "# Похожие тесты скрыты от вас"
   ]
  },
  {
   "cell_type": "markdown",
   "metadata": {},
   "source": [
    "## Упражнение 3 (квантильное преобразование)\n",
    "\n",
    "Случайная величина $X$ описывается функцией распределения: \n",
    "\n",
    "$$\n",
    "F(x) = \\left( \\frac{\\ln x}{\\ln \\theta} \\right)^{\\alpha},  \\quad x \\in [1; \\theta]\n",
    "$$\n",
    "\n",
    "Сгенерируйте из такого распределения выборку объёма $10^6$ и оцените математическое ожидание данной случайной величины. Запишите его в переменную `ans7`. В качестве параметров возьмите $\\alpha=2, \\theta = 10$."
   ]
  },
  {
   "cell_type": "code",
   "execution_count": 10,
   "metadata": {},
   "outputs": [],
   "source": [
    "dist = sts.uniform(0, 1)\n",
    "\n",
    "sample = dist.rvs(10**6)"
   ]
  },
  {
   "cell_type": "code",
   "execution_count": 11,
   "metadata": {},
   "outputs": [
    {
     "data": {
      "image/png": "[encoded data removed]",
      "text/plain": [
       "<Figure size 864x432 with 1 Axes>"
      ]
     },
     "metadata": {},
     "output_type": "display_data"
    }
   ],
   "source": [
    "new_dist = np.exp(np.log(10) * np.sqrt(sample))\n",
    "\n",
    "plt.hist(new_dist, bins=70);"
   ]
  },
  {
   "cell_type": "code",
   "execution_count": 12,
   "metadata": {
    "deletable": false,
    "nbgrader": {
     "cell_type": "code",
     "checksum": "97551c7cbe44e47be29699f0dc3f8e88",
     "grade": false,
     "grade_id": "cell-d21b5450e8815816",
     "locked": false,
     "schema_version": 3,
     "solution": true,
     "task": false
    }
   },
   "outputs": [
    {
     "data": {
      "text/plain": [
       "5.292026594318855"
      ]
     },
     "execution_count": 12,
     "metadata": {},
     "output_type": "execute_result"
    }
   ],
   "source": [
    "### ╰( ͡° ͜ʖ ͡° )つ▬▬ι═══════  bzzzzzzzzzz\n",
    "# will the code be with you\n",
    "\n",
    "theta = 10\n",
    "alpha = 2\n",
    "\n",
    "ans7 = new_dist.mean()\n",
    "\n",
    "# your code here\n",
    "ans7"
   ]
  },
  {
   "cell_type": "markdown",
   "metadata": {},
   "source": [
    "Нарисуйте для получившегося распределения гистограмму. Найдите в аналитическом виде плотность распределения. Нанесите её на картинку с гистограммой. "
   ]
  },
  {
   "cell_type": "code",
   "execution_count": 13,
   "metadata": {
    "deletable": false,
    "nbgrader": {
     "cell_type": "code",
     "checksum": "86d06b03e8a43604bbab2be36fff2690",
     "grade": false,
     "grade_id": "cell-434f781c2db5c1c1",
     "locked": false,
     "schema_version": 3,
     "solution": true,
     "task": false
    }
   },
   "outputs": [
    {
     "data": {
      "image/png": "[encoded data removed]",
      "text/plain": [
       "<Figure size 864x432 with 1 Axes>"
      ]
     },
     "metadata": {},
     "output_type": "display_data"
    }
   ],
   "source": [
    "### ╰( ͡° ͜ʖ ͡° )つ▬▬ι═══════  bzzzzzzzzzz\n",
    "# will the code be with you\n",
    "def pdf_dist(x):\n",
    "    return 2 * np.log(x) / (x * (np.log(10)**2))\n",
    "# your code here\n",
    "\n",
    "x = np.linspace(1, 10, 100)\n",
    "fig, ax = plt.subplots(figsize=(12, 6))\n",
    "ax.hist(new_dist, bins=100, density=True, alpha=0.6, label='Experimental')\n",
    "ax.plot(x, pdf_dist(x), lw=2, color='blue', label='Distribution')\n",
    "plt.legend(loc='upper right');"
   ]
  },
  {
   "cell_type": "code",
   "execution_count": 14,
   "metadata": {
    "deletable": false,
    "editable": false,
    "nbgrader": {
     "cell_type": "code",
     "checksum": "9edc52be865e200213a454214c3060e4",
     "grade": true,
     "grade_id": "cell-16a71339d7f17228",
     "locked": true,
     "points": 2,
     "schema_version": 3,
     "solution": false,
     "task": false
    }
   },
   "outputs": [],
   "source": [
    "# проверка, что задание решено корректно\n",
    "assert ans7 < 6\n",
    "assert ans7 > 2\n",
    "\n",
    "# Похожие тесты скрыты от вас"
   ]
  },
  {
   "cell_type": "markdown",
   "metadata": {},
   "source": [
    "## Упражнение 4 (сходимость по вероятности)\n",
    "\n",
    "__Это задание никак не оценивается.__ У распределения хи-квадрат есть следующее свойство: если $X_1, \\ldots, X_n \\sim iid~N(0,1)$, тогда имеет место следующая сходимость по веротяности:\n",
    "\n",
    "$$\n",
    "\\frac{\\chi^2_n}{n} = \\frac{X_1^2 + \\ldots + X_n^2}{n} \\to  1\n",
    "$$\n",
    "\n",
    "Продемонстрируйте с помощью симуляций, что это именно так. От вас требуется построить ту же картинку, что мы строили при иллюстрации ЗБЧ в лекции. Не забудьте построить для нескольких разных $\\varepsilon$ коридоры и убедиться, что последовательность с некоторого момента начинает пробивать их довольно редко."
   ]
  },
  {
   "cell_type": "code",
   "execution_count": 58,
   "metadata": {},
   "outputs": [
    {
     "data": {
      "text/plain": [
       "(1000000,)"
      ]
     },
     "execution_count": 58,
     "metadata": {},
     "output_type": "execute_result"
    }
   ],
   "source": [
    "### ╰( ͡° ͜ʖ ͡° )つ▬▬ι═══════  bzzzzzzzzzz\n",
    "# will the code be with you\n",
    "dist = sts.norm()\n",
    "N = 10**6\n",
    "sample = dist.rvs(size=N)\n",
    "sample.shape"
   ]
  },
  {
   "cell_type": "code",
   "execution_count": 59,
   "metadata": {},
   "outputs": [
    {
     "data": {
      "image/png": "[encoded data removed]",
      "text/plain": [
       "<Figure size 1800x864 with 1 Axes>"
      ]
     },
     "metadata": {},
     "output_type": "display_data"
    }
   ],
   "source": [
    "summed = np.cumsum(sample**2)\n",
    "counted = np.arange(1, N+1)\n",
    "chi2_n = summed / counted\n",
    "\n",
    "eps = 0.01\n",
    "plt.figure(figsize=(25, 12))\n",
    "plt.plot(counted, chi2_n)\n",
    "plt.axhline(1 - eps, ls='--', c='blue')\n",
    "plt.axhline(1 + eps, ls='--', c='blue')\n",
    "plt.xlabel('n')\n",
    "plt.ylabel(r'E($\\frac{\\chi^2}{n}$)');"
   ]
  },
  {
   "cell_type": "code",
   "execution_count": 60,
   "metadata": {},
   "outputs": [
    {
     "name": "stdout",
     "output_type": "stream",
     "text": [
      "CPU times: user 3.69 s, sys: 405 ms, total: 4.1 s\n",
      "Wall time: 8.14 s\n"
     ]
    },
    {
     "data": {
      "text/plain": [
       "(100, 1000000)"
      ]
     },
     "execution_count": 60,
     "metadata": {},
     "output_type": "execute_result"
    }
   ],
   "source": [
    "%%time\n",
    "sample = dist.rvs(size=(100, N))\n",
    "sample.shape"
   ]
  },
  {
   "cell_type": "code",
   "execution_count": 61,
   "metadata": {},
   "outputs": [
    {
     "data": {
      "image/png": "[encoded data removed]",
      "text/plain": [
       "<Figure size 1800x864 with 1 Axes>"
      ]
     },
     "metadata": {},
     "output_type": "display_data"
    }
   ],
   "source": [
    "plt.figure(figsize=(25, 12))\n",
    "plt.plot((np.abs((np.cumsum(sample**2, axis=1) / counted) - 1) < eps).mean(axis=0))\n",
    "plt.axhline(1, ls='--', c='blue')\n",
    "plt.xlabel('n')\n",
    "plt.ylabel(r'$p$)');"
   ]
  },
  {
   "cell_type": "code",
   "execution_count": null,
   "metadata": {},
   "outputs": [],
   "source": []
  },
  {
   "cell_type": "markdown",
   "metadata": {},
   "source": [
    " "
   ]
  }
 ],
 "metadata": {
  "kernelspec": {
   "display_name": "Python 3",
   "language": "python",
   "name": "python3"
  },
  "language_info": {
   "codemirror_mode": {
    "name": "ipython",
    "version": 3
   },
   "file_extension": ".py",
   "mimetype": "text/x-python",
   "name": "python",
   "nbconvert_exporter": "python",
   "pygments_lexer": "ipython3",
   "version": "3.7.6"
  }
 },
 "nbformat": 4,
 "nbformat_minor": 4
}
