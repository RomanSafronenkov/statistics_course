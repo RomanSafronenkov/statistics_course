{
 "cells": [
  {
   "cell_type": "markdown",
   "metadata": {},
   "source": [
    "<img src=\"logo.png\" height=\"200\" width=\"900\"> \n",
    "\n",
    "#  Сбор данных: грязная работа вашими руками \n",
    "\n",
    "Пришло время самостоятельно написать парсер! Мы будем собирать данные [о ценах на книги.](http://books.toscrape.com)"
   ]
  },
  {
   "cell_type": "code",
   "execution_count": 118,
   "metadata": {
    "deletable": false,
    "nbgrader": {
     "cell_type": "code",
     "checksum": "763c9b123c61d02adcf8e688c14b824e",
     "grade": false,
     "grade_id": "cell-a1d057ec06e84bdd",
     "locked": false,
     "schema_version": 3,
     "solution": true,
     "task": false
    }
   },
   "outputs": [],
   "source": [
    "### ╰( ͡° ͜ʖ ͡° )つ▬▬ι═══════  bzzzzzzzzzz\n",
    "# will the code be with you\n",
    "    \n",
    "# Подгрузите все необходимые для работы пакеты.\n",
    "\n",
    "# Если ваш код будет ругаться, что нет пакета lxml, установите его \n",
    "# Для этого выполните в одной из ячеек команду !pip3 install lxml\n",
    "from typing import List\n",
    "import requests\n",
    "from bs4 import BeautifulSoup\n",
    "\n",
    "import pandas as pd\n",
    "from tqdm.notebook import tqdm\n",
    "# your code here\n"
   ]
  },
  {
   "cell_type": "code",
   "execution_count": 2,
   "metadata": {},
   "outputs": [
    {
     "name": "stdout",
     "output_type": "stream",
     "text": [
      "Collecting lxml\n",
      "  Downloading lxml-4.6.3-cp37-cp37m-manylinux2014_x86_64.whl (6.3 MB)\n",
      "\u001b[K     |████████████████████████████████| 6.3 MB 21.1 MB/s eta 0:00:01\n",
      "\u001b[?25hInstalling collected packages: lxml\n",
      "Successfully installed lxml-4.6.3\n",
      "\u001b[33mWARNING: You are using pip version 20.2.4; however, version 21.2.1 is available.\n",
      "You should consider upgrading via the '/opt/conda/bin/python3 -m pip install --upgrade pip' command.\u001b[0m\n"
     ]
    }
   ],
   "source": [
    "!pip3 install lxml"
   ]
  },
  {
   "cell_type": "markdown",
   "metadata": {},
   "source": [
    "Прогуляйтесь на сайт http://books.toscrape.com/ и изучите его структуру.  \n",
    "\n",
    "\n",
    "# 1. Сбор ссылок на книги\n",
    "\n",
    "Напишите функцию `get_soup`, которая по ссылке возвращает html-разметку страницы в формате `bs4` "
   ]
  },
  {
   "cell_type": "code",
   "execution_count": 3,
   "metadata": {
    "deletable": false,
    "nbgrader": {
     "cell_type": "code",
     "checksum": "9c97f15308c26fba4787e1ed46be1762",
     "grade": false,
     "grade_id": "cell-bb3dd3de95e8b98e",
     "locked": false,
     "schema_version": 3,
     "solution": true,
     "task": false
    }
   },
   "outputs": [],
   "source": [
    "def get_page_soup(url_link):\n",
    "    \n",
    "    ### ╰( ͡° ͜ʖ ͡° )つ▬▬ι═══════  bzzzzzzzzzz\n",
    "    # will the code be with you\n",
    "    response = requests.get(url_link)\n",
    "    soup = BeautifulSoup(response.content)\n",
    "    return soup\n",
    "\n",
    "# your code here\n"
   ]
  },
  {
   "cell_type": "code",
   "execution_count": 4,
   "metadata": {},
   "outputs": [
    {
     "data": {
      "text/plain": [
       "'Books to Scrape'"
      ]
     },
     "execution_count": 4,
     "metadata": {},
     "output_type": "execute_result"
    }
   ],
   "source": [
    "main_url = 'http://books.toscrape.com/catalogue/'\n",
    "page_number = 5\n",
    "\n",
    "soup = get_page_soup(main_url + f'page-{page_number}.html')\n",
    "soup.find_all('a')[0].text"
   ]
  },
  {
   "cell_type": "code",
   "execution_count": 5,
   "metadata": {},
   "outputs": [
    {
     "data": {
      "text/plain": [
       "'http://books.toscrape.com/catalogue/page-5.html'"
      ]
     },
     "execution_count": 5,
     "metadata": {},
     "output_type": "execute_result"
    }
   ],
   "source": [
    "main_url + f'page-{page_number}.html'"
   ]
  },
  {
   "cell_type": "markdown",
   "metadata": {},
   "source": [
    "Напишите функцию `get_books_links`, которая находит в html-разметке страницы ссылки на странички с отдельными книгами. "
   ]
  },
  {
   "cell_type": "code",
   "execution_count": 33,
   "metadata": {},
   "outputs": [
    {
     "name": "stdout",
     "output_type": "stream",
     "text": [
      "princess-jellyfish-2-in-1-omnibus-vol-01-princess-jellyfish-2-in-1-omnibus-1_920/index.html\n",
      "princess-between-worlds-wide-awake-princess-5_919/index.html\n",
      "pop-gun-war-volume-1-gift_918/index.html\n",
      "political-suicide-missteps-peccadilloes-bad-calls-backroom-hijinx-sordid-pasts-rotten-breaks-and-just-plain-dumb-mistakes-in-the-annals-of-american-politics_917/index.html\n",
      "patience_916/index.html\n",
      "outcast-vol-1-a-darkness-surrounds-him-outcast-1_915/index.html\n",
      "orange-the-complete-collection-1-orange-the-complete-collection-1_914/index.html\n",
      "online-marketing-for-busy-authors-a-step-by-step-guide_913/index.html\n",
      "on-a-midnight-clear_912/index.html\n",
      "obsidian-lux-1_911/index.html\n",
      "my-paris-kitchen-recipes-and-stories_910/index.html\n",
      "masks-and-shadows_909/index.html\n",
      "mama-tried-traditional-italian-cooking-for-the-screwed-crude-vegan-and-tattooed_908/index.html\n",
      "lumberjanes-vol-2-friendship-to-the-max-lumberjanes-5-8_907/index.html\n",
      "lumberjanes-vol-1-beware-the-kitten-holy-lumberjanes-1-4_906/index.html\n",
      "lumberjanes-vol-3-a-terrible-plan-lumberjanes-9-12_905/index.html\n",
      "layered-baking-building-and-styling-spectacular-cakes_904/index.html\n",
      "judo-seven-steps-to-black-belt-an-introductory-guide-for-beginners_903/index.html\n",
      "join_902/index.html\n",
      "in-the-country-we-love-my-family-divided_901/index.html\n"
     ]
    }
   ],
   "source": [
    "for i in soup.find_all('article', {'class': 'product_pod'}):\n",
    "    print(i.a.get('href'))"
   ]
  },
  {
   "cell_type": "code",
   "execution_count": 34,
   "metadata": {
    "deletable": false,
    "nbgrader": {
     "cell_type": "code",
     "checksum": "f2bcfb757d246472754f42327e7f193d",
     "grade": false,
     "grade_id": "cell-565bf344d89fef43",
     "locked": false,
     "schema_version": 3,
     "solution": true,
     "task": false
    }
   },
   "outputs": [],
   "source": [
    "def get_book_links(page_soup) -> List[str]:\n",
    "    \n",
    "    ### ╰( ͡° ͜ʖ ͡° )つ▬▬ι═══════  bzzzzzzzzzz\n",
    "    # will the code be with you\n",
    "    links = []\n",
    "    for i in soup.find_all('article', {'class': 'product_pod'}):\n",
    "        links.append(i.a.get('href'))\n",
    "    return links\n",
    "\n",
    "# your code here\n"
   ]
  },
  {
   "cell_type": "markdown",
   "metadata": {},
   "source": [
    "С помощью цикла соберите в лист `book_links` первые 200 книг."
   ]
  },
  {
   "cell_type": "code",
   "execution_count": 54,
   "metadata": {
    "deletable": false,
    "nbgrader": {
     "cell_type": "code",
     "checksum": "25cc39adb04c7c00c5e117837d9c606d",
     "grade": false,
     "grade_id": "cell-883211fab847e672",
     "locked": false,
     "schema_version": 3,
     "solution": true,
     "task": false
    }
   },
   "outputs": [
    {
     "data": {
      "text/plain": [
       "['a-light-in-the-attic_1000/index.html',\n",
       " 'tipping-the-velvet_999/index.html',\n",
       " 'soumission_998/index.html',\n",
       " 'sharp-objects_997/index.html',\n",
       " 'sapiens-a-brief-history-of-humankind_996/index.html',\n",
       " 'the-requiem-red_995/index.html',\n",
       " 'the-dirty-little-secrets-of-getting-your-dream-job_994/index.html',\n",
       " 'the-coming-woman-a-novel-based-on-the-life-of-the-infamous-feminist-victoria-woodhull_993/index.html',\n",
       " 'the-boys-in-the-boat-nine-americans-and-their-epic-quest-for-gold-at-the-1936-berlin-olympics_992/index.html',\n",
       " 'the-black-maria_991/index.html',\n",
       " 'starving-hearts-triangular-trade-trilogy-1_990/index.html',\n",
       " 'shakespeares-sonnets_989/index.html',\n",
       " 'set-me-free_988/index.html',\n",
       " 'scott-pilgrims-precious-little-life-scott-pilgrim-1_987/index.html',\n",
       " 'rip-it-up-and-start-again_986/index.html',\n",
       " 'our-band-could-be-your-life-scenes-from-the-american-indie-underground-1981-1991_985/index.html',\n",
       " 'olio_984/index.html',\n",
       " 'mesaerion-the-best-science-fiction-stories-1800-1849_983/index.html',\n",
       " 'libertarianism-for-beginners_982/index.html',\n",
       " 'its-only-the-himalayas_981/index.html',\n",
       " 'in-her-wake_980/index.html',\n",
       " 'how-music-works_979/index.html',\n",
       " 'foolproof-preserving-a-guide-to-small-batch-jams-jellies-pickles-condiments-and-more-a-foolproof-guide-to-making-small-batch-jams-jellies-pickles-condiments-and-more_978/index.html',\n",
       " 'chase-me-paris-nights-2_977/index.html',\n",
       " 'black-dust_976/index.html',\n",
       " 'birdsong-a-story-in-pictures_975/index.html',\n",
       " 'americas-cradle-of-quarterbacks-western-pennsylvanias-football-factory-from-johnny-unitas-to-joe-montana_974/index.html',\n",
       " 'aladdin-and-his-wonderful-lamp_973/index.html',\n",
       " 'worlds-elsewhere-journeys-around-shakespeares-globe_972/index.html',\n",
       " 'wall-and-piece_971/index.html',\n",
       " 'the-four-agreements-a-practical-guide-to-personal-freedom_970/index.html',\n",
       " 'the-five-love-languages-how-to-express-heartfelt-commitment-to-your-mate_969/index.html',\n",
       " 'the-elephant-tree_968/index.html',\n",
       " 'the-bear-and-the-piano_967/index.html',\n",
       " 'sophies-world_966/index.html',\n",
       " 'penny-maybe_965/index.html',\n",
       " 'maude-1883-1993she-grew-up-with-the-country_964/index.html',\n",
       " 'in-a-dark-dark-wood_963/index.html',\n",
       " 'behind-closed-doors_962/index.html',\n",
       " 'you-cant-bury-them-all-poems_961/index.html',\n",
       " 'slow-states-of-collapse-poems_960/index.html',\n",
       " 'reasons-to-stay-alive_959/index.html',\n",
       " 'private-paris-private-10_958/index.html',\n",
       " 'higherselfie-wake-up-your-life-free-your-soul-find-your-tribe_957/index.html',\n",
       " 'without-borders-wanderlove-1_956/index.html',\n",
       " 'when-we-collided_955/index.html',\n",
       " 'we-love-you-charlie-freeman_954/index.html',\n",
       " 'untitled-collection-sabbath-poems-2014_953/index.html',\n",
       " 'unseen-city-the-majesty-of-pigeons-the-discreet-charm-of-snails-other-wonders-of-the-urban-wilderness_952/index.html',\n",
       " 'unicorn-tracks_951/index.html',\n",
       " 'unbound-how-eight-technologies-made-us-human-transformed-society-and-brought-our-world-to-the-brink_950/index.html',\n",
       " 'tsubasa-world-chronicle-2-tsubasa-world-chronicle-2_949/index.html',\n",
       " 'throwing-rocks-at-the-google-bus-how-growth-became-the-enemy-of-prosperity_948/index.html',\n",
       " 'this-one-summer_947/index.html',\n",
       " 'thirst_946/index.html',\n",
       " 'the-torch-is-passed-a-harding-family-story_945/index.html',\n",
       " 'the-secret-of-dreadwillow-carse_944/index.html',\n",
       " 'the-pioneer-woman-cooks-dinnertime-comfort-classics-freezer-food-16-minute-meals-and-other-delicious-ways-to-solve-supper_943/index.html',\n",
       " 'the-past-never-ends_942/index.html',\n",
       " 'the-natural-history-of-us-the-fine-art-of-pretending-2_941/index.html',\n",
       " 'the-nameless-city-the-nameless-city-1_940/index.html',\n",
       " 'the-murder-that-never-was-forensic-instincts-5_939/index.html',\n",
       " 'the-most-perfect-thing-inside-and-outside-a-birds-egg_938/index.html',\n",
       " 'the-mindfulness-and-acceptance-workbook-for-anxiety-a-guide-to-breaking-free-from-anxiety-phobias-and-worry-using-acceptance-and-commitment-therapy_937/index.html',\n",
       " 'the-life-changing-magic-of-tidying-up-the-japanese-art-of-decluttering-and-organizing_936/index.html',\n",
       " 'the-inefficiency-assassin-time-management-tactics-for-working-smarter-not-longer_935/index.html',\n",
       " 'the-gutsy-girl-escapades-for-your-life-of-epic-adventure_934/index.html',\n",
       " 'the-electric-pencil-drawings-from-inside-state-hospital-no-3_933/index.html',\n",
       " 'the-death-of-humanity-and-the-case-for-life_932/index.html',\n",
       " 'the-bulletproof-diet-lose-up-to-a-pound-a-day-reclaim-energy-and-focus-upgrade-your-life_931/index.html',\n",
       " 'the-art-forger_930/index.html',\n",
       " 'the-age-of-genius-the-seventeenth-century-and-the-birth-of-the-modern-mind_929/index.html',\n",
       " 'the-activists-tao-te-ching-ancient-advice-for-a-modern-revolution_928/index.html',\n",
       " 'spark-joy-an-illustrated-master-class-on-the-art-of-organizing-and-tidying-up_927/index.html',\n",
       " 'soul-reader_926/index.html',\n",
       " 'security_925/index.html',\n",
       " 'saga-volume-6-saga-collected-editions-6_924/index.html',\n",
       " 'saga-volume-5-saga-collected-editions-5_923/index.html',\n",
       " 'reskilling-america-learning-to-labor-in-the-twenty-first-century_922/index.html',\n",
       " 'rat-queens-vol-3-demons-rat-queens-collected-editions-11-15_921/index.html',\n",
       " 'princess-jellyfish-2-in-1-omnibus-vol-01-princess-jellyfish-2-in-1-omnibus-1_920/index.html',\n",
       " 'princess-between-worlds-wide-awake-princess-5_919/index.html',\n",
       " 'pop-gun-war-volume-1-gift_918/index.html',\n",
       " 'political-suicide-missteps-peccadilloes-bad-calls-backroom-hijinx-sordid-pasts-rotten-breaks-and-just-plain-dumb-mistakes-in-the-annals-of-american-politics_917/index.html',\n",
       " 'patience_916/index.html',\n",
       " 'outcast-vol-1-a-darkness-surrounds-him-outcast-1_915/index.html',\n",
       " 'orange-the-complete-collection-1-orange-the-complete-collection-1_914/index.html',\n",
       " 'online-marketing-for-busy-authors-a-step-by-step-guide_913/index.html',\n",
       " 'on-a-midnight-clear_912/index.html',\n",
       " 'obsidian-lux-1_911/index.html',\n",
       " 'my-paris-kitchen-recipes-and-stories_910/index.html',\n",
       " 'masks-and-shadows_909/index.html',\n",
       " 'mama-tried-traditional-italian-cooking-for-the-screwed-crude-vegan-and-tattooed_908/index.html',\n",
       " 'lumberjanes-vol-2-friendship-to-the-max-lumberjanes-5-8_907/index.html',\n",
       " 'lumberjanes-vol-1-beware-the-kitten-holy-lumberjanes-1-4_906/index.html',\n",
       " 'lumberjanes-vol-3-a-terrible-plan-lumberjanes-9-12_905/index.html',\n",
       " 'layered-baking-building-and-styling-spectacular-cakes_904/index.html',\n",
       " 'judo-seven-steps-to-black-belt-an-introductory-guide-for-beginners_903/index.html',\n",
       " 'join_902/index.html',\n",
       " 'in-the-country-we-love-my-family-divided_901/index.html',\n",
       " 'immunity-how-elie-metchnikoff-changed-the-course-of-modern-medicine_900/index.html',\n",
       " 'i-hate-fairyland-vol-1-madly-ever-after-i-hate-fairyland-compilations-1-5_899/index.html',\n",
       " 'i-am-a-hero-omnibus-volume-1_898/index.html',\n",
       " 'how-to-be-miserable-40-strategies-you-already-use_897/index.html',\n",
       " 'her-backup-boyfriend-the-sorensen-family-1_896/index.html',\n",
       " 'giant-days-vol-2-giant-days-5-8_895/index.html',\n",
       " 'forever-and-forever-the-courtship-of-henry-longfellow-and-fanny-appleton_894/index.html',\n",
       " 'first-and-first-five-boroughs-3_893/index.html',\n",
       " 'fifty-shades-darker-fifty-shades-2_892/index.html',\n",
       " 'everydata-the-misinformation-hidden-in-the-little-data-you-consume-every-day_891/index.html',\n",
       " 'dont-be-a-jerk-and-other-practical-advice-from-dogen-japans-greatest-zen-master_890/index.html',\n",
       " 'danganronpa-volume-1_889/index.html',\n",
       " 'crown-of-midnight-throne-of-glass-2_888/index.html',\n",
       " 'codename-baboushka-volume-1-the-conclave-of-death_887/index.html',\n",
       " 'camp-midnight_886/index.html',\n",
       " 'call-the-nurse-true-stories-of-a-country-nurse-on-a-scottish-isle_885/index.html',\n",
       " 'burning_884/index.html',\n",
       " 'bossypants_883/index.html',\n",
       " 'bitch-planet-vol-1-extraordinary-machine-bitch-planet-collected-editions_882/index.html',\n",
       " 'avatar-the-last-airbender-smoke-and-shadow-part-3-smoke-and-shadow-3_881/index.html',\n",
       " 'algorithms-to-live-by-the-computer-science-of-human-decisions_880/index.html',\n",
       " 'a-world-of-flavor-your-gluten-free-passport_879/index.html',\n",
       " 'a-piece-of-sky-a-grain-of-rice-a-memoir-in-four-meditations_878/index.html',\n",
       " 'a-murder-in-time_877/index.html',\n",
       " 'a-flight-of-arrows-the-pathfinders-2_876/index.html',\n",
       " 'a-fierce-and-subtle-poison_875/index.html',\n",
       " 'a-court-of-thorns-and-roses-a-court-of-thorns-and-roses-1_874/index.html',\n",
       " 'unqualified-how-god-uses-broken-people-to-do-big-things_873/index.html',\n",
       " 'you-are-what-you-love-the-spiritual-power-of-habit_872/index.html',\n",
       " 'william-shakespeares-star-wars-verily-a-new-hope-william-shakespeares-star-wars-4_871/index.html',\n",
       " 'tuesday-nights-in-1980_870/index.html',\n",
       " 'tracing-numbers-on-a-train_869/index.html',\n",
       " 'throne-of-glass-throne-of-glass-1_868/index.html',\n",
       " 'thomas-jefferson-and-the-tripoli-pirates-the-forgotten-war-that-changed-american-history_867/index.html',\n",
       " 'thirteen-reasons-why_866/index.html',\n",
       " 'the-white-cat-and-the-monk-a-retelling-of-the-poem-pangur-ban_865/index.html',\n",
       " 'the-wedding-dress_864/index.html',\n",
       " 'the-vacationers_863/index.html',\n",
       " 'the-third-wave-an-entrepreneurs-vision-of-the-future_862/index.html',\n",
       " 'the-stranger_861/index.html',\n",
       " 'the-shadow-hero-the-shadow-hero_860/index.html',\n",
       " 'the-secret-the-secret-1_859/index.html',\n",
       " 'the-regional-office-is-under-attack_858/index.html',\n",
       " 'the-psychopath-test-a-journey-through-the-madness-industry_857/index.html',\n",
       " 'the-project_856/index.html',\n",
       " 'the-power-of-now-a-guide-to-spiritual-enlightenment_855/index.html',\n",
       " 'the-omnivores-dilemma-a-natural-history-of-four-meals_854/index.html',\n",
       " 'the-nerdy-nummies-cookbook-sweet-treats-for-the-geek-in-all-of-us_853/index.html',\n",
       " 'the-murder-of-roger-ackroyd-hercule-poirot-4_852/index.html',\n",
       " 'the-mistake-off-campus-2_851/index.html',\n",
       " 'the-matchmakers-playbook-wingmen-inc-1_850/index.html',\n",
       " 'the-love-and-lemons-cookbook-an-apple-to-zucchini-celebration-of-impromptu-cooking_849/index.html',\n",
       " 'the-long-shadow-of-small-ghosts-murder-and-memory-in-an-american-city_848/index.html',\n",
       " 'the-kite-runner_847/index.html',\n",
       " 'the-house-by-the-lake_846/index.html',\n",
       " 'the-glittering-court-the-glittering-court-1_845/index.html',\n",
       " 'the-girl-on-the-train_844/index.html',\n",
       " 'the-genius-of-birds_843/index.html',\n",
       " 'the-emerald-mystery_842/index.html',\n",
       " 'the-cookies-cups-cookbook-125-sweet-savory-recipes-reminding-you-to-always-eat-dessert-first_841/index.html',\n",
       " 'the-bridge-to-consciousness-im-writing-the-bridge-between-science-and-our-old-and-new-beliefs_840/index.html',\n",
       " 'the-artists-way-a-spiritual-path-to-higher-creativity_839/index.html',\n",
       " 'the-art-of-war_838/index.html',\n",
       " 'the-argonauts_837/index.html',\n",
       " 'the-10-entrepreneur-live-your-startup-dream-without-quitting-your-day-job_836/index.html',\n",
       " 'suddenly-in-love-lake-haven-1_835/index.html',\n",
       " 'something-more-than-this_834/index.html',\n",
       " 'soft-apocalypse_833/index.html',\n",
       " 'so-youve-been-publicly-shamed_832/index.html',\n",
       " 'shoe-dog-a-memoir-by-the-creator-of-nike_831/index.html',\n",
       " 'shobu-samurai-project-aryoku-3_830/index.html',\n",
       " 'secrets-and-lace-fatal-hearts-1_829/index.html',\n",
       " 'scarlett-epstein-hates-it-here_828/index.html',\n",
       " 'romero-and-juliet-a-tragic-tale-of-love-and-zombies_827/index.html',\n",
       " 'redeeming-love_826/index.html',\n",
       " 'poses-for-artists-volume-1-dynamic-and-sitting-poses-an-essential-reference-for-figure-drawing-and-the-human-form_825/index.html',\n",
       " 'poems-that-make-grown-women-cry_824/index.html',\n",
       " 'nightingale-sing_823/index.html',\n",
       " 'night-sky-with-exit-wounds_822/index.html',\n",
       " 'mrs-houdini_821/index.html',\n",
       " 'modern-romance_820/index.html',\n",
       " 'miss-peregrines-home-for-peculiar-children-miss-peregrines-peculiar-children-1_819/index.html',\n",
       " 'louisa-the-extraordinary-life-of-mrs-adams_818/index.html',\n",
       " 'little-red_817/index.html',\n",
       " 'library-of-souls-miss-peregrines-peculiar-children-3_816/index.html',\n",
       " 'large-print-heart-of-the-pride_815/index.html',\n",
       " 'i-had-a-nice-time-and-other-lies-how-to-find-love-sht-like-that_814/index.html',\n",
       " 'hollow-city-miss-peregrines-peculiar-children-2_813/index.html',\n",
       " 'grumbles_812/index.html',\n",
       " 'full-moon-over-noahs-ark-an-odyssey-to-mount-ararat-and-beyond_811/index.html',\n",
       " 'frostbite-vampire-academy-2_810/index.html',\n",
       " 'follow-you-home_809/index.html',\n",
       " 'first-steps-for-new-christians-print-edition_808/index.html',\n",
       " 'finders-keepers-bill-hodges-trilogy-2_807/index.html',\n",
       " 'fables-vol-1-legends-in-exile-fables-1_806/index.html',\n",
       " 'eureka-trivia-60_805/index.html',\n",
       " 'drive-the-surprising-truth-about-what-motivates-us_804/index.html',\n",
       " 'done-rubbed-out-reightman-bailey-1_803/index.html',\n",
       " 'doing-it-over-most-likely-to-1_802/index.html',\n",
       " 'deliciously-ella-every-day-quick-and-easy-recipes-for-gluten-free-snacks-packed-lunches-and-simple-meals_801/index.html']"
      ]
     },
     "execution_count": 54,
     "metadata": {},
     "output_type": "execute_result"
    }
   ],
   "source": [
    "### ╰( ͡° ͜ʖ ͡° )つ▬▬ι═══════  bzzzzzzzzzz\n",
    "# will the code be with you\n",
    "\n",
    "book_links = []\n",
    "\n",
    "for num in range(1, 11):\n",
    "    soup = get_page_soup(main_url + f'page-{num}.html')\n",
    "    book_links.extend(get_book_links(soup))\n",
    "\n",
    "# your code here\n",
    "book_links"
   ]
  },
  {
   "cell_type": "code",
   "execution_count": 55,
   "metadata": {},
   "outputs": [
    {
     "name": "stdout",
     "output_type": "stream",
     "text": [
      "\n",
      "\n",
      "\n",
      "\n",
      "\n",
      "  \n",
      "\n",
      "\n",
      "    All products | Books to Scrape - Sandbox\n",
      "\n",
      "\n",
      "\n",
      "\n",
      "\n",
      "\n",
      "\n",
      "\n",
      "\n",
      "\n",
      "\n",
      "\n",
      "\n",
      "\n",
      "\n",
      "\n",
      "\n",
      "Books to Scrape We love being scraped!\n",
      "\n",
      "\n",
      "\n",
      "\n",
      "\n",
      "\n",
      "\n",
      "\n",
      "Home\n",
      "\n",
      "All products\n",
      "\n",
      "\n",
      "\n",
      "\n",
      "\n",
      "\n",
      "\n",
      "\n",
      "\n",
      "                            \n",
      "                                Books\n",
      "                            \n",
      "                        \n",
      "\n",
      "\n",
      "\n",
      "                            \n",
      "\n"
     ]
    }
   ],
   "source": [
    "print(get_page_soup(main_url + 'page-{}.html'.format(page_number)).text[:300])"
   ]
  },
  {
   "cell_type": "code",
   "execution_count": 56,
   "metadata": {
    "deletable": false,
    "editable": false,
    "nbgrader": {
     "cell_type": "code",
     "checksum": "5612dea4ceb41e455f47a77f81d6e97c",
     "grade": true,
     "grade_id": "cell-fb6eac2f95e1147e",
     "locked": true,
     "points": 1,
     "schema_version": 3,
     "solution": false,
     "task": false
    }
   },
   "outputs": [],
   "source": [
    "# проверка, что задание решено корректно\n",
    "assert len(book_links) == 200"
   ]
  },
  {
   "cell_type": "markdown",
   "metadata": {},
   "source": [
    "# 2. Сбор информации о книгах \n",
    "\n",
    "Напишите несколько небольших функций, которые собирают различные данные об одной книге, необходимые для ответов на вопросы ниже. Информацию о книге собирайте в виде словаря вида \n",
    "\n",
    "```\n",
    "{ 'name': 'Преступление и наказание', 'rating': 1, 'description': 'ужасно депрессивная книга', ... }\n",
    "\n",
    "```"
   ]
  },
  {
   "cell_type": "code",
   "execution_count": 57,
   "metadata": {},
   "outputs": [
    {
     "data": {
      "text/plain": [
       "'http://books.toscrape.com/catalogue/a-light-in-the-attic_1000/index.html'"
      ]
     },
     "execution_count": 57,
     "metadata": {},
     "output_type": "execute_result"
    }
   ],
   "source": [
    "main_url + book_links[0]"
   ]
  },
  {
   "cell_type": "code",
   "execution_count": 129,
   "metadata": {
    "deletable": false,
    "nbgrader": {
     "cell_type": "code",
     "checksum": "defea54e7bc7d4545e27bbd019f41ae2",
     "grade": false,
     "grade_id": "cell-a3b3b4c91addb471",
     "locked": false,
     "schema_version": 3,
     "solution": true,
     "task": false
    }
   },
   "outputs": [],
   "source": [
    "### ╰( ͡° ͜ʖ ͡° )つ▬▬ι═══════  bzzzzzzzzzz\n",
    "# will the code be with you\n",
    "\n",
    "# your code here\n",
    "def get_info_from_book(book_soup):\n",
    "    ratings = {\n",
    "        'One': 1,\n",
    "        'Two': 2,\n",
    "        'Three': 3, \n",
    "        'Four': 4,\n",
    "        'Five': 5\n",
    "    }\n",
    "    rating = ratings[list(map(lambda x: x.get('class'), book_soup.find_all('p')))[2][1]]\n",
    "    \n",
    "    \n",
    "    stats = book_soup.find('table', {'class': 'table table-striped'}).find_all('td')\n",
    "    try:\n",
    "        price = float(stats[2].text[1:])\n",
    "    except:\n",
    "        price = None\n",
    "        \n",
    "    try:\n",
    "        tax = float(stats[4].text[1:])\n",
    "    except:\n",
    "        tax = None\n",
    "        \n",
    "    if len(book_soup.find_all('div', {'class': 'sub-header', 'id': 'product_description'})) == 0:\n",
    "        description = None\n",
    "    else:\n",
    "        description = book_soup.find_all('p')[3].text\n",
    "    return {\n",
    "        'rating': rating,\n",
    "        'price': price,\n",
    "        'tax': tax,\n",
    "        'description': description\n",
    "           }"
   ]
  },
  {
   "cell_type": "markdown",
   "metadata": {},
   "source": [
    "Пройдите циклом по всем сыслкам из списка `book_links` и соберите данные о книгах в вектор `book_info`. "
   ]
  },
  {
   "cell_type": "code",
   "execution_count": 130,
   "metadata": {},
   "outputs": [
    {
     "data": {
      "application/vnd.jupyter.widget-view+json": {
       "model_id": "d23ad53ee609451c853769fe38a4979b",
       "version_major": 2,
       "version_minor": 0
      },
      "text/plain": [
       "HBox(children=(FloatProgress(value=0.0, max=200.0), HTML(value='')))"
      ]
     },
     "metadata": {},
     "output_type": "display_data"
    },
    {
     "name": "stdout",
     "output_type": "stream",
     "text": [
      "\n"
     ]
    }
   ],
   "source": [
    "data = pd.DataFrame({})\n",
    "for book in tqdm(book_links):\n",
    "    res = requests.get(main_url + book)\n",
    "    sp = BeautifulSoup(res.content)\n",
    "    data = data.append(get_info_from_book(sp), ignore_index=True)"
   ]
  },
  {
   "cell_type": "code",
   "execution_count": 133,
   "metadata": {
    "deletable": false,
    "nbgrader": {
     "cell_type": "code",
     "checksum": "418e8b0cadc167a34bd0937d72934bb4",
     "grade": false,
     "grade_id": "cell-240b7f956c433b45",
     "locked": false,
     "schema_version": 3,
     "solution": true,
     "task": false
    }
   },
   "outputs": [
    {
     "data": {
      "application/vnd.jupyter.widget-view+json": {
       "model_id": "30f3dcbfa6ec40139582d2f2c07c07ae",
       "version_major": 2,
       "version_minor": 0
      },
      "text/plain": [
       "HBox(children=(FloatProgress(value=0.0, max=200.0), HTML(value='')))"
      ]
     },
     "metadata": {},
     "output_type": "display_data"
    },
    {
     "name": "stdout",
     "output_type": "stream",
     "text": [
      "\n"
     ]
    }
   ],
   "source": [
    "### ╰( ͡° ͜ʖ ͡° )つ▬▬ι═══════  bzzzzzzzzzz\n",
    "# will the code be with you\n",
    "\n",
    "book_info = []\n",
    "\n",
    "for book in tqdm(book_links):\n",
    "    res = requests.get(main_url + book)\n",
    "    sp = BeautifulSoup(res.content)\n",
    "    book_info.append(get_info_from_book(sp))\n",
    "\n",
    "# your code here\n"
   ]
  },
  {
   "cell_type": "markdown",
   "metadata": {},
   "source": [
    "Превратим вектор из информации в полноценную таблицу с данными. "
   ]
  },
  {
   "cell_type": "code",
   "execution_count": 134,
   "metadata": {},
   "outputs": [
    {
     "name": "stdout",
     "output_type": "stream",
     "text": [
      "(200, 4)\n"
     ]
    },
    {
     "data": {
      "text/html": [
       "<div>\n",
       "<style scoped>\n",
       "    .dataframe tbody tr th:only-of-type {\n",
       "        vertical-align: middle;\n",
       "    }\n",
       "\n",
       "    .dataframe tbody tr th {\n",
       "        vertical-align: top;\n",
       "    }\n",
       "\n",
       "    .dataframe thead th {\n",
       "        text-align: right;\n",
       "    }\n",
       "</style>\n",
       "<table border=\"1\" class=\"dataframe\">\n",
       "  <thead>\n",
       "    <tr style=\"text-align: right;\">\n",
       "      <th></th>\n",
       "      <th>rating</th>\n",
       "      <th>price</th>\n",
       "      <th>tax</th>\n",
       "      <th>description</th>\n",
       "    </tr>\n",
       "  </thead>\n",
       "  <tbody>\n",
       "    <tr>\n",
       "      <th>0</th>\n",
       "      <td>3</td>\n",
       "      <td>51.77</td>\n",
       "      <td>0.0</td>\n",
       "      <td>It's hard to imagine a world without A Light i...</td>\n",
       "    </tr>\n",
       "    <tr>\n",
       "      <th>1</th>\n",
       "      <td>1</td>\n",
       "      <td>53.74</td>\n",
       "      <td>0.0</td>\n",
       "      <td>\"Erotic and absorbing...Written with starling ...</td>\n",
       "    </tr>\n",
       "    <tr>\n",
       "      <th>2</th>\n",
       "      <td>1</td>\n",
       "      <td>50.10</td>\n",
       "      <td>0.0</td>\n",
       "      <td>Dans une France assez proche de la nôtre, un h...</td>\n",
       "    </tr>\n",
       "    <tr>\n",
       "      <th>3</th>\n",
       "      <td>4</td>\n",
       "      <td>47.82</td>\n",
       "      <td>0.0</td>\n",
       "      <td>WICKED above her hipbone, GIRL across her hear...</td>\n",
       "    </tr>\n",
       "    <tr>\n",
       "      <th>4</th>\n",
       "      <td>5</td>\n",
       "      <td>54.23</td>\n",
       "      <td>0.0</td>\n",
       "      <td>From a renowned historian comes a groundbreaki...</td>\n",
       "    </tr>\n",
       "  </tbody>\n",
       "</table>\n",
       "</div>"
      ],
      "text/plain": [
       "   rating  price  tax                                        description\n",
       "0       3  51.77  0.0  It's hard to imagine a world without A Light i...\n",
       "1       1  53.74  0.0  \"Erotic and absorbing...Written with starling ...\n",
       "2       1  50.10  0.0  Dans une France assez proche de la nôtre, un h...\n",
       "3       4  47.82  0.0  WICKED above her hipbone, GIRL across her hear...\n",
       "4       5  54.23  0.0  From a renowned historian comes a groundbreaki..."
      ]
     },
     "execution_count": 134,
     "metadata": {},
     "output_type": "execute_result"
    }
   ],
   "source": [
    "book_info_df = pd.DataFrame(book_info)\n",
    "print(book_info_df.shape)\n",
    "book_info_df.head() "
   ]
  },
  {
   "cell_type": "markdown",
   "metadata": {},
   "source": [
    "Теперь, когда все данные собраны, настало время ответить на несколько вопросов:"
   ]
  },
  {
   "cell_type": "markdown",
   "metadata": {},
   "source": [
    "- У скольких книг отсутствует описание? Положите число, получившееся в результате ваших манипуляций с таблицей, в переменную `ans1`. "
   ]
  },
  {
   "cell_type": "code",
   "execution_count": 138,
   "metadata": {},
   "outputs": [
    {
     "data": {
      "text/plain": [
       "1"
      ]
     },
     "execution_count": 138,
     "metadata": {},
     "output_type": "execute_result"
    }
   ],
   "source": [
    "book_info_df.description.isna().sum()"
   ]
  },
  {
   "cell_type": "code",
   "execution_count": 139,
   "metadata": {
    "deletable": false,
    "nbgrader": {
     "cell_type": "code",
     "checksum": "0a54c60fbbab43a250f22bba8ae6f62d",
     "grade": false,
     "grade_id": "cell-818d91b73f034e1a",
     "locked": false,
     "schema_version": 3,
     "solution": true,
     "task": false
    }
   },
   "outputs": [],
   "source": [
    "### ╰( ͡° ͜ʖ ͡° )つ▬▬ι═══════  bzzzzzzzzzz\n",
    "# will the code be with you\n",
    "\n",
    "ans1 = book_info_df.description.isna().sum() \n",
    "\n",
    "# your code here\n"
   ]
  },
  {
   "cell_type": "code",
   "execution_count": 140,
   "metadata": {
    "deletable": false,
    "editable": false,
    "nbgrader": {
     "cell_type": "code",
     "checksum": "9f491fbdefb015ad971b51368121c8f2",
     "grade": true,
     "grade_id": "cell-4b9e7e39b8921ba5",
     "locked": true,
     "points": 1,
     "schema_version": 3,
     "solution": false,
     "task": false
    }
   },
   "outputs": [],
   "source": [
    "# проверка, что задание решено корректно"
   ]
  },
  {
   "cell_type": "markdown",
   "metadata": {},
   "source": [
    "- Сколько раз в данных встречается налог, больший нуля?  Положите число, получившееся в результате ваших манипуляций с таблицей, в переменную `ans2`. "
   ]
  },
  {
   "cell_type": "code",
   "execution_count": 142,
   "metadata": {},
   "outputs": [
    {
     "data": {
      "text/plain": [
       "0"
      ]
     },
     "execution_count": 142,
     "metadata": {},
     "output_type": "execute_result"
    }
   ],
   "source": [
    "(book_info_df.tax > 0).sum()"
   ]
  },
  {
   "cell_type": "code",
   "execution_count": 143,
   "metadata": {
    "deletable": false,
    "nbgrader": {
     "cell_type": "code",
     "checksum": "881cb4d0c1333101e6756e8d38221100",
     "grade": false,
     "grade_id": "cell-be342205fa946a79",
     "locked": false,
     "schema_version": 3,
     "solution": true,
     "task": false
    }
   },
   "outputs": [],
   "source": [
    "### ╰( ͡° ͜ʖ ͡° )つ▬▬ι═══════  bzzzzzzzzzz\n",
    "# will the code be with you\n",
    "\n",
    "ans2 = (book_info_df.tax > 0).sum() \n",
    "\n",
    "# your code here\n"
   ]
  },
  {
   "cell_type": "code",
   "execution_count": 144,
   "metadata": {
    "deletable": false,
    "editable": false,
    "nbgrader": {
     "cell_type": "code",
     "checksum": "cd049541de0eb64f029f0ead81715e8e",
     "grade": true,
     "grade_id": "cell-c3b1e5331d25a061",
     "locked": true,
     "points": 0,
     "schema_version": 3,
     "solution": false,
     "task": false
    }
   },
   "outputs": [],
   "source": [
    "# проверка, что задание решено корректно"
   ]
  },
  {
   "cell_type": "markdown",
   "metadata": {},
   "source": [
    "- Сколько раз рейтинг книги составлял пять звезд? Положите число, получившееся в результате ваших манипуляций с таблицей, в переменную `ans3`. "
   ]
  },
  {
   "cell_type": "code",
   "execution_count": 148,
   "metadata": {},
   "outputs": [
    {
     "data": {
      "text/plain": [
       "37"
      ]
     },
     "execution_count": 148,
     "metadata": {},
     "output_type": "execute_result"
    }
   ],
   "source": [
    "(book_info_df.rating == 5).sum()"
   ]
  },
  {
   "cell_type": "code",
   "execution_count": 149,
   "metadata": {
    "deletable": false,
    "nbgrader": {
     "cell_type": "code",
     "checksum": "9bed9ee4d147130e84c82fddec2f3764",
     "grade": false,
     "grade_id": "cell-a904ff9c737f3bae",
     "locked": false,
     "schema_version": 3,
     "solution": true,
     "task": false
    }
   },
   "outputs": [],
   "source": [
    "### ╰( ͡° ͜ʖ ͡° )つ▬▬ι═══════  bzzzzzzzzzz\n",
    "# will the code be with you\n",
    "\n",
    "ans3 = (book_info_df.rating == 5).sum() \n",
    "\n",
    "# your code here\n"
   ]
  },
  {
   "cell_type": "code",
   "execution_count": 150,
   "metadata": {
    "deletable": false,
    "editable": false,
    "nbgrader": {
     "cell_type": "code",
     "checksum": "78c9f492a04cbbd857b2392ae47d0183",
     "grade": true,
     "grade_id": "cell-ac096895d662ffc8",
     "locked": true,
     "points": 1,
     "schema_version": 3,
     "solution": false,
     "task": false
    }
   },
   "outputs": [],
   "source": [
    "# проверка, что задание решено корректно\n"
   ]
  },
  {
   "cell_type": "markdown",
   "metadata": {},
   "source": [
    "- Какова средняя цена книг (без учета налога)? Положите число, получившееся в результате ваших манипуляций с таблицей, в переменную `ans4`. "
   ]
  },
  {
   "cell_type": "code",
   "execution_count": 152,
   "metadata": {},
   "outputs": [
    {
     "data": {
      "text/plain": [
       "34.79624999999999"
      ]
     },
     "execution_count": 152,
     "metadata": {},
     "output_type": "execute_result"
    }
   ],
   "source": [
    "(book_info_df.price).mean()"
   ]
  },
  {
   "cell_type": "code",
   "execution_count": 153,
   "metadata": {
    "deletable": false,
    "nbgrader": {
     "cell_type": "code",
     "checksum": "2ba621a61f0c0e5e50a4c01253676973",
     "grade": false,
     "grade_id": "cell-60c854eb83c66df8",
     "locked": false,
     "schema_version": 3,
     "solution": true,
     "task": false
    }
   },
   "outputs": [],
   "source": [
    "### ╰( ͡° ͜ʖ ͡° )つ▬▬ι═══════  bzzzzzzzzzz\n",
    "# will the code be with you\n",
    "\n",
    "ans4 = (book_info_df.price).mean() \n",
    "\n",
    "# your code here\n"
   ]
  },
  {
   "cell_type": "code",
   "execution_count": 154,
   "metadata": {
    "deletable": false,
    "editable": false,
    "nbgrader": {
     "cell_type": "code",
     "checksum": "16f95015c013e7a27c8890721fd6d7c5",
     "grade": true,
     "grade_id": "cell-36295b0dc83ec0ad",
     "locked": true,
     "points": 1,
     "schema_version": 3,
     "solution": false,
     "task": false
    }
   },
   "outputs": [],
   "source": [
    "# проверка, что задание решено корректно\n"
   ]
  },
  {
   "cell_type": "markdown",
   "metadata": {},
   "source": [
    " "
   ]
  }
 ],
 "metadata": {
  "kernelspec": {
   "display_name": "Python 3",
   "language": "python",
   "name": "python3"
  },
  "language_info": {
   "codemirror_mode": {
    "name": "ipython",
    "version": 3
   },
   "file_extension": ".py",
   "mimetype": "text/x-python",
   "name": "python",
   "nbconvert_exporter": "python",
   "pygments_lexer": "ipython3",
   "version": "3.7.6"
  },
  "varInspector": {
   "cols": {
    "lenName": 16,
    "lenType": 16,
    "lenVar": 40
   },
   "kernels_config": {
    "python": {
     "delete_cmd_postfix": "",
     "delete_cmd_prefix": "del ",
     "library": "var_list.py",
     "varRefreshCmd": "print(var_dic_list())"
    },
    "r": {
     "delete_cmd_postfix": ") ",
     "delete_cmd_prefix": "rm(",
     "library": "var_list.r",
     "varRefreshCmd": "cat(var_dic_list()) "
    }
   },
   "types_to_exclude": [
    "module",
    "function",
    "builtin_function_or_method",
    "instance",
    "_Feature"
   ],
   "window_display": false
  }
 },
 "nbformat": 4,
 "nbformat_minor": 2
}
