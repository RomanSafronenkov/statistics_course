{
 "cells": [
  {
   "cell_type": "markdown",
   "metadata": {},
   "source": [
    "<center>\n",
    "<img src=\"logo.png\" height=\"900\"> \n",
    "</center>\n",
    "\n",
    "\n",
    "# Максимально правдоподобная домашка\n",
    "\n",
    "В этом задании мы с вами отточим метод максимального правдоподобия."
   ]
  },
  {
   "cell_type": "code",
   "execution_count": 1,
   "metadata": {},
   "outputs": [],
   "source": [
    "import numpy as np\n",
    "import pandas as pd\n",
    "\n",
    "from scipy import stats\n",
    "from scipy.optimize import minimize\n",
    "\n",
    "import seaborn as sns\n",
    "import matplotlib.pyplot as plt\n",
    "\n",
    "plt.style.use('ggplot')\n",
    "%matplotlib inline"
   ]
  },
  {
   "cell_type": "markdown",
   "metadata": {},
   "source": [
    "## Упражнение 1 (Разминка)\n",
    "\n",
    "__а)__ Пусть $X \\sim Exp(0.05)$. Сгенерируйте из этого распределения выборку размера $1000$. У метода `rvs` используйте `random_state=42` \n",
    "\n",
    "Обратите внимание, что `stats.expon` принимает в качестве параметра `scale` значение $\\frac{1}{\\lambda}$, а $0.05$ это именно $\\lambda$."
   ]
  },
  {
   "cell_type": "code",
   "execution_count": 3,
   "metadata": {
    "deletable": false,
    "nbgrader": {
     "cell_type": "code",
     "checksum": "cf5fe495e59777dc463c48268c39f794",
     "grade": false,
     "grade_id": "cell-f56ad0d7e5287be8",
     "locked": false,
     "schema_version": 3,
     "solution": true,
     "task": false
    }
   },
   "outputs": [],
   "source": [
    "### ╰( ͡° ͜ʖ ͡° )つ▬▬ι═══════  bzzzzzzzzzz\n",
    "# will the code be with you\n",
    "distribution = stats.expon(scale=20)\n",
    "\n",
    "x = distribution.rvs(1000, random_state=42)\n",
    "\n",
    "# your code here\n"
   ]
  },
  {
   "cell_type": "code",
   "execution_count": 6,
   "metadata": {},
   "outputs": [
    {
     "data": {
      "image/png": "[encoded data removed]",
      "text/plain": [
       "<Figure size 432x288 with 1 Axes>"
      ]
     },
     "metadata": {
      "needs_background": "light"
     },
     "output_type": "display_data"
    }
   ],
   "source": [
    "plt.hist(x, bins=40)\n",
    "plt.show()"
   ]
  },
  {
   "cell_type": "code",
   "execution_count": 8,
   "metadata": {},
   "outputs": [
    {
     "data": {
      "text/plain": [
       "19.450118959304486"
      ]
     },
     "execution_count": 8,
     "metadata": {},
     "output_type": "execute_result"
    }
   ],
   "source": [
    "np.mean(x)"
   ]
  },
  {
   "cell_type": "code",
   "execution_count": 7,
   "metadata": {},
   "outputs": [],
   "source": [
    "assert np.abs(19.45 - np.mean(x)) < 0.01"
   ]
  },
  {
   "cell_type": "markdown",
   "metadata": {},
   "source": [
    "__б)__ Выпишите логарифмическую функцию правдоподобия на бумажке. Затем вбейте её в python."
   ]
  },
  {
   "cell_type": "code",
   "execution_count": 39,
   "metadata": {
    "deletable": false,
    "nbgrader": {
     "cell_type": "code",
     "checksum": "c16066e01c7ba00e9fb4c8951a3114ce",
     "grade": false,
     "grade_id": "cell-8b65f97b3713651c",
     "locked": false,
     "schema_version": 3,
     "solution": true,
     "task": false
    }
   },
   "outputs": [],
   "source": [
    "def lnL(theta, x):\n",
    "    \n",
    "    # your code here\n",
    "    n = len(x)\n",
    "    l = n * np.log(theta) - theta * np.sum(x)\n",
    "    \n",
    "    return -l"
   ]
  },
  {
   "cell_type": "code",
   "execution_count": 40,
   "metadata": {},
   "outputs": [
    {
     "data": {
      "text/plain": [
       "76414.18147609806"
      ]
     },
     "execution_count": 40,
     "metadata": {},
     "output_type": "execute_result"
    }
   ],
   "source": [
    "lnL(4, x)"
   ]
  },
  {
   "cell_type": "code",
   "execution_count": 41,
   "metadata": {
    "deletable": false,
    "editable": false,
    "nbgrader": {
     "cell_type": "code",
     "checksum": "0936f9fd98414ca0840289dcd0a97060",
     "grade": true,
     "grade_id": "cell-06138bffb4961739",
     "locked": true,
     "points": 1,
     "schema_version": 3,
     "solution": false,
     "task": false
    }
   },
   "outputs": [],
   "source": [
    "assert np.abs(lnL(4, x) - 76414.1814) < 1e-4\n",
    "\n",
    "# несколько похожих скрытых тестов"
   ]
  },
  {
   "cell_type": "markdown",
   "metadata": {},
   "source": [
    "__в)__ Оцените значение параметра $\\lambda$ по сгенерированной выборке `x`. Аккуратнее выбирайте точку для инициализации параметра. "
   ]
  },
  {
   "cell_type": "code",
   "execution_count": 49,
   "metadata": {
    "deletable": false,
    "nbgrader": {
     "cell_type": "code",
     "checksum": "6c95cc8f52de834cdacce2f213d505d5",
     "grade": false,
     "grade_id": "cell-46d606a0b318889e",
     "locked": false,
     "schema_version": 3,
     "solution": true,
     "task": false
    }
   },
   "outputs": [
    {
     "data": {
      "text/plain": [
       "      fun: 3967.853186205376\n",
       " hess_inv: array([[2.64355934e-06]])\n",
       "      jac: array([0.])\n",
       "  message: 'Optimization terminated successfully.'\n",
       "     nfev: 48\n",
       "      nit: 9\n",
       "     njev: 16\n",
       "   status: 0\n",
       "  success: True\n",
       "        x: array([0.05141356])"
      ]
     },
     "execution_count": 49,
     "metadata": {},
     "output_type": "execute_result"
    }
   ],
   "source": [
    "### ╰( ͡° ͜ʖ ͡° )つ▬▬ι═══════  bzzzzzzzzzz\n",
    "# will the code be with you\n",
    "\n",
    "theta_init = 0.001\n",
    "res = minimize(lnL, theta_init, args=x)\n",
    "\n",
    "# your code here\n",
    "res"
   ]
  },
  {
   "cell_type": "code",
   "execution_count": 50,
   "metadata": {
    "deletable": false,
    "editable": false,
    "nbgrader": {
     "cell_type": "code",
     "checksum": "513429d1704694149de80b0412ba4c05",
     "grade": true,
     "grade_id": "cell-fdb20543b8303077",
     "locked": true,
     "points": 1,
     "schema_version": 3,
     "solution": false,
     "task": false
    }
   },
   "outputs": [],
   "source": [
    "assert np.abs(res.x[0] - 0.0514) < 1e-4\n",
    "\n",
    "# несколько похожих скрытых тестов"
   ]
  },
  {
   "cell_type": "markdown",
   "metadata": {},
   "source": [
    "__г)__ Постройте график для функции правдоподобия. По оси $x$ отложите значения $\\lambda$, по оси $y$ логарифм правдоподобия. Отметьте на картинке точку оптимума. "
   ]
  },
  {
   "cell_type": "code",
   "execution_count": 57,
   "metadata": {
    "deletable": false,
    "nbgrader": {
     "cell_type": "code",
     "checksum": "983bff4bd26687e77b72f755b54ea24f",
     "grade": false,
     "grade_id": "cell-4de953f7f7c66a39",
     "locked": false,
     "schema_version": 3,
     "solution": true,
     "task": false
    }
   },
   "outputs": [
    {
     "data": {
      "image/png": "[encoded data removed]",
      "text/plain": [
       "<Figure size 1382.4x777.6 with 1 Axes>"
      ]
     },
     "metadata": {
      "needs_background": "light"
     },
     "output_type": "display_data"
    }
   ],
   "source": [
    "### ╰( ͡° ͜ʖ ͡° )つ▬▬ι═══════  bzzzzzzzzzz\n",
    "# will the code be with you\n",
    "\n",
    "lambdas = np.arange(0.01, 0.12, 0.001)\n",
    "best_lambda = res.x[0]\n",
    "# your code here\n",
    "\n",
    "plt.figure(figsize=(19.20, 10.80))\n",
    "plt.plot(lambdas, lnL(lambdas, x))\n",
    "plt.plot(best_lambda, lnL(best_lambda, x), 'bo')\n",
    "plt.show()"
   ]
  },
  {
   "cell_type": "markdown",
   "metadata": {},
   "source": [
    "__д)__ Постройте для параметра $\\lambda$ асимптотический $80\\%$ доверительный интервал. "
   ]
  },
  {
   "cell_type": "code",
   "execution_count": 60,
   "metadata": {},
   "outputs": [],
   "source": [
    "def second_der(theta, x):\n",
    "    n = len(x)\n",
    "    return n / theta ** 2  # без минуса, потому что минимизируем правдоподобие"
   ]
  },
  {
   "cell_type": "code",
   "execution_count": 63,
   "metadata": {},
   "outputs": [],
   "source": [
    "var_best_lambda = 1 / second_der(best_lambda, x)"
   ]
  },
  {
   "cell_type": "code",
   "execution_count": 94,
   "metadata": {},
   "outputs": [
    {
     "data": {
      "text/plain": [
       "(2.643354138847095e-06, 2.6435593448598667e-06)"
      ]
     },
     "execution_count": 94,
     "metadata": {},
     "output_type": "execute_result"
    }
   ],
   "source": [
    "var_best_lambda, res.hess_inv[0][0]"
   ]
  },
  {
   "cell_type": "code",
   "execution_count": 91,
   "metadata": {},
   "outputs": [
    {
     "data": {
      "text/plain": [
       "0.3779318812807504"
      ]
     },
     "execution_count": 91,
     "metadata": {},
     "output_type": "execute_result"
    }
   ],
   "source": [
    "np.var(x) / len(x)"
   ]
  },
  {
   "cell_type": "code",
   "execution_count": 98,
   "metadata": {
    "deletable": false,
    "nbgrader": {
     "cell_type": "code",
     "checksum": "9c551d72f5c326f977b2b6762ae62ca6",
     "grade": false,
     "grade_id": "cell-c20e8fc746ce9925",
     "locked": false,
     "schema_version": 3,
     "solution": true,
     "task": false
    }
   },
   "outputs": [],
   "source": [
    "### ╰( ͡° ͜ʖ ͡° )つ▬▬ι═══════  bzzzzzzzzzz\n",
    "# will the code be with you\n",
    "\n",
    "alpha = 0.2\n",
    "z = stats.norm.ppf(1-alpha/2)\n",
    "\n",
    "left = best_lambda - z * np.sqrt(res.hess_inv[0][0])\n",
    "right = best_lambda + z * np.sqrt(res.hess_inv[0][0])\n",
    "\n",
    "# your code here\n"
   ]
  },
  {
   "cell_type": "code",
   "execution_count": 99,
   "metadata": {},
   "outputs": [
    {
     "data": {
      "text/plain": [
       "(0.04932988181926681, 0.053497237927366076)"
      ]
     },
     "execution_count": 99,
     "metadata": {},
     "output_type": "execute_result"
    }
   ],
   "source": [
    "left, right"
   ]
  },
  {
   "cell_type": "code",
   "execution_count": 89,
   "metadata": {
    "deletable": false,
    "editable": false,
    "nbgrader": {
     "cell_type": "code",
     "checksum": "79098e408937d94334a534d4a159fe63",
     "grade": true,
     "grade_id": "cell-b6d9034e824cb106",
     "locked": true,
     "points": 2,
     "schema_version": 3,
     "solution": false,
     "task": false
    }
   },
   "outputs": [],
   "source": [
    "assert np.abs(z - 1.2815) < 1e-4\n",
    "\n",
    "# несколько похожих скрытых тестов"
   ]
  },
  {
   "cell_type": "markdown",
   "metadata": {},
   "source": [
    "__е)__ Проверите на уровне значимости $1\\%$ тестом отношения правдоподобия гипотезу о том, что $\\lambda = 0.05$. "
   ]
  },
  {
   "cell_type": "code",
   "execution_count": 95,
   "metadata": {
    "deletable": false,
    "nbgrader": {
     "cell_type": "code",
     "checksum": "607ddce16e40b0a6e1f9bbb2d787f4ea",
     "grade": false,
     "grade_id": "cell-78a916d342e6ca21",
     "locked": false,
     "schema_version": 3,
     "solution": true,
     "task": false
    }
   },
   "outputs": [],
   "source": [
    "### ╰( ͡° ͜ʖ ͡° )つ▬▬ι═══════  bzzzzzzzzzz\n",
    "# will the code be with you\n",
    "\n",
    "alpha = 0.01\n",
    "lnL_un = lnL(best_lambda, x)\n",
    "lnL_r = lnL(0.05, x)\n",
    "\n",
    "# наблюдаемое значение статистики\n",
    "LR_obs = 2 * (lnL_r - lnL_un)\n",
    "\n",
    "# критическое значение\n",
    "LR_cr = stats.chi2(df=1).ppf(1 - alpha)\n",
    "\n",
    "# your code here\n"
   ]
  },
  {
   "cell_type": "code",
   "execution_count": 97,
   "metadata": {},
   "outputs": [
    {
     "data": {
      "text/plain": [
       "(0.7700706276791607, 6.6348966010212145)"
      ]
     },
     "execution_count": 97,
     "metadata": {},
     "output_type": "execute_result"
    }
   ],
   "source": [
    "LR_obs, LR_cr"
   ]
  },
  {
   "cell_type": "code",
   "execution_count": 96,
   "metadata": {
    "deletable": false,
    "editable": false,
    "nbgrader": {
     "cell_type": "code",
     "checksum": "a4b0e8af48c132461b0de8789f51c326",
     "grade": true,
     "grade_id": "cell-f2b0554f56b04198",
     "locked": true,
     "points": 1,
     "schema_version": 3,
     "solution": false,
     "task": false
    }
   },
   "outputs": [],
   "source": [
    "assert np.abs(lnL_un - 3967.8531) < 1e-4\n",
    "\n",
    "# несколько похожих скрытых тестов"
   ]
  },
  {
   "cell_type": "markdown",
   "metadata": {},
   "source": [
    "Справились? Значит вас ничто не может остановить реализовать подобный пайплайн для более сложной ситуации. Убедитесь в этом сами, решив задачку про «Челленджер»."
   ]
  },
  {
   "cell_type": "markdown",
   "metadata": {},
   "source": [
    "## Упражнение 2 (Логистическая регрессия)\n",
    "\n",
    "В этом упражнении мы оценим методом максимального правдоподобия логистическую регрессию.\n",
    "\n",
    "$28$ января $1986$ года космический шатл «Челленджер» взорвался при взлёте. Семь астронавтов, находившихся на борту, погибли. В ходе расследования причин катастрофы основной версией была неполадка с резиновыми уплотнительными кольцами в соединении с ракетными ускорителями. Для $23$ предшествовавших катастрофе полётов «Челленджера» известны температура воздуха и появление повреждений хотя бы у одного из уплотнительных колец."
   ]
  },
  {
   "cell_type": "code",
   "execution_count": 100,
   "metadata": {},
   "outputs": [
    {
     "name": "stdout",
     "output_type": "stream",
     "text": [
      "(23, 3)\n"
     ]
    },
    {
     "data": {
      "text/html": [
       "<div>\n",
       "<style scoped>\n",
       "    .dataframe tbody tr th:only-of-type {\n",
       "        vertical-align: middle;\n",
       "    }\n",
       "\n",
       "    .dataframe tbody tr th {\n",
       "        vertical-align: top;\n",
       "    }\n",
       "\n",
       "    .dataframe thead th {\n",
       "        text-align: right;\n",
       "    }\n",
       "</style>\n",
       "<table border=\"1\" class=\"dataframe\">\n",
       "  <thead>\n",
       "    <tr style=\"text-align: right;\">\n",
       "      <th></th>\n",
       "      <th>Date</th>\n",
       "      <th>Temperature</th>\n",
       "      <th>Incident</th>\n",
       "    </tr>\n",
       "  </thead>\n",
       "  <tbody>\n",
       "    <tr>\n",
       "      <th>0</th>\n",
       "      <td>04/12/1981</td>\n",
       "      <td>66</td>\n",
       "      <td>0</td>\n",
       "    </tr>\n",
       "    <tr>\n",
       "      <th>1</th>\n",
       "      <td>11/12/1981</td>\n",
       "      <td>70</td>\n",
       "      <td>1</td>\n",
       "    </tr>\n",
       "    <tr>\n",
       "      <th>2</th>\n",
       "      <td>3/22/82</td>\n",
       "      <td>69</td>\n",
       "      <td>0</td>\n",
       "    </tr>\n",
       "    <tr>\n",
       "      <th>3</th>\n",
       "      <td>01/11/1982</td>\n",
       "      <td>68</td>\n",
       "      <td>0</td>\n",
       "    </tr>\n",
       "    <tr>\n",
       "      <th>4</th>\n",
       "      <td>04/04/1983</td>\n",
       "      <td>67</td>\n",
       "      <td>0</td>\n",
       "    </tr>\n",
       "  </tbody>\n",
       "</table>\n",
       "</div>"
      ],
      "text/plain": [
       "         Date  Temperature  Incident\n",
       "0  04/12/1981           66         0\n",
       "1  11/12/1981           70         1\n",
       "2     3/22/82           69         0\n",
       "3  01/11/1982           68         0\n",
       "4  04/04/1983           67         0"
      ]
     },
     "execution_count": 100,
     "metadata": {},
     "output_type": "execute_result"
    }
   ],
   "source": [
    "df = pd.read_csv('challenger.csv', sep=',')\n",
    "print(df.shape)\n",
    "df.head()"
   ]
  },
  {
   "cell_type": "markdown",
   "metadata": {},
   "source": [
    "__а)__ Постройте на графиках гистограмму для распределения температуры $(Temperature)$ в ситуациях, когда хотябы одно кольцо было повреждено $(Incident = 1)$ и в ситуациях, когда ни одного повреждения не было $(Incident = 0)$. "
   ]
  },
  {
   "cell_type": "code",
   "execution_count": 102,
   "metadata": {
    "deletable": false,
    "nbgrader": {
     "cell_type": "code",
     "checksum": "122ef16c11c5e50db7c9a8bb5f7b85b0",
     "grade": false,
     "grade_id": "cell-4f7c85bfda7decc0",
     "locked": false,
     "schema_version": 3,
     "solution": true,
     "task": false
    }
   },
   "outputs": [
    {
     "data": {
      "text/plain": [
       "<matplotlib.axes._subplots.AxesSubplot at 0x7f7cb5284b50>"
      ]
     },
     "execution_count": 102,
     "metadata": {},
     "output_type": "execute_result"
    },
    {
     "data": {
      "image/png": "[encoded data removed]",
      "text/plain": [
       "<Figure size 432x288 with 1 Axes>"
      ]
     },
     "metadata": {
      "needs_background": "light"
     },
     "output_type": "display_data"
    }
   ],
   "source": [
    "### ╰( ͡° ͜ʖ ͡° )つ▬▬ι═══════  bzzzzzzzzzz\n",
    "# will the code be with you\n",
    "\n",
    "# your code here\n",
    "df[df['Incident'] == 1].Temperature.hist(alpha=0.4)\n",
    "df[df['Incident'] == 0].Temperature.hist(alpha=0.4)"
   ]
  },
  {
   "cell_type": "code",
   "execution_count": 103,
   "metadata": {},
   "outputs": [
    {
     "data": {
      "text/plain": [
       "(63.714285714285715, 72.125)"
      ]
     },
     "execution_count": 103,
     "metadata": {},
     "output_type": "execute_result"
    }
   ],
   "source": [
    "df[df['Incident'] == 1].Temperature.mean(), df[df['Incident'] == 0].Temperature.mean()"
   ]
  },
  {
   "cell_type": "markdown",
   "metadata": {},
   "source": [
    "__б)__ Судя по всему, между температурой и вероятностью поломки есть взаимосвязь. Пусть вероятность поломки зависит от температуры экспоненциально:\n",
    "    \n",
    "$$\n",
    "P(Incident = 1) = \\frac{e^{\\alpha + \\beta \\cdot t}}{1 + e^{\\alpha + \\beta \\cdot t}} = \\frac{1}{1 + e^{-1\\cdot(\\alpha + \\beta \\cdot t)}} \n",
    "$$\n",
    "    \n",
    "Выведите функцию правдоподобия и задачу для оптимизации поиска коэффициентов $\\alpha$ и  $\\beta$ на бумажке, а затем вбейте её в python. "
   ]
  },
  {
   "cell_type": "code",
   "execution_count": 217,
   "metadata": {
    "deletable": false,
    "nbgrader": {
     "cell_type": "code",
     "checksum": "6d6f65d90499b36288cf1da8a59addc5",
     "grade": false,
     "grade_id": "cell-0b993a930584fc58",
     "locked": false,
     "schema_version": 3,
     "solution": true,
     "task": false
    }
   },
   "outputs": [],
   "source": [
    "### ╰( ͡° ͜ʖ ͡° )つ▬▬ι═══════  bzzzzzzzzzz\n",
    "# will the code be with you\n",
    "\n",
    "def lnL(theta, data):\n",
    "    a, b = theta\n",
    "    temperature0 = df[df['Incident'] == 0].Temperature\n",
    "    temperature1 = df[df['Incident'] == 1].Temperature\n",
    "    \n",
    "    # your code here\n",
    "    theta0 = a + b * temperature0\n",
    "    theta1 = a + b * temperature1\n",
    "    return (np.sum(np.log(1 + np.exp(-theta1))) - np.sum(np.log(1 - 1 / (1 + np.exp(-theta0)))))\n",
    "    "
   ]
  },
  {
   "cell_type": "code",
   "execution_count": 218,
   "metadata": {},
   "outputs": [
    {
     "data": {
      "text/plain": [
       "294.8000011025908"
      ]
     },
     "execution_count": 218,
     "metadata": {},
     "output_type": "execute_result"
    }
   ],
   "source": [
    "lnL([4, 0.2], df)"
   ]
  },
  {
   "cell_type": "code",
   "execution_count": 219,
   "metadata": {
    "deletable": false,
    "editable": false,
    "nbgrader": {
     "cell_type": "code",
     "checksum": "1d37e18d62a5998262779f901c8ce1f2",
     "grade": true,
     "grade_id": "cell-63d24d1dbe5d8980",
     "locked": true,
     "points": 1,
     "schema_version": 3,
     "solution": false,
     "task": false
    }
   },
   "outputs": [],
   "source": [
    "assert np.abs(lnL([4, 0.2], df) - 294.8) < 1e-4\n",
    "\n",
    "# несколько похожих скрытых тестов"
   ]
  },
  {
   "cell_type": "markdown",
   "metadata": {},
   "source": [
    "__в)__ Оцените параметры $\\alpha$ и $\\beta$ с помощью метода максимального правдоподобия."
   ]
  },
  {
   "cell_type": "code",
   "execution_count": 220,
   "metadata": {},
   "outputs": [
    {
     "data": {
      "text/plain": [
       "195.40019295196004"
      ]
     },
     "execution_count": 220,
     "metadata": {},
     "output_type": "execute_result"
    }
   ],
   "source": [
    "lnL([5, 0.1], df)"
   ]
  },
  {
   "cell_type": "code",
   "execution_count": 223,
   "metadata": {
    "deletable": false,
    "nbgrader": {
     "cell_type": "code",
     "checksum": "0cda9b46363a691403e587c04b35a8f4",
     "grade": false,
     "grade_id": "cell-160598072dae63da",
     "locked": false,
     "schema_version": 3,
     "solution": true,
     "task": false
    }
   },
   "outputs": [
    {
     "data": {
      "text/plain": [
       "      fun: 10.157596343991496\n",
       " hess_inv: array([[ 5.36203757e+01, -7.83588121e-01],\n",
       "       [-7.83588121e-01,  1.15167165e-02]])\n",
       "      jac: array([2.38418579e-06, 1.66058540e-04])\n",
       "  message: 'Desired error not necessarily achieved due to precision loss.'\n",
       "     nfev: 262\n",
       "      nit: 16\n",
       "     njev: 63\n",
       "   status: 2\n",
       "  success: False\n",
       "        x: array([15.04298111, -0.2321639 ])"
      ]
     },
     "execution_count": 223,
     "metadata": {},
     "output_type": "execute_result"
    }
   ],
   "source": [
    "### ╰( ͡° ͜ʖ ͡° )つ▬▬ι═══════  bzzzzzzzzzz\n",
    "# will the code be with you\n",
    "\n",
    "theta_init = [10, 0]\n",
    "res = minimize(lnL, theta_init, args=df)\n",
    "\n",
    "# your code here\n",
    "res"
   ]
  },
  {
   "cell_type": "code",
   "execution_count": 224,
   "metadata": {
    "deletable": false,
    "editable": false,
    "nbgrader": {
     "cell_type": "code",
     "checksum": "d31d1a270d7e36e07d8ab8ea79635472",
     "grade": true,
     "grade_id": "cell-17af0e0290ffd6bf",
     "locked": true,
     "points": 1,
     "schema_version": 3,
     "solution": false,
     "task": false
    }
   },
   "outputs": [],
   "source": [
    "assert np.abs(res.fun - 10.1576) < 1e-4\n",
    "\n",
    "# несколько похожих скрытых тестов"
   ]
  },
  {
   "cell_type": "markdown",
   "metadata": {},
   "source": [
    "__г)__ С помощью теста отношения правдоподобий на уровне значимости $5\\%$ проверьте гипотезу о том, что $\\alpha = \\beta = 0$."
   ]
  },
  {
   "cell_type": "code",
   "execution_count": 225,
   "metadata": {
    "deletable": false,
    "nbgrader": {
     "cell_type": "code",
     "checksum": "c972da575dd2c34eb5f1971b5d1cc4b1",
     "grade": false,
     "grade_id": "cell-d58c71fd7ff43669",
     "locked": false,
     "schema_version": 3,
     "solution": true,
     "task": false
    }
   },
   "outputs": [],
   "source": [
    "### ╰( ͡° ͜ʖ ͡° )つ▬▬ι═══════  bzzzzzzzzzz\n",
    "# will the code be with you\n",
    "\n",
    "lnL_un = lnL(res.x, df)\n",
    "lnL_r = lnL([0, 0], df)\n",
    "\n",
    "LR_obs = 2 * (lnL_r - lnL_un)\n",
    "LR_crit = stats.chi2(df=2).ppf(0.95)\n",
    "\n",
    "# your code here\n"
   ]
  },
  {
   "cell_type": "code",
   "execution_count": 226,
   "metadata": {},
   "outputs": [
    {
     "data": {
      "text/plain": [
       "(11.569577617774492, 5.991464547107979)"
      ]
     },
     "execution_count": 226,
     "metadata": {},
     "output_type": "execute_result"
    }
   ],
   "source": [
    "LR_obs, LR_crit"
   ]
  },
  {
   "cell_type": "code",
   "execution_count": 227,
   "metadata": {
    "deletable": false,
    "editable": false,
    "nbgrader": {
     "cell_type": "code",
     "checksum": "217df7d8de63f4cd23c77083d5efb55d",
     "grade": true,
     "grade_id": "cell-1144bb1c976e84e0",
     "locked": true,
     "points": 1,
     "schema_version": 3,
     "solution": false,
     "task": false
    }
   },
   "outputs": [],
   "source": [
    "assert np.abs(lnL_un - 10.1576) < 1e-4\n",
    "\n",
    "# несколько похожих скрытых тестов"
   ]
  },
  {
   "cell_type": "markdown",
   "metadata": {},
   "source": [
    "__д)__ В день катастрофы температура уплотнителя была $31$ градус по Фарингейту. Предскажите с помощью построенной модели вероятность катастрофы (для этого подставьте в формулу поиска вероятности получившиеся оценки и температуру)."
   ]
  },
  {
   "cell_type": "code",
   "execution_count": 233,
   "metadata": {
    "deletable": false,
    "nbgrader": {
     "cell_type": "code",
     "checksum": "2cef03e68df8a9713b232520e60471b7",
     "grade": false,
     "grade_id": "cell-dc73e72855a06d26",
     "locked": false,
     "schema_version": 3,
     "solution": true,
     "task": false
    }
   },
   "outputs": [],
   "source": [
    "xnew = 31\n",
    "alpha, beta = res.x\n",
    "\n",
    "### ╰( ͡° ͜ʖ ͡° )つ▬▬ι═══════  bzzzzzzzzzz\n",
    "# will the code be with you\n",
    "\n",
    "p_hat = 1 / (1 + np.exp(-(alpha + beta * xnew)))\n",
    "\n",
    "# your code here\n"
   ]
  },
  {
   "cell_type": "code",
   "execution_count": 235,
   "metadata": {},
   "outputs": [
    {
     "data": {
      "text/plain": [
       "0.999608799910794"
      ]
     },
     "execution_count": 235,
     "metadata": {},
     "output_type": "execute_result"
    }
   ],
   "source": [
    "p_hat"
   ]
  },
  {
   "cell_type": "code",
   "execution_count": 234,
   "metadata": {
    "deletable": false,
    "editable": false,
    "nbgrader": {
     "cell_type": "code",
     "checksum": "ad995b59df6bc7056e40d1b823061fcc",
     "grade": true,
     "grade_id": "cell-7fbcaf3d5937cf8c",
     "locked": true,
     "points": 1,
     "schema_version": 3,
     "solution": false,
     "task": false
    }
   },
   "outputs": [],
   "source": [
    "assert np.abs(p_hat - 0.9996) < 1e-4\n",
    "\n",
    "# несколько похожих скрытых тестов"
   ]
  },
  {
   "cell_type": "markdown",
   "metadata": {},
   "source": [
    "Только что мы с вами оценили логистическую регрессию. На самом деле функцию потерь, которую обычно используют для оценки логистической регрессии (logloss) можно получить из метода максимального правдоподобия. Об этом мы поговорим на следующей неделе нашего курса. \n",
    "\n",
    "__е)__ А сейчас, давайте сделаем финальный штрих и оценим ту же самую моделю с помощью пакета `statsmodels`."
   ]
  },
  {
   "cell_type": "code",
   "execution_count": 236,
   "metadata": {},
   "outputs": [
    {
     "name": "stdout",
     "output_type": "stream",
     "text": [
      "Optimization terminated successfully.\n",
      "         Current function value: 0.441635\n",
      "         Iterations 7\n"
     ]
    },
    {
     "data": {
      "text/html": [
       "<table class=\"simpletable\">\n",
       "<caption>Logit Regression Results</caption>\n",
       "<tr>\n",
       "  <th>Dep. Variable:</th>       <td>Incident</td>     <th>  No. Observations:  </th>  <td>    23</td> \n",
       "</tr>\n",
       "<tr>\n",
       "  <th>Model:</th>                 <td>Logit</td>      <th>  Df Residuals:      </th>  <td>    21</td> \n",
       "</tr>\n",
       "<tr>\n",
       "  <th>Method:</th>                 <td>MLE</td>       <th>  Df Model:          </th>  <td>     1</td> \n",
       "</tr>\n",
       "<tr>\n",
       "  <th>Date:</th>            <td>Tue, 13 Jul 2021</td> <th>  Pseudo R-squ.:     </th>  <td>0.2813</td> \n",
       "</tr>\n",
       "<tr>\n",
       "  <th>Time:</th>                <td>12:54:56</td>     <th>  Log-Likelihood:    </th> <td> -10.158</td>\n",
       "</tr>\n",
       "<tr>\n",
       "  <th>converged:</th>             <td>True</td>       <th>  LL-Null:           </th> <td> -14.134</td>\n",
       "</tr>\n",
       "<tr>\n",
       "  <th>Covariance Type:</th>     <td>nonrobust</td>    <th>  LLR p-value:       </th> <td>0.004804</td>\n",
       "</tr>\n",
       "</table>\n",
       "<table class=\"simpletable\">\n",
       "<tr>\n",
       "       <td></td>          <th>coef</th>     <th>std err</th>      <th>z</th>      <th>P>|z|</th>  <th>[0.025</th>    <th>0.975]</th>  \n",
       "</tr>\n",
       "<tr>\n",
       "  <th>Intercept</th>   <td>   15.0429</td> <td>    7.379</td> <td>    2.039</td> <td> 0.041</td> <td>    0.581</td> <td>   29.505</td>\n",
       "</tr>\n",
       "<tr>\n",
       "  <th>Temperature</th> <td>   -0.2322</td> <td>    0.108</td> <td>   -2.145</td> <td> 0.032</td> <td>   -0.444</td> <td>   -0.020</td>\n",
       "</tr>\n",
       "</table>"
      ],
      "text/plain": [
       "<class 'statsmodels.iolib.summary.Summary'>\n",
       "\"\"\"\n",
       "                           Logit Regression Results                           \n",
       "==============================================================================\n",
       "Dep. Variable:               Incident   No. Observations:                   23\n",
       "Model:                          Logit   Df Residuals:                       21\n",
       "Method:                           MLE   Df Model:                            1\n",
       "Date:                Tue, 13 Jul 2021   Pseudo R-squ.:                  0.2813\n",
       "Time:                        12:54:56   Log-Likelihood:                -10.158\n",
       "converged:                       True   LL-Null:                       -14.134\n",
       "Covariance Type:            nonrobust   LLR p-value:                  0.004804\n",
       "===============================================================================\n",
       "                  coef    std err          z      P>|z|      [0.025      0.975]\n",
       "-------------------------------------------------------------------------------\n",
       "Intercept      15.0429      7.379      2.039      0.041       0.581      29.505\n",
       "Temperature    -0.2322      0.108     -2.145      0.032      -0.444      -0.020\n",
       "===============================================================================\n",
       "\"\"\""
      ]
     },
     "execution_count": 236,
     "metadata": {},
     "output_type": "execute_result"
    }
   ],
   "source": [
    "import statsmodels.formula.api as smf\n",
    "\n",
    "model = smf.logit(data=df, formula='Incident ~ 1 + Temperature').fit()\n",
    "model.summary()"
   ]
  },
  {
   "cell_type": "markdown",
   "metadata": {},
   "source": [
    "Посмотрев на протокол, получившийся в результате оценивания модели ответьте на вопросы: \n",
    "\n",
    "- Чему равноо значение логарифма правдоподобия? Запишите это значение в `logLik`\n",
    "- Чему равна оценка константы $\\alpha$? Запишите это значение в `alph`\n",
    "- По свойствам метода максимального правдоподобия $\\hat{\\beta} \\sim N(\\beta, \\hat{\\sigma}^2_{\\beta})$, чему равно значение $\\hat{\\sigma}_{\\beta}$? Запишите это значение в `std_beta`\n",
    "- Чему равно p-значение для гипотезы $H_0: \\beta = 0$? Запишите это значение в `pval_beta`\n",
    "- Отвергается ли гипотеза $H_0: \\beta = 0$ на $5\\%$ уровне значимости? Если да, запишите в `is_h` значение `False`"
   ]
  },
  {
   "cell_type": "code",
   "execution_count": 237,
   "metadata": {
    "deletable": false,
    "nbgrader": {
     "cell_type": "code",
     "checksum": "b712daa0d63faf93a911d3d78b955676",
     "grade": false,
     "grade_id": "cell-47498286ac9be898",
     "locked": false,
     "schema_version": 3,
     "solution": true,
     "task": false
    }
   },
   "outputs": [],
   "source": [
    "### ╰( ͡° ͜ʖ ͡° )つ▬▬ι═══════  bzzzzzzzzzz\n",
    "# will the code be with you\n",
    "\n",
    "logLik = -10.158\n",
    "alph = 15.0429\n",
    "std_beta = 0.108\n",
    "pval_beta = 0.032\n",
    "is_h = False\n",
    "\n",
    "# your code here\n"
   ]
  },
  {
   "cell_type": "code",
   "execution_count": 238,
   "metadata": {
    "deletable": false,
    "editable": false,
    "nbgrader": {
     "cell_type": "code",
     "checksum": "020a402b6e1b4e91aeefda77d1a9df07",
     "grade": true,
     "grade_id": "cell-738394af91e6aa78",
     "locked": true,
     "points": 1,
     "schema_version": 3,
     "solution": false,
     "task": false
    }
   },
   "outputs": [],
   "source": [
    "assert np.abs(logLik + 10.158) < 1e-4\n",
    "\n",
    "# несколько похожих скрытых тестов"
   ]
  },
  {
   "cell_type": "markdown",
   "metadata": {},
   "source": [
    "  "
   ]
  }
 ],
 "metadata": {
  "kernelspec": {
   "display_name": "Python 3",
   "language": "python",
   "name": "python3"
  },
  "language_info": {
   "codemirror_mode": {
    "name": "ipython",
    "version": 3
   },
   "file_extension": ".py",
   "mimetype": "text/x-python",
   "name": "python",
   "nbconvert_exporter": "python",
   "pygments_lexer": "ipython3",
   "version": "3.7.6"
  }
 },
 "nbformat": 4,
 "nbformat_minor": 2
}
