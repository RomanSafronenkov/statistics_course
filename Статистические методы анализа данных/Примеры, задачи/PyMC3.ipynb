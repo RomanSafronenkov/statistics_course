{
 "cells": [
  {
   "cell_type": "markdown",
   "metadata": {},
   "source": [
    "<center>\n",
    "<img src=\"logo.png\" height=\"900\"> \n",
    "</center>\n",
    "\n",
    "\n",
    "#  Байесовские методы\n",
    "\n",
    "В этой тетрадке мы попробуем поработать с библиотекой pymc3."
   ]
  },
  {
   "cell_type": "code",
   "execution_count": 1,
   "metadata": {},
   "outputs": [],
   "source": [
    "import numpy as np\n",
    "import pandas as pd\n",
    "\n",
    "from scipy import stats \n",
    "\n",
    "import seaborn as sns\n",
    "import matplotlib.pyplot as plt\n",
    "\n",
    "plt.style.use('ggplot')\n",
    "%matplotlib inline"
   ]
  },
  {
   "cell_type": "code",
   "execution_count": 2,
   "metadata": {},
   "outputs": [],
   "source": [
    "import warnings \n",
    "warnings.filterwarnings('ignore')"
   ]
  },
  {
   "cell_type": "code",
   "execution_count": 3,
   "metadata": {},
   "outputs": [],
   "source": [
    "# !pip3 install pymc3"
   ]
  },
  {
   "cell_type": "code",
   "execution_count": 4,
   "metadata": {
    "scrolled": true
   },
   "outputs": [
    {
     "name": "stderr",
     "output_type": "stream",
     "text": [
      "WARNING (theano.link.c.cmodule): install mkl with `conda install mkl-service`: No module named 'mkl'\n",
      "WARNING (theano.tensor.blas): Using NumPy C-API based implementation for BLAS functions.\n"
     ]
    },
    {
     "data": {
      "text/plain": [
       "'3.11.1'"
      ]
     },
     "execution_count": 4,
     "metadata": {},
     "output_type": "execute_result"
    }
   ],
   "source": [
    "import pymc3 as pm\n",
    "pm.__version__"
   ]
  },
  {
   "cell_type": "markdown",
   "metadata": {},
   "source": [
    "# 1. Петя и караси\n",
    "\n",
    "Сгенерируем из распределения Бернулли с $p=0.3$ выборку карасей и щук"
   ]
  },
  {
   "cell_type": "code",
   "execution_count": 5,
   "metadata": {},
   "outputs": [
    {
     "name": "stdout",
     "output_type": "stream",
     "text": [
      "Доля карасей в выборке: 0.34\n"
     ]
    },
    {
     "data": {
      "text/plain": [
       "array([1, 0, 0, 1, 0, 0, 0, 1, 0, 0, 0, 0, 0, 0, 0, 0, 1, 0, 0, 1, 0, 0,\n",
       "       0, 0, 1, 0, 0, 0, 0, 0, 0, 1, 0, 1, 1, 0, 0, 1, 1, 0, 0, 1, 0, 0,\n",
       "       1, 1, 0, 1, 0, 1, 1, 0, 0, 1, 1, 0, 1, 0, 0, 1, 1, 0, 1, 1, 0, 0,\n",
       "       0, 0, 0, 1, 0, 0, 0, 1, 1, 0, 0, 0, 0, 1, 0, 1, 0, 1, 1, 0, 1, 0,\n",
       "       1, 0, 0, 0, 0, 1, 0, 0, 0, 0, 0, 0])"
      ]
     },
     "execution_count": 5,
     "metadata": {},
     "output_type": "execute_result"
    }
   ],
   "source": [
    "y = stats.bernoulli(p=0.3).rvs(100)\n",
    "print('Доля карасей в выборке:', y.mean())\n",
    "y"
   ]
  },
  {
   "cell_type": "markdown",
   "metadata": {},
   "source": [
    "Задаём нашу модель и априорное распределение. "
   ]
  },
  {
   "cell_type": "code",
   "execution_count": 6,
   "metadata": {},
   "outputs": [],
   "source": [
    "basic_model = pm.Model()\n",
    "\n",
    "with basic_model:\n",
    "    p = pm.Uniform(name=\"karases_prop\", lower=0, upper=1)   # априорное распределение для доли \n",
    "    y_obs = pm.Bernoulli(name='y_obs', p = p, observed=y)   # модель"
   ]
  },
  {
   "cell_type": "markdown",
   "metadata": {},
   "source": [
    "Байесовские методы для бедных: находим оценку моды апостериорного распределения. Её можно использовать в качестве точечной байесовской оценки. Когда мы не можем найти знаменатель в формуле Байеса, единственное, что нам остаётся - посчитать моду. "
   ]
  },
  {
   "cell_type": "code",
   "execution_count": 7,
   "metadata": {},
   "outputs": [
    {
     "data": {
      "text/html": [
       "\n",
       "    <div>\n",
       "        <style>\n",
       "            /* Turns off some styling */\n",
       "            progress {\n",
       "                /* gets rid of default border in Firefox and Opera. */\n",
       "                border: none;\n",
       "                /* Needs to be in here for Safari polyfill so background images work as expected. */\n",
       "                background-size: auto;\n",
       "            }\n",
       "            .progress-bar-interrupted, .progress-bar-interrupted::-webkit-progress-bar {\n",
       "                background: #F44336;\n",
       "            }\n",
       "        </style>\n",
       "      <progress value='6' class='' max='6' style='width:300px; height:20px; vertical-align: middle;'></progress>\n",
       "      100.00% [6/6 00:00<00:00 logp = -69.315, ||grad|| = 16]\n",
       "    </div>\n",
       "    "
      ],
      "text/plain": [
       "<IPython.core.display.HTML object>"
      ]
     },
     "metadata": {},
     "output_type": "display_data"
    },
    {
     "name": "stdout",
     "output_type": "stream",
     "text": [
      "\n"
     ]
    },
    {
     "data": {
      "text/plain": [
       "{'karases_prop_interval__': array(-0.66329422), 'karases_prop': array(0.34)}"
      ]
     },
     "execution_count": 7,
     "metadata": {},
     "output_type": "execute_result"
    }
   ],
   "source": [
    "map_estimate = pm.find_MAP(model=basic_model)\n",
    "map_estimate"
   ]
  },
  {
   "cell_type": "markdown",
   "metadata": {},
   "source": [
    "Но, конечно же, лучше получить апостериорное распределение полностью. Для этого запустим 500 итераций MCMC."
   ]
  },
  {
   "cell_type": "code",
   "execution_count": 8,
   "metadata": {},
   "outputs": [
    {
     "name": "stderr",
     "output_type": "stream",
     "text": [
      "Auto-assigning NUTS sampler...\n",
      "Initializing NUTS using jitter+adapt_diag...\n",
      "Multiprocess sampling (4 chains in 4 jobs)\n",
      "NUTS: [karases_prop]\n"
     ]
    },
    {
     "data": {
      "text/html": [
       "\n",
       "    <div>\n",
       "        <style>\n",
       "            /* Turns off some styling */\n",
       "            progress {\n",
       "                /* gets rid of default border in Firefox and Opera. */\n",
       "                border: none;\n",
       "                /* Needs to be in here for Safari polyfill so background images work as expected. */\n",
       "                background-size: auto;\n",
       "            }\n",
       "            .progress-bar-interrupted, .progress-bar-interrupted::-webkit-progress-bar {\n",
       "                background: #F44336;\n",
       "            }\n",
       "        </style>\n",
       "      <progress value='6000' class='' max='6000' style='width:300px; height:20px; vertical-align: middle;'></progress>\n",
       "      100.00% [6000/6000 24:58<00:00 Sampling 4 chains, 0 divergences]\n",
       "    </div>\n",
       "    "
      ],
      "text/plain": [
       "<IPython.core.display.HTML object>"
      ]
     },
     "metadata": {},
     "output_type": "display_data"
    },
    {
     "name": "stderr",
     "output_type": "stream",
     "text": [
      "Sampling 4 chains for 1_000 tune and 500 draw iterations (4_000 + 2_000 draws total) took 1504 seconds.\n"
     ]
    }
   ],
   "source": [
    "with basic_model:\n",
    "    trace = pm.sample(500, return_inferencedata=False, model=basic_model)"
   ]
  },
  {
   "cell_type": "markdown",
   "metadata": {},
   "source": [
    "Посмотрим, что у нас получилось. Апостериорное распределенеи параметра лежит в переменной `trace` по ключу с её названием. "
   ]
  },
  {
   "cell_type": "code",
   "execution_count": 9,
   "metadata": {},
   "outputs": [
    {
     "data": {
      "text/plain": [
       "array([0.37320054, 0.28865111, 0.33000771, 0.32213777, 0.25662892])"
      ]
     },
     "execution_count": 9,
     "metadata": {},
     "output_type": "execute_result"
    }
   ],
   "source": [
    "# Последние 5 значений в выборке\n",
    "trace[\"karases_prop\"][-5:]"
   ]
  },
  {
   "cell_type": "code",
   "execution_count": 10,
   "metadata": {},
   "outputs": [
    {
     "data": {
      "text/plain": [
       "(2000,)"
      ]
     },
     "execution_count": 10,
     "metadata": {},
     "output_type": "execute_result"
    }
   ],
   "source": [
    "# размер выборки\n",
    "trace[\"karases_prop\"].shape"
   ]
  },
  {
   "cell_type": "markdown",
   "metadata": {},
   "source": [
    "С помощью пакета `arviz` можно провалидировать обучение модели и посмотреть на краткое саммари."
   ]
  },
  {
   "cell_type": "code",
   "execution_count": 11,
   "metadata": {},
   "outputs": [
    {
     "data": {
      "image/png": "[encoded data removed]",
      "text/plain": [
       "<Figure size 864x144 with 2 Axes>"
      ]
     },
     "metadata": {
      "needs_background": "light"
     },
     "output_type": "display_data"
    }
   ],
   "source": [
    "import arviz as az\n",
    "az.plot_trace(trace);"
   ]
  },
  {
   "cell_type": "markdown",
   "metadata": {},
   "source": [
    "Алгоритм запустится $4$ раза. Слева будут отрисованы апостериорные распределения (сглаженные и отнормированные гистограммы для апостериорных выборок, полученныех в результате MCMC). Справа будет график истории марковской цепи. Анализируя ее, можно понять, насколько хорошо отработал алгоритм и требует ли он дополнительной настройки. Визуальными критериями качества являются:\n",
    "\n",
    "- Стационарность. Сэмплы должны образовывать шум вогруг какого-то значения.\n",
    "- Не имеют сильно выраженной автокорреляции.\n",
    "- Вся история не может стостоять из одной и той же повторяющейся точки. Если какая-то переменная оставалась константой, то скорее всего что-то пошло не так.\n",
    "\n",
    "Понятное дело, что итерации, указанные нами в опциях алгоритма для прогрева не входят в итоговую выборку."
   ]
  },
  {
   "cell_type": "code",
   "execution_count": 12,
   "metadata": {},
   "outputs": [
    {
     "data": {
      "text/html": [
       "<div>\n",
       "<style scoped>\n",
       "    .dataframe tbody tr th:only-of-type {\n",
       "        vertical-align: middle;\n",
       "    }\n",
       "\n",
       "    .dataframe tbody tr th {\n",
       "        vertical-align: top;\n",
       "    }\n",
       "\n",
       "    .dataframe thead th {\n",
       "        text-align: right;\n",
       "    }\n",
       "</style>\n",
       "<table border=\"1\" class=\"dataframe\">\n",
       "  <thead>\n",
       "    <tr style=\"text-align: right;\">\n",
       "      <th></th>\n",
       "      <th>mean</th>\n",
       "      <th>sd</th>\n",
       "      <th>hdi_3%</th>\n",
       "      <th>hdi_97%</th>\n",
       "      <th>mcse_mean</th>\n",
       "      <th>mcse_sd</th>\n",
       "      <th>ess_mean</th>\n",
       "      <th>ess_sd</th>\n",
       "      <th>ess_bulk</th>\n",
       "      <th>ess_tail</th>\n",
       "      <th>r_hat</th>\n",
       "    </tr>\n",
       "  </thead>\n",
       "  <tbody>\n",
       "    <tr>\n",
       "      <th>karases_prop</th>\n",
       "      <td>0.34</td>\n",
       "      <td>0.05</td>\n",
       "      <td>0.26</td>\n",
       "      <td>0.42</td>\n",
       "      <td>0.0</td>\n",
       "      <td>0.0</td>\n",
       "      <td>878.11</td>\n",
       "      <td>878.11</td>\n",
       "      <td>886.11</td>\n",
       "      <td>1446.61</td>\n",
       "      <td>1.0</td>\n",
       "    </tr>\n",
       "  </tbody>\n",
       "</table>\n",
       "</div>"
      ],
      "text/plain": [
       "              mean    sd  hdi_3%  hdi_97%  mcse_mean  mcse_sd  ess_mean  \\\n",
       "karases_prop  0.34  0.05    0.26     0.42        0.0      0.0    878.11   \n",
       "\n",
       "              ess_sd  ess_bulk  ess_tail  r_hat  \n",
       "karases_prop  878.11    886.11   1446.61    1.0  "
      ]
     },
     "execution_count": 12,
     "metadata": {},
     "output_type": "execute_result"
    }
   ],
   "source": [
    "az.summary(trace, round_to=2)"
   ]
  },
  {
   "cell_type": "markdown",
   "metadata": {},
   "source": [
    "Обратите внимание на колонку `r_hat`. Грубо говоря, это отношение дисперсий между цепями к десперсии внутри цепей. Это значение должно быть близко к $1$, иначе разные цепи ведут себя не одинаково и с алгоритмом есть проблемы. "
   ]
  },
  {
   "cell_type": "markdown",
   "metadata": {},
   "source": [
    "__Визуализация MCMC:__ https://chi-feng.github.io/mcmc-demo/"
   ]
  },
  {
   "cell_type": "markdown",
   "metadata": {},
   "source": [
    "# 2. Структурный сдвиг\n",
    "\n",
    "Проанализируем данные по авариям на шахтах в Англии. Они собираются с 19 века."
   ]
  },
  {
   "cell_type": "code",
   "execution_count": 13,
   "metadata": {},
   "outputs": [
    {
     "name": "stdout",
     "output_type": "stream",
     "text": [
      "(112, 2)\n"
     ]
    },
    {
     "data": {
      "text/html": [
       "<div>\n",
       "<style scoped>\n",
       "    .dataframe tbody tr th:only-of-type {\n",
       "        vertical-align: middle;\n",
       "    }\n",
       "\n",
       "    .dataframe tbody tr th {\n",
       "        vertical-align: top;\n",
       "    }\n",
       "\n",
       "    .dataframe thead th {\n",
       "        text-align: right;\n",
       "    }\n",
       "</style>\n",
       "<table border=\"1\" class=\"dataframe\">\n",
       "  <thead>\n",
       "    <tr style=\"text-align: right;\">\n",
       "      <th></th>\n",
       "      <th>year</th>\n",
       "      <th>count</th>\n",
       "    </tr>\n",
       "  </thead>\n",
       "  <tbody>\n",
       "    <tr>\n",
       "      <th>1</th>\n",
       "      <td>1851</td>\n",
       "      <td>4</td>\n",
       "    </tr>\n",
       "    <tr>\n",
       "      <th>2</th>\n",
       "      <td>1852</td>\n",
       "      <td>5</td>\n",
       "    </tr>\n",
       "    <tr>\n",
       "      <th>3</th>\n",
       "      <td>1853</td>\n",
       "      <td>4</td>\n",
       "    </tr>\n",
       "    <tr>\n",
       "      <th>4</th>\n",
       "      <td>1854</td>\n",
       "      <td>1</td>\n",
       "    </tr>\n",
       "    <tr>\n",
       "      <th>5</th>\n",
       "      <td>1855</td>\n",
       "      <td>0</td>\n",
       "    </tr>\n",
       "  </tbody>\n",
       "</table>\n",
       "</div>"
      ],
      "text/plain": [
       "   year  count\n",
       "1  1851      4\n",
       "2  1852      5\n",
       "3  1853      4\n",
       "4  1854      1\n",
       "5  1855      0"
      ]
     },
     "execution_count": 13,
     "metadata": {},
     "output_type": "execute_result"
    }
   ],
   "source": [
    "df = pd.read_csv('coals.csv', index_col=0)\n",
    "print(df.shape)\n",
    "df.head()"
   ]
  },
  {
   "cell_type": "markdown",
   "metadata": {},
   "source": [
    "Посмотрим на то, как число аварий ведёт себя в динамике. Можно заметить, что в 20 веке аварий стало меньше. Судя по всему, работать в шахтах стало безопаснее. Было бы интересно найти момент, когда произошёл структурный сдвиг. "
   ]
  },
  {
   "cell_type": "code",
   "execution_count": 14,
   "metadata": {},
   "outputs": [
    {
     "data": {
      "image/png": "[encoded data removed]",
      "text/plain": [
       "<Figure size 432x288 with 1 Axes>"
      ]
     },
     "metadata": {
      "needs_background": "light"
     },
     "output_type": "display_data"
    }
   ],
   "source": [
    "years = df['year'].values\n",
    "y = df['count'].values\n",
    "\n",
    "plt.plot(years, y, \"o\", markersize=8, alpha=0.4)\n",
    "plt.ylabel(\"Disaster count\")\n",
    "plt.xlabel(\"Year\");"
   ]
  },
  {
   "cell_type": "markdown",
   "metadata": {},
   "source": [
    "Попробуем оценить момент структурного сдвига с помощью Байесовских методов. Число аварий - случайная величина счётчик. Для моделирования счётчиков отлично подходит распределение Пуассона: \n",
    "\n",
    "$$\n",
    "Y_t \\sim Poiss(\\lambda)\n",
    "$$"
   ]
  },
  {
   "cell_type": "markdown",
   "metadata": {},
   "source": [
    "Мы не знаем значения $\\lambda$ и предполагаем, что где-то между $19$ и $20$ веками произошёл структурный сдвиг. Работать на шахтах стало безопаснее. Хочется найти наиболее вероятный момент этого сдвига. Специфицируем модель следующим образом:\n",
    "\n",
    "$$\n",
    "\\lambda = \\begin{cases} \\lambda_1, \\text{ если } t < \\tau \\\\ \\lambda_2, \\text{ если } t \\ge \\tau \\end{cases}\n",
    "$$\n",
    "\n",
    "Если в реальности никакого сдвига нет, то окажется, что $\\lambda_1 = \\lambda_2$. Апостериорные распределения этих параметров будут выглядеть практически одинаково. Про эти значения мы знаем, что они должны быть положительными. Зададим это знание с помощью априорных распределений:  \n",
    "\n",
    "$$\n",
    "\\lambda_1 \\sim Exp(\\alpha), \\quad \\lambda_2 \\sim Exp(\\alpha)\n",
    "$$\n",
    "\n",
    "Параметр $\\alpha$ здесь - это гиперпараметр. Про него мы ничего не знаем. Для него можно также завести своё априорное распределение. Например, нормальное с высокой дисперсией. Либо можно выставить его таким, чтобы для $\\lambda_i$ дисперсия оказалась высокой. "
   ]
  },
  {
   "cell_type": "code",
   "execution_count": 15,
   "metadata": {},
   "outputs": [
    {
     "data": {
      "text/plain": [
       "99.99999999999999"
      ]
     },
     "execution_count": 15,
     "metadata": {},
     "output_type": "execute_result"
    }
   ],
   "source": [
    "alpha = 0.1\n",
    "1/alpha**2"
   ]
  },
  {
   "cell_type": "code",
   "execution_count": 16,
   "metadata": {},
   "outputs": [],
   "source": [
    "with pm.Model() as disaster_model:\n",
    "    \n",
    "    # априорные распределения для параметров: \n",
    "    tau = pm.DiscreteUniform(\"tau\", lower=years.min(), upper=years.max())\n",
    "    \n",
    "    early_rate = pm.Exponential(\"early_rate\", alpha)\n",
    "    late_rate = pm.Exponential(\"late_rate\", alpha)\n",
    "    \n",
    "    # разные значения lambda в зависимости от tau\n",
    "    rate = pm.math.switch(tau >= years, early_rate, late_rate)\n",
    "    \n",
    "    # связь y с rate\n",
    "    y_obs = pm.Poisson(\"disasters\", rate, observed=y)"
   ]
  },
  {
   "cell_type": "markdown",
   "metadata": {},
   "source": [
    "Запускаем MCMC."
   ]
  },
  {
   "cell_type": "code",
   "execution_count": null,
   "metadata": {},
   "outputs": [
    {
     "name": "stderr",
     "output_type": "stream",
     "text": [
      "Multiprocess sampling (4 chains in 4 jobs)\n",
      "CompoundStep\n",
      ">Metropolis: [tau]\n",
      ">NUTS: [late_rate, early_rate]\n"
     ]
    },
    {
     "data": {
      "text/html": [
       "\n",
       "    <div>\n",
       "        <style>\n",
       "            /* Turns off some styling */\n",
       "            progress {\n",
       "                /* gets rid of default border in Firefox and Opera. */\n",
       "                border: none;\n",
       "                /* Needs to be in here for Safari polyfill so background images work as expected. */\n",
       "                background-size: auto;\n",
       "            }\n",
       "            .progress-bar-interrupted, .progress-bar-interrupted::-webkit-progress-bar {\n",
       "                background: #F44336;\n",
       "            }\n",
       "        </style>\n",
       "      <progress value='24790' class='' max='44000' style='width:300px; height:20px; vertical-align: middle;'></progress>\n",
       "      56.34% [24790/44000 1:11:07<55:06 Sampling 4 chains, 0 divergences]\n",
       "    </div>\n",
       "    "
      ],
      "text/plain": [
       "<IPython.core.display.HTML object>"
      ]
     },
     "metadata": {},
     "output_type": "display_data"
    }
   ],
   "source": [
    "with disaster_model:\n",
    "    trace = pm.sample(10000, return_inferencedata=False, model=disaster_model)"
   ]
  },
  {
   "cell_type": "markdown",
   "metadata": {},
   "source": [
    "Посмотрим что получилось на графиках. "
   ]
  },
  {
   "cell_type": "code",
   "execution_count": null,
   "metadata": {},
   "outputs": [],
   "source": [
    "az.plot_trace(trace);"
   ]
  },
  {
   "cell_type": "code",
   "execution_count": null,
   "metadata": {},
   "outputs": [],
   "source": [
    "az.summary(trace, round_to=2)"
   ]
  },
  {
   "cell_type": "markdown",
   "metadata": {},
   "source": [
    "Оценим вероятность того, что $\\lambda_1$ отличается от $\\lambda_2$:"
   ]
  },
  {
   "cell_type": "code",
   "execution_count": null,
   "metadata": {},
   "outputs": [],
   "source": [
    "np.mean(trace[\"early_rate\"] - trace[\"late_rate\"] > 0)"
   ]
  },
  {
   "cell_type": "markdown",
   "metadata": {},
   "source": [
    "Можно задаться более сложным вопросом, например: \"Какова вероятность, что значения различаются по крайней мере на $1$? На $2$? На $3$? На $5$?"
   ]
  },
  {
   "cell_type": "code",
   "execution_count": null,
   "metadata": {},
   "outputs": [],
   "source": [
    "for d in [1,2,3,5]:\n",
    "    v = np.mean(np.abs(trace[\"early_rate\"] - trace[\"late_rate\"]) > d)\n",
    "    print(f'Вероятность того, что значения различаются более, чем на {d} равна {v}')"
   ]
  },
  {
   "cell_type": "markdown",
   "metadata": {},
   "source": [
    "Найдём наиболее вероятный момент структурного сдвига и нарисуем для него $95\\%$ байесовский доверительный интервал. "
   ]
  },
  {
   "cell_type": "code",
   "execution_count": null,
   "metadata": {
    "scrolled": false
   },
   "outputs": [],
   "source": [
    "plt.figure(figsize=(15, 8))\n",
    "plt.plot(years, y, \".\", alpha=0.6)\n",
    "plt.ylabel(\"Число аварий\", fontsize=16)\n",
    "plt.xlabel(\"Год\", fontsize=16)\n",
    "\n",
    "plt.vlines(\n",
    "    trace[\"tau\"].mean(), y.min(), y.max(), color=\"C1\"\n",
    ")\n",
    "\n",
    "average_disasters = np.zeros_like(y, dtype=\"float\")\n",
    "\n",
    "for i, year in enumerate(years):\n",
    "    idx = year < trace[\"tau\"]\n",
    "    average_disasters[i] = (\n",
    "        trace[\"early_rate\"][idx].sum() + trace[\"late_rate\"][~idx].sum()\n",
    "    ) / (len(trace) * trace.nchains)\n",
    "    \n",
    "sp_hpd = az.hdi(trace[\"tau\"])\n",
    "\n",
    "plt.fill_betweenx(\n",
    "    y=[y.min(), y.max()],\n",
    "    x1=sp_hpd[0],\n",
    "    x2=sp_hpd[1],\n",
    "    alpha=0.5,\n",
    "    color=\"C1\",\n",
    ")\n",
    "\n",
    "plt.plot(years, average_disasters, \"k--\", lw=2);"
   ]
  },
  {
   "cell_type": "markdown",
   "metadata": {},
   "source": [
    "# 3. Регрессия - моя профессия\n",
    "\n",
    "По аналогии можно оценивать более сложные модели. Например, регрессию. Воспользуемся данными по рекламе и продажам на разных рынках. "
   ]
  },
  {
   "cell_type": "code",
   "execution_count": null,
   "metadata": {},
   "outputs": [],
   "source": [
    "df = pd.read_csv('Advertising.csv', index_col=0)\n",
    "print(df.shape)\n",
    "df.head()"
   ]
  },
  {
   "cell_type": "markdown",
   "metadata": {},
   "source": [
    "Прологарифмируем продажи и деньги, которые мы вложили на рекламу по тв."
   ]
  },
  {
   "cell_type": "code",
   "execution_count": null,
   "metadata": {},
   "outputs": [],
   "source": [
    "df['ln_TV'] = df['TV'].apply(np.log)\n",
    "df['ln_Sales'] = df['Sales'].apply(np.log)\n",
    "\n",
    "X = df[['ln_TV', 'Radio', 'Newspaper']].values\n",
    "y = df.ln_Sales.values"
   ]
  },
  {
   "cell_type": "markdown",
   "metadata": {},
   "source": [
    "Выбирем для коэффициентов априорные распределени. Мы про них знаем не особо много, поэтому будем выбирать высокие дисперсии.  Дисперсия должна быть всегда положительной, поэтому для неё возьмём экспоненциальное распределение с высокой дисперсией. "
   ]
  },
  {
   "cell_type": "markdown",
   "metadata": {},
   "source": [
    "\\begin{equation*}\n",
    "\\begin{aligned}\n",
    "& y \\sim N(\\mu, \\sigma^2) \\\\ \n",
    "& \\mu = \\beta_0 + \\beta_1 x_{1i} + \\beta_2 x_{2i} \\\\\n",
    "& \\beta_i \\sim N(0, 10^2) \\\\\n",
    "& \\sigma \\sim Exp(0.01) \\\\\n",
    "\\end{aligned}\n",
    "\\end{equation*}"
   ]
  },
  {
   "cell_type": "code",
   "execution_count": null,
   "metadata": {},
   "outputs": [],
   "source": [
    "regression_model = pm.Model()\n",
    "\n",
    "with regression_model:\n",
    "\n",
    "    # Priors for unknown model parameters\n",
    "    alpha = pm.Normal(\"alpha\", mu=0, sigma=10)\n",
    "    beta = pm.Normal(\"beta\", mu=0, sigma=100,  shape=3) # ничего не знаем про коэффициенты\n",
    "    sigma = pm.Exponential(\"sigma\", 0.01) # маленькая alpha => большая дисперсия 1/alpha^2\n",
    "    \n",
    "    X = pm.Data(\"pred\", X)\n",
    "    # Expected value of outcome\n",
    "    mu = alpha + X@beta\n",
    "\n",
    "    # Likelihood (sampling distribution) of observations\n",
    "    y_obs = pm.Normal(\"y_obs\", mu=mu, sigma=sigma, observed=y)"
   ]
  },
  {
   "cell_type": "markdown",
   "metadata": {},
   "source": [
    "Запускаем обучение. "
   ]
  },
  {
   "cell_type": "code",
   "execution_count": null,
   "metadata": {},
   "outputs": [],
   "source": [
    "with regression_model:\n",
    "    trace = pm.sample(5000, return_inferencedata=False, model=regression_model)"
   ]
  },
  {
   "cell_type": "code",
   "execution_count": null,
   "metadata": {},
   "outputs": [],
   "source": [
    "az.plot_trace(trace);"
   ]
  },
  {
   "cell_type": "code",
   "execution_count": null,
   "metadata": {},
   "outputs": [],
   "source": [
    "az.summary(trace, round_to=2)"
   ]
  },
  {
   "cell_type": "markdown",
   "metadata": {},
   "source": [
    "Найдём вероятность того, что коэффициенты отличаются от нуля. "
   ]
  },
  {
   "cell_type": "code",
   "execution_count": null,
   "metadata": {},
   "outputs": [],
   "source": [
    "trace['beta'].shape"
   ]
  },
  {
   "cell_type": "code",
   "execution_count": null,
   "metadata": {},
   "outputs": [],
   "source": [
    "np.mean(trace['beta'] > 0, axis=0)"
   ]
  },
  {
   "cell_type": "code",
   "execution_count": null,
   "metadata": {},
   "outputs": [],
   "source": [
    "# не забывайте о то, что мы работаем с выборками из апостериорных распределений\n",
    "np.mean(trace['beta'] > 1e-2, axis=0)"
   ]
  },
  {
   "cell_type": "markdown",
   "metadata": {},
   "source": [
    "Посмотрим на байесовские интервалы для наших коэффициентов. "
   ]
  },
  {
   "cell_type": "code",
   "execution_count": null,
   "metadata": {},
   "outputs": [],
   "source": [
    "pm.forestplot(trace, varnames=['beta'], hdi_prob=0.9999, figsize=(15, 5));"
   ]
  },
  {
   "cell_type": "markdown",
   "metadata": {},
   "source": [
    "Эту же модель можно использовать для прогнозирования! "
   ]
  },
  {
   "cell_type": "code",
   "execution_count": null,
   "metadata": {},
   "outputs": [],
   "source": [
    "X_new = np.array([[1.2, 4, 3], [5, 47, 120]])"
   ]
  },
  {
   "cell_type": "code",
   "execution_count": null,
   "metadata": {},
   "outputs": [],
   "source": [
    "with regression_model:\n",
    "    pm.set_data({\"pred\": X_new})\n",
    "    model_preds = pm.sample_posterior_predictive(trace, var_names=[\"y_obs\"])[\"y_obs\"]"
   ]
  },
  {
   "cell_type": "code",
   "execution_count": null,
   "metadata": {},
   "outputs": [],
   "source": [
    "model_preds.shape"
   ]
  },
  {
   "cell_type": "code",
   "execution_count": null,
   "metadata": {},
   "outputs": [],
   "source": [
    "sns.distplot(model_preds[:,0]);"
   ]
  },
  {
   "cell_type": "code",
   "execution_count": null,
   "metadata": {},
   "outputs": [],
   "source": [
    "sns.distplot(model_preds[:,1]);"
   ]
  },
  {
   "cell_type": "markdown",
   "metadata": {},
   "source": [
    "# Материалы:\n",
    "\n",
    "- [Ещё модели](https://docs.pymc.io/nb_examples/index.html)\n",
    "- [Отличная простая книга про вероятностное программирование на python на pymc3](https://github.com/CamDavidsonPilon/Probabilistic-Programming-and-Bayesian-Methods-for-Hackers)\n",
    "- [Введение в MCMC](https://twiecki.io/blog/2015/11/10/mcmc-sampling/)\n",
    "- Ещё одна хорошая книга [Statistical rethinking](http://xcelab.net/rm/statistical-rethinking/) с примерами в R и pymc3"
   ]
  },
  {
   "cell_type": "markdown",
   "metadata": {},
   "source": [
    " "
   ]
  }
 ],
 "metadata": {
  "kernelspec": {
   "display_name": "Python 3",
   "language": "python",
   "name": "python3"
  },
  "language_info": {
   "codemirror_mode": {
    "name": "ipython",
    "version": 3
   },
   "file_extension": ".py",
   "mimetype": "text/x-python",
   "name": "python",
   "nbconvert_exporter": "python",
   "pygments_lexer": "ipython3",
   "version": "3.7.6"
  }
 },
 "nbformat": 4,
 "nbformat_minor": 2
}
