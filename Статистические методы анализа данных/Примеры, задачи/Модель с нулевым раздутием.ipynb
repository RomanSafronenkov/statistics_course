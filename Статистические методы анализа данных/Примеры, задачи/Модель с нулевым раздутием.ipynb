{
 "cells": [
  {
   "cell_type": "markdown",
   "metadata": {},
   "source": [
    "<center>\n",
    "<img src=\"logo.png\" height=\"900\"> \n",
    "</center>\n",
    "\n",
    "\n",
    "# Модель с нулевым раздутием (Zero inflated model)\n",
    "\n",
    "__Это задание является бонусным.__ Вы можете его не решать, это никак не повлияет на оценку за курс. \n",
    "\n",
    "Метод максимального правдоподобия позволяет нам оценивать не только классические модели вроде линейной или логистической регрессии. Он позволяет нам специфицировать произвольную модель, которая на наш взгляд подходит для данных. Именно такую модель в этом, бонусном, упражнении мы с вами и оценим."
   ]
  },
  {
   "cell_type": "code",
   "execution_count": 1,
   "metadata": {},
   "outputs": [],
   "source": [
    "import numpy as np\n",
    "import pandas as pd\n",
    "\n",
    "from scipy import stats\n",
    "from scipy.optimize import minimize\n",
    "\n",
    "import seaborn as sns\n",
    "import matplotlib.pyplot as plt\n",
    "\n",
    "plt.style.use('ggplot')\n",
    "%matplotlib inline"
   ]
  },
  {
   "cell_type": "markdown",
   "metadata": {},
   "source": [
    "Иногда так бывает, что в той переменной, которую мы собираемся прогнозировать, встречается очень много нулей. Представим себе, что биологи хотят смоделировать, сколько рыбы ловят отдахающие в национальном парке, когда выезжают туда с палатками. Понятное дело, что подавляющее большинство не будет ловить рыбу. Из-за этого в данных будет довольно много нулей. "
   ]
  },
  {
   "cell_type": "markdown",
   "metadata": {},
   "source": [
    "## Описание данных \n",
    "\n",
    "В парке отдыхало $250$ групп туристов. Каждой группе был задан вопрос о том, сколько рыбы они поймали `count`. В каждой группе посчитали число детей `child`, число людей `persons`. Каждой группе отдыхающих задавали вопрос: приехали ли они с палатками `camper`. \n",
    "\n",
    "Колонки с координатами и информацией о ловле на живца нас интересовать не будут. Их мы удалим. "
   ]
  },
  {
   "cell_type": "code",
   "execution_count": 2,
   "metadata": {},
   "outputs": [
    {
     "data": {
      "text/html": [
       "<div>\n",
       "<style scoped>\n",
       "    .dataframe tbody tr th:only-of-type {\n",
       "        vertical-align: middle;\n",
       "    }\n",
       "\n",
       "    .dataframe tbody tr th {\n",
       "        vertical-align: top;\n",
       "    }\n",
       "\n",
       "    .dataframe thead th {\n",
       "        text-align: right;\n",
       "    }\n",
       "</style>\n",
       "<table border=\"1\" class=\"dataframe\">\n",
       "  <thead>\n",
       "    <tr style=\"text-align: right;\">\n",
       "      <th></th>\n",
       "      <th>nofish</th>\n",
       "      <th>camper</th>\n",
       "      <th>persons</th>\n",
       "      <th>child</th>\n",
       "      <th>count</th>\n",
       "    </tr>\n",
       "  </thead>\n",
       "  <tbody>\n",
       "    <tr>\n",
       "      <th>0</th>\n",
       "      <td>1</td>\n",
       "      <td>0</td>\n",
       "      <td>1</td>\n",
       "      <td>0</td>\n",
       "      <td>0</td>\n",
       "    </tr>\n",
       "    <tr>\n",
       "      <th>1</th>\n",
       "      <td>0</td>\n",
       "      <td>1</td>\n",
       "      <td>1</td>\n",
       "      <td>0</td>\n",
       "      <td>0</td>\n",
       "    </tr>\n",
       "    <tr>\n",
       "      <th>2</th>\n",
       "      <td>0</td>\n",
       "      <td>0</td>\n",
       "      <td>1</td>\n",
       "      <td>0</td>\n",
       "      <td>0</td>\n",
       "    </tr>\n",
       "    <tr>\n",
       "      <th>3</th>\n",
       "      <td>0</td>\n",
       "      <td>1</td>\n",
       "      <td>2</td>\n",
       "      <td>1</td>\n",
       "      <td>0</td>\n",
       "    </tr>\n",
       "    <tr>\n",
       "      <th>4</th>\n",
       "      <td>0</td>\n",
       "      <td>0</td>\n",
       "      <td>1</td>\n",
       "      <td>0</td>\n",
       "      <td>1</td>\n",
       "    </tr>\n",
       "  </tbody>\n",
       "</table>\n",
       "</div>"
      ],
      "text/plain": [
       "   nofish  camper  persons  child  count\n",
       "0       1       0        1      0      0\n",
       "1       0       1        1      0      0\n",
       "2       0       0        1      0      0\n",
       "3       0       1        2      1      0\n",
       "4       0       0        1      0      1"
      ]
     },
     "execution_count": 2,
     "metadata": {},
     "output_type": "execute_result"
    }
   ],
   "source": [
    "df = pd.read_csv(\"fish.tsv\", sep='\\t')\n",
    "df.drop(['xb', 'zg', 'livebait'], axis=1, inplace=True)\n",
    "df.head()"
   ]
  },
  {
   "cell_type": "code",
   "execution_count": 3,
   "metadata": {},
   "outputs": [
    {
     "data": {
      "image/png": "[encoded data removed]",
      "text/plain": [
       "<Figure size 432x288 with 1 Axes>"
      ]
     },
     "metadata": {
      "needs_background": "light"
     },
     "output_type": "display_data"
    }
   ],
   "source": [
    "df['count'].value_counts().sort_index(ascending=True).plot(kind='bar');"
   ]
  },
  {
   "cell_type": "markdown",
   "metadata": {},
   "source": [
    "Видно, что в данных о пойманной рыбе нули встречаются чаще всего. Специфичные данные требуют специфичных моделей. Будем предполагать, что:\n",
    "\n",
    "- Число пойманной рыбы имеет распределение Пуассона \n",
    "- Вероятность того, что группа туристов не поймала ни одной рыбы моделируется отдельно"
   ]
  },
  {
   "cell_type": "markdown",
   "metadata": {},
   "source": [
    "----------------\n",
    "\n",
    "__а)__ Предпримем первую попытку построить [zero inflated model.](https://en.wikipedia.org/wiki/Zero-inflated_model) Этот пункт решён за вас. Разберитесь в том, как именно мы выводим модель.\n",
    "\n",
    "__Цель:__ вытащить нулевое значение и вероятность для него в отдельный параметр. "
   ]
  },
  {
   "cell_type": "markdown",
   "metadata": {},
   "source": [
    "__Делай раз:__  мы хотим, чтобы распределение Пуассона для нас работало, начиная с $X = 1$. В таком случае нам его надо сдвинуть вправо так, чтобы сумма вероятностей по-прежнему оставалась равна единице. Мы знаем, что \n",
    "\n",
    "$$\n",
    "\\sum_{k=0}^{\\infty} P(X = k) = \\sum_{k=0}^{\\infty} \\frac{\\lambda^k e^{-\\lambda}}{k!} = e^{-\\lambda} + \\sum_{k=1}^{\\infty} \\frac{\\lambda^k e^{-\\lambda}}{k!} = 1.\n",
    "$$\n",
    "\n",
    "Если мы решим оставить только сумму, начиная с единицы, получится, что \n",
    "\n",
    "$$\n",
    "\\sum_{k=1}^{\\infty} \\frac{\\lambda^k e^{-\\lambda}}{k!} = 1 - e^{-\\lambda}.\n",
    "$$\n",
    "\n",
    "Чтобы перед нами было полноценное распределение и все вероятности в сумме давали $1$, нам надо поделить сумму слева на $1 - e^{-\\lambda}$. Получается, что для распределения Пуассона, обрезанного со стороны нуля, формула для поиска вероятности выглядить как \n",
    "\n",
    "$$\n",
    "P(X = k \\mid X > 0) = \\frac{1}{1 - e^{-\\lambda}} \\cdot \\frac{\\lambda^k e^{-\\lambda}}{k!}.\n",
    "$$\n",
    "\n",
    "Можно получить эту формулу исходя не из интуции, а из формулы условной вероятности:\n",
    "\n",
    "$$\n",
    "P(X = k \\mid X > 0) = \\frac{P(X = k \\cap X > 0)}{P(X > 0)} = \\frac{\\frac{\\lambda^k e^{-\\lambda}}{k!}}{1 - e^{-\\lambda}}\n",
    "$$\n"
   ]
  },
  {
   "cell_type": "markdown",
   "metadata": {},
   "source": [
    "__Делай два:__ Теперь давайте построим смесь из двух распределений. Случайная величина $X$ будет принимать с вероятностью $p$ значение $0$, и с вероятностью $1 - p$ будет распределена по Пуассону со сдвигом: \n",
    "\n",
    "$$\n",
    "\\begin{aligned}\n",
    "& P(X = 0) = p \\\\\n",
    "& P(X = k) = (1 - p) \\cdot \\frac{1}{1 - e^{-\\lambda}} \\cdot \\frac{\\lambda^k e^{-\\lambda}}{k!}.\n",
    "\\end{aligned}\n",
    "$$\n",
    "\n",
    "Построенная модель — это ещё не совсем то, что нам надо. У такой формулировки модели есть минус. Невозможно проверить гипотезу о том, что в нуле нет никаких особенностей. Если $p = 0$, то у нас просто-напросто не бывает нулевых значений, а нам надо при $p=0$ получить обычное распределение Пуассона. "
   ]
  },
  {
   "cell_type": "markdown",
   "metadata": {},
   "source": [
    "__Итоговая модель:__ Хочется, чтобы у нас была возможность протестировать такую гипотезу. Для этого ноль выносится в отдельную категорию не в результате обрезания распределения Пуассона, а немного иначе.  \n",
    "\n",
    "Давайте домножим $P(X = k)$ на $(1-p)$, а потом просто вынесем $(1 - p) \\cdot P(X = 0)$ в отдельное слагаемое. И тогда получится модель: \n",
    "\n",
    "$$\n",
    "\\begin{aligned}\n",
    "& P(X = 0) = p + (1 - p) \\cdot e^{-\\lambda} \\\\\n",
    "& P(X = k) = (1 - p) \\cdot \\frac{\\lambda^k e^{-\\lambda}}{k!}.\n",
    "\\end{aligned}\n",
    "$$ \n",
    "\n",
    "Если $p=0$, то у нас получается распределение Пуассона. У нас возникает возможность проверить гипотезу $H_0$, состояшую в том, что в нуле нет никакого особого значения. Распределение Пуассона оказывается вложено в нашу более сложную модель в лучших традициях частотной статистики. \n",
    "\n",
    "----------------"
   ]
  },
  {
   "cell_type": "markdown",
   "metadata": {},
   "source": [
    "__б)__ Выпишите на бумажке логарифмическую функцию правдоподобия для Zero Inflated Model. Вбейте её в python.\n",
    "\n",
    "__Hint:__ Множителем $\\frac{1}{y_1! \\cdot \\ldots \\cdot y_n!}$ нужно пренебречь. Он не влияет на оптимизацию функции. Очень удобно будет выписать функцию правдоподобия для одного наблюдения, а затем аккуратно усложнять её в следующих пунктах. Векторный `numpy` позволит удобно с ней работать. "
   ]
  },
  {
   "cell_type": "code",
   "execution_count": 40,
   "metadata": {
    "deletable": false,
    "nbgrader": {
     "cell_type": "code",
     "checksum": "0b64c9d78d40ded0c9eddf6c1580f675",
     "grade": false,
     "grade_id": "cell-1b31cbaca265f942",
     "locked": false,
     "schema_version": 3,
     "solution": true,
     "task": false
    }
   },
   "outputs": [],
   "source": [
    "### ╰( ͡° ͜ʖ ͡° )つ▬▬ι═══════  bzzzzzzzzzz\n",
    "# will the code be with you\n",
    "\n",
    "# your code here\n",
    "\n",
    "\n",
    "\n",
    "def lnL(theta, data):\n",
    "    p = np.exp(theta[0])/(1 + np.exp(theta[0]))  # приём, чтобы p всегда был от 0 до 1\n",
    "    lam = np.exp(theta[1])                       # приём, чтобы lam всегда был больше 0\n",
    "    \n",
    "    n_0 = sum((data['count'] == 0).astype(int))\n",
    "    n_n0 = sum((data['count'] != 0).astype(int))\n",
    "    \n",
    "    k = data[data['count'] != 0]['count'].values\n",
    "    # your code here\n",
    "    \n",
    "    # аккуратно расписываем правдоподобие для каждой вероятности, нуля и не нуля\n",
    "    l = n_0 * np.log(p + (1-p) * np.exp(-lam)) + n_n0 * np.log(1-p) + np.sum(k) * np.log(lam) - n_n0 * lam\n",
    "    return -np.sum(l)"
   ]
  },
  {
   "cell_type": "code",
   "execution_count": 41,
   "metadata": {},
   "outputs": [
    {
     "data": {
      "text/plain": [
       "236.80363551239867"
      ]
     },
     "execution_count": 41,
     "metadata": {},
     "output_type": "execute_result"
    }
   ],
   "source": [
    "lnL([0, 0], df)"
   ]
  },
  {
   "cell_type": "code",
   "execution_count": 6,
   "metadata": {
    "deletable": false,
    "editable": false,
    "nbgrader": {
     "cell_type": "code",
     "checksum": "270b75ce28eea84c92ac11608acfab05",
     "grade": true,
     "grade_id": "cell-457a5cb4f88033f7",
     "locked": true,
     "points": 1,
     "schema_version": 3,
     "solution": false,
     "task": false
    }
   },
   "outputs": [],
   "source": [
    "# Задание бонусное - все тесты открытые :)\n",
    "\n",
    "assert np.abs(lnL([0.2, 0.2], df) - 107.543) < 1e-4\n",
    "assert np.abs(lnL([0, 0], df) - 236.8036) < 1e-4\n",
    "assert np.abs(lnL([1,1], df) - -347.5161) < 1e-4"
   ]
  },
  {
   "cell_type": "markdown",
   "metadata": {},
   "source": [
    "__в)__ Оцените для случайной величины $Y$ (число пойманной рыбы) параметры $p$ и $\\lambda$ методом максимального правдоподобия. "
   ]
  },
  {
   "cell_type": "code",
   "execution_count": 7,
   "metadata": {
    "deletable": false,
    "nbgrader": {
     "cell_type": "code",
     "checksum": "a0f148abbbe92b14100f9f7927d22977",
     "grade": false,
     "grade_id": "cell-5a495c83d7efc0a0",
     "locked": false,
     "schema_version": 3,
     "solution": true,
     "task": false
    }
   },
   "outputs": [],
   "source": [
    "### ╰( ͡° ͜ʖ ͡° )つ▬▬ι═══════  bzzzzzzzzzz\n",
    "# will the code be with you\n",
    "\n",
    "# your code here\n",
    "theta_init = [0, 0]\n",
    "res = minimize(lnL, theta_init, args=df)"
   ]
  },
  {
   "cell_type": "code",
   "execution_count": 8,
   "metadata": {},
   "outputs": [
    {
     "data": {
      "text/plain": [
       "      fun: -679.485351966023\n",
       " hess_inv: array([[ 1.66540554e-02, -1.20843384e-06],\n",
       "       [-1.20843384e-06,  1.21832481e-03]])\n",
       "      jac: array([ 0.00000000e+00, -7.62939453e-06])\n",
       "  message: 'Optimization terminated successfully.'\n",
       "     nfev: 48\n",
       "      nit: 9\n",
       "     njev: 12\n",
       "   status: 0\n",
       "  success: True\n",
       "        x: array([0.27283694, 2.03155152])"
      ]
     },
     "execution_count": 8,
     "metadata": {},
     "output_type": "execute_result"
    }
   ],
   "source": [
    "res"
   ]
  },
  {
   "cell_type": "code",
   "execution_count": 9,
   "metadata": {
    "deletable": false,
    "editable": false,
    "nbgrader": {
     "cell_type": "code",
     "checksum": "ad4bbf539c93288ee339009895f97181",
     "grade": true,
     "grade_id": "cell-d035bec1ce2befbf",
     "locked": true,
     "points": 1,
     "schema_version": 3,
     "solution": false,
     "task": false
    }
   },
   "outputs": [],
   "source": [
    "# Задание бонусное - все тесты открытые :)\n",
    "assert np.abs(res.fun + 679) < 1\n",
    "assert np.abs(res.x[0] - 0.27) < 1e-2\n",
    "assert np.abs(res.x[1] - 2.03) < 1e-2"
   ]
  },
  {
   "cell_type": "markdown",
   "metadata": {},
   "source": [
    "Сравним получившееся значение $\\hat{p}^{ML}$ с частотой нулей в данных. "
   ]
  },
  {
   "cell_type": "code",
   "execution_count": 10,
   "metadata": {},
   "outputs": [
    {
     "data": {
      "text/plain": [
       "0.567789235663004"
      ]
     },
     "execution_count": 10,
     "metadata": {},
     "output_type": "execute_result"
    }
   ],
   "source": [
    "np.exp(res.x[0])/(1 + np.exp(res.x[0])) "
   ]
  },
  {
   "cell_type": "code",
   "execution_count": 11,
   "metadata": {},
   "outputs": [
    {
     "data": {
      "text/plain": [
       "0.568"
      ]
     },
     "execution_count": 11,
     "metadata": {},
     "output_type": "execute_result"
    }
   ],
   "source": [
    "np.mean(df['count'] == 0)"
   ]
  },
  {
   "cell_type": "markdown",
   "metadata": {},
   "source": [
    "Совпало. Мы предположили выше, что $Y=0$ формируются независимо от остальной части, поэтому значение $p$ таким и получилось. Оценка $\\hat{\\lambda}^{ML}$ совпадет со средним, посчитанным по всем $y_i > 0$. "
   ]
  },
  {
   "cell_type": "code",
   "execution_count": 12,
   "metadata": {},
   "outputs": [
    {
     "data": {
      "text/plain": [
       "7.625908938602334"
      ]
     },
     "execution_count": 12,
     "metadata": {},
     "output_type": "execute_result"
    }
   ],
   "source": [
    "np.exp(res.x[1])  "
   ]
  },
  {
   "cell_type": "code",
   "execution_count": 13,
   "metadata": {},
   "outputs": [
    {
     "data": {
      "text/plain": [
       "7.62962962962963"
      ]
     },
     "execution_count": 13,
     "metadata": {},
     "output_type": "execute_result"
    }
   ],
   "source": [
    "df['count'][df['count'] > 0].mean()"
   ]
  },
  {
   "cell_type": "markdown",
   "metadata": {},
   "source": [
    "Для такой простой постановки можно решить задачу на листочке. Найдите оценки $\\hat{\\lambda}^{ML}$ и $\\hat{p}^{ML}$ в явном виде."
   ]
  },
  {
   "cell_type": "markdown",
   "metadata": {},
   "source": [
    "__г)__ Проверьте с помощью теста отношения правдоподобий на уровне значимости $1\\%$ гипотезу о том, что $p=0$. Если эта гипотеза не отвергается, то мы зря усложнили наше распределение. "
   ]
  },
  {
   "cell_type": "code",
   "execution_count": 14,
   "metadata": {
    "deletable": false,
    "nbgrader": {
     "cell_type": "code",
     "checksum": "7a75aad073acaa51803741a97614eb43",
     "grade": false,
     "grade_id": "cell-73aa89dce2cf71b4",
     "locked": false,
     "schema_version": 3,
     "solution": true,
     "task": false
    }
   },
   "outputs": [],
   "source": [
    "### ╰( ͡° ͜ʖ ͡° )つ▬▬ι═══════  bzzzzzzzzzz\n",
    "# will the code be with you\n",
    "\n",
    "def lnL_R(theta, data):\n",
    "    p = 0\n",
    "    lam = np.exp(theta)\n",
    "    \n",
    "# your code here\n",
    "    n_0 = sum((data['count'] == 0).astype(int))\n",
    "    n_n0 = sum((data['count'] != 0).astype(int))\n",
    "    \n",
    "    k = data[data['count'] != 0]['count'].values\n",
    "    # your code here\n",
    "    l = n_0 * np.log(p + (1-p) * np.exp(-lam)) + n_n0 * np.log(1-p) + np.sum(k) * np.log(lam) - n_n0 * lam\n",
    "    return -np.sum(l)"
   ]
  },
  {
   "cell_type": "code",
   "execution_count": 15,
   "metadata": {},
   "outputs": [],
   "source": [
    "res_p0 = minimize(lnL_R, 0, args=df)"
   ]
  },
  {
   "cell_type": "code",
   "execution_count": 16,
   "metadata": {
    "deletable": false,
    "nbgrader": {
     "cell_type": "code",
     "checksum": "67d10bcfde9c5fa79b54a4cacaf54460",
     "grade": false,
     "grade_id": "cell-56f6c36ab5a329d6",
     "locked": false,
     "schema_version": 3,
     "solution": true,
     "task": false
    }
   },
   "outputs": [],
   "source": [
    "### ╰( ͡° ͜ʖ ͡° )つ▬▬ι═══════  bzzzzzzzzzz\n",
    "# will the code be with you\n",
    "\n",
    "res_R =  lnL_R(res.x[1], df)\n",
    "lnL_un = lnL(res.x, df)\n",
    "lnL_r =  lnL_R(res_p0.x, df)\n",
    "\n",
    "LR_obs = 2 * (lnL_r - lnL_un)\n",
    "LR_cr = stats.chi2(df=1).ppf(0.99)\n",
    "\n",
    "# your code here\n"
   ]
  },
  {
   "cell_type": "code",
   "execution_count": 17,
   "metadata": {},
   "outputs": [
    {
     "data": {
      "text/plain": [
       "(-158.79272032691364,\n",
       " -679.485351966023,\n",
       " 1041.3852632782186,\n",
       " 6.6348966010212145)"
      ]
     },
     "execution_count": 17,
     "metadata": {},
     "output_type": "execute_result"
    }
   ],
   "source": [
    "lnL_r, lnL_un, LR_obs, LR_cr"
   ]
  },
  {
   "cell_type": "code",
   "execution_count": 18,
   "metadata": {
    "deletable": false,
    "editable": false,
    "nbgrader": {
     "cell_type": "code",
     "checksum": "cb705e427912cf1401ef7dea7ef7a852",
     "grade": true,
     "grade_id": "cell-381ffe945d5698f1",
     "locked": true,
     "points": 1,
     "schema_version": 3,
     "solution": false,
     "task": false
    }
   },
   "outputs": [],
   "source": [
    "# Задание бонусное - все тесты открытые :)\n",
    "assert np.abs(lnL_r - -158.79) < 1e-2\n",
    "assert np.abs(lnL_un - -679.48) < 1e-2\n",
    "assert np.abs(LR_obs - 1041.38) < 1e-2\n",
    "assert np.abs(LR_cr - 6.63) < 1e-2"
   ]
  },
  {
   "cell_type": "markdown",
   "metadata": {},
   "source": [
    "__д)__ Поднимаем ставки. До этого мы смотрели на число пойманной рыбы как на отдельную случайную величину, которая ни от чего не зависит. Давайте усложним ситуацию. Пусть интенсивность пойманной рыбы объясняется другими факторами, то есть:\n",
    "\n",
    "$$\n",
    "\\lambda_i =  \\exp(\\beta_0 + \\beta_1 \\cdot child_i + \\beta_2 \\cdot persons_i + \\beta_3 \\cdot camper_i).\n",
    "$$\n",
    "\n",
    "Это звучит логично, если у нас есть палатка, нас в группе много, то и рыбы мы будем ловить много. Экспонента здесь используется, чтобы параметр $\\lambda_i$ всегда был положительным. \n",
    "\n",
    "Выпишите для такой модели логарифмическое правдоподобие, вбейте его в python и оцените параметры $\\beta_0, \\beta_1, \\beta_2, \\beta_3, p$. Удобнее всего будет вбивать его в матричном виде. "
   ]
  },
  {
   "cell_type": "code",
   "execution_count": 19,
   "metadata": {},
   "outputs": [
    {
     "data": {
      "text/html": [
       "<div>\n",
       "<style scoped>\n",
       "    .dataframe tbody tr th:only-of-type {\n",
       "        vertical-align: middle;\n",
       "    }\n",
       "\n",
       "    .dataframe tbody tr th {\n",
       "        vertical-align: top;\n",
       "    }\n",
       "\n",
       "    .dataframe thead th {\n",
       "        text-align: right;\n",
       "    }\n",
       "</style>\n",
       "<table border=\"1\" class=\"dataframe\">\n",
       "  <thead>\n",
       "    <tr style=\"text-align: right;\">\n",
       "      <th></th>\n",
       "      <th>nofish</th>\n",
       "      <th>camper</th>\n",
       "      <th>persons</th>\n",
       "      <th>child</th>\n",
       "      <th>count</th>\n",
       "    </tr>\n",
       "  </thead>\n",
       "  <tbody>\n",
       "    <tr>\n",
       "      <th>0</th>\n",
       "      <td>1</td>\n",
       "      <td>0</td>\n",
       "      <td>1</td>\n",
       "      <td>0</td>\n",
       "      <td>0</td>\n",
       "    </tr>\n",
       "    <tr>\n",
       "      <th>1</th>\n",
       "      <td>0</td>\n",
       "      <td>1</td>\n",
       "      <td>1</td>\n",
       "      <td>0</td>\n",
       "      <td>0</td>\n",
       "    </tr>\n",
       "    <tr>\n",
       "      <th>2</th>\n",
       "      <td>0</td>\n",
       "      <td>0</td>\n",
       "      <td>1</td>\n",
       "      <td>0</td>\n",
       "      <td>0</td>\n",
       "    </tr>\n",
       "    <tr>\n",
       "      <th>3</th>\n",
       "      <td>0</td>\n",
       "      <td>1</td>\n",
       "      <td>2</td>\n",
       "      <td>1</td>\n",
       "      <td>0</td>\n",
       "    </tr>\n",
       "    <tr>\n",
       "      <th>4</th>\n",
       "      <td>0</td>\n",
       "      <td>0</td>\n",
       "      <td>1</td>\n",
       "      <td>0</td>\n",
       "      <td>1</td>\n",
       "    </tr>\n",
       "    <tr>\n",
       "      <th>...</th>\n",
       "      <td>...</td>\n",
       "      <td>...</td>\n",
       "      <td>...</td>\n",
       "      <td>...</td>\n",
       "      <td>...</td>\n",
       "    </tr>\n",
       "    <tr>\n",
       "      <th>245</th>\n",
       "      <td>1</td>\n",
       "      <td>1</td>\n",
       "      <td>2</td>\n",
       "      <td>0</td>\n",
       "      <td>0</td>\n",
       "    </tr>\n",
       "    <tr>\n",
       "      <th>246</th>\n",
       "      <td>0</td>\n",
       "      <td>1</td>\n",
       "      <td>4</td>\n",
       "      <td>3</td>\n",
       "      <td>0</td>\n",
       "    </tr>\n",
       "    <tr>\n",
       "      <th>247</th>\n",
       "      <td>0</td>\n",
       "      <td>1</td>\n",
       "      <td>2</td>\n",
       "      <td>1</td>\n",
       "      <td>0</td>\n",
       "    </tr>\n",
       "    <tr>\n",
       "      <th>248</th>\n",
       "      <td>1</td>\n",
       "      <td>1</td>\n",
       "      <td>3</td>\n",
       "      <td>2</td>\n",
       "      <td>0</td>\n",
       "    </tr>\n",
       "    <tr>\n",
       "      <th>249</th>\n",
       "      <td>1</td>\n",
       "      <td>1</td>\n",
       "      <td>2</td>\n",
       "      <td>1</td>\n",
       "      <td>0</td>\n",
       "    </tr>\n",
       "  </tbody>\n",
       "</table>\n",
       "<p>250 rows × 5 columns</p>\n",
       "</div>"
      ],
      "text/plain": [
       "     nofish  camper  persons  child  count\n",
       "0         1       0        1      0      0\n",
       "1         0       1        1      0      0\n",
       "2         0       0        1      0      0\n",
       "3         0       1        2      1      0\n",
       "4         0       0        1      0      1\n",
       "..      ...     ...      ...    ...    ...\n",
       "245       1       1        2      0      0\n",
       "246       0       1        4      3      0\n",
       "247       0       1        2      1      0\n",
       "248       1       1        3      2      0\n",
       "249       1       1        2      1      0\n",
       "\n",
       "[250 rows x 5 columns]"
      ]
     },
     "execution_count": 19,
     "metadata": {},
     "output_type": "execute_result"
    }
   ],
   "source": [
    "df"
   ]
  },
  {
   "cell_type": "code",
   "execution_count": 77,
   "metadata": {},
   "outputs": [
    {
     "data": {
      "text/html": [
       "<div>\n",
       "<style scoped>\n",
       "    .dataframe tbody tr th:only-of-type {\n",
       "        vertical-align: middle;\n",
       "    }\n",
       "\n",
       "    .dataframe tbody tr th {\n",
       "        vertical-align: top;\n",
       "    }\n",
       "\n",
       "    .dataframe thead th {\n",
       "        text-align: right;\n",
       "    }\n",
       "</style>\n",
       "<table border=\"1\" class=\"dataframe\">\n",
       "  <thead>\n",
       "    <tr style=\"text-align: right;\">\n",
       "      <th></th>\n",
       "      <th>child</th>\n",
       "      <th>persons</th>\n",
       "      <th>camper</th>\n",
       "    </tr>\n",
       "  </thead>\n",
       "  <tbody>\n",
       "    <tr>\n",
       "      <th>4</th>\n",
       "      <td>0</td>\n",
       "      <td>1</td>\n",
       "      <td>0</td>\n",
       "    </tr>\n",
       "    <tr>\n",
       "      <th>9</th>\n",
       "      <td>0</td>\n",
       "      <td>1</td>\n",
       "      <td>1</td>\n",
       "    </tr>\n",
       "    <tr>\n",
       "      <th>12</th>\n",
       "      <td>0</td>\n",
       "      <td>3</td>\n",
       "      <td>0</td>\n",
       "    </tr>\n",
       "    <tr>\n",
       "      <th>13</th>\n",
       "      <td>0</td>\n",
       "      <td>3</td>\n",
       "      <td>0</td>\n",
       "    </tr>\n",
       "    <tr>\n",
       "      <th>15</th>\n",
       "      <td>0</td>\n",
       "      <td>1</td>\n",
       "      <td>1</td>\n",
       "    </tr>\n",
       "    <tr>\n",
       "      <th>...</th>\n",
       "      <td>...</td>\n",
       "      <td>...</td>\n",
       "      <td>...</td>\n",
       "    </tr>\n",
       "    <tr>\n",
       "      <th>238</th>\n",
       "      <td>0</td>\n",
       "      <td>3</td>\n",
       "      <td>1</td>\n",
       "    </tr>\n",
       "    <tr>\n",
       "      <th>239</th>\n",
       "      <td>0</td>\n",
       "      <td>2</td>\n",
       "      <td>1</td>\n",
       "    </tr>\n",
       "    <tr>\n",
       "      <th>240</th>\n",
       "      <td>0</td>\n",
       "      <td>2</td>\n",
       "      <td>1</td>\n",
       "    </tr>\n",
       "    <tr>\n",
       "      <th>241</th>\n",
       "      <td>2</td>\n",
       "      <td>4</td>\n",
       "      <td>1</td>\n",
       "    </tr>\n",
       "    <tr>\n",
       "      <th>243</th>\n",
       "      <td>1</td>\n",
       "      <td>3</td>\n",
       "      <td>1</td>\n",
       "    </tr>\n",
       "  </tbody>\n",
       "</table>\n",
       "<p>108 rows × 3 columns</p>\n",
       "</div>"
      ],
      "text/plain": [
       "     child  persons  camper\n",
       "4        0        1       0\n",
       "9        0        1       1\n",
       "12       0        3       0\n",
       "13       0        3       0\n",
       "15       0        1       1\n",
       "..     ...      ...     ...\n",
       "238      0        3       1\n",
       "239      0        2       1\n",
       "240      0        2       1\n",
       "241      2        4       1\n",
       "243      1        3       1\n",
       "\n",
       "[108 rows x 3 columns]"
      ]
     },
     "execution_count": 77,
     "metadata": {},
     "output_type": "execute_result"
    }
   ],
   "source": [
    "df[df['count'] != 0][['child', 'persons', 'camper']]"
   ]
  },
  {
   "cell_type": "code",
   "execution_count": 99,
   "metadata": {
    "deletable": false,
    "nbgrader": {
     "cell_type": "code",
     "checksum": "f02e0324e79bf263d22fe35ce2c4317b",
     "grade": false,
     "grade_id": "cell-63fb51465a224a7d",
     "locked": false,
     "schema_version": 3,
     "solution": true,
     "task": false
    }
   },
   "outputs": [],
   "source": [
    "### ╰( ͡° ͜ʖ ͡° )つ▬▬ι═══════  bzzzzzzzzzz\n",
    "# will the code be with you\n",
    "\n",
    "def lnL(theta, data):\n",
    "    p = np.exp(theta[0])/(1 + np.exp(theta[0]))\n",
    "    b = theta[1:]\n",
    "    \n",
    "    data_0 = data[data['count'] == 0][['child', 'persons', 'camper']]\n",
    "    st_0 = np.hstack((np.ones(shape=(len(data_0), 1)), data_0.values)).T\n",
    "    \n",
    "    data_1 = data[data['count'] != 0][['child', 'persons', 'camper']]\n",
    "    st_1 = np.hstack((np.ones(shape=(len(data_1), 1)), data_1.values)).T\n",
    "    \n",
    "    lam_0 = np.exp(b.dot(st_0))\n",
    "    lam_1 = np.exp(b.dot(st_1))\n",
    "    \n",
    "    n_0 = np.sum((data['count'] == 0).astype(int))\n",
    "    n_n0 = np.sum((data['count'] != 0).astype(int))\n",
    "    \n",
    "    k = data[data['count'] != 0]['count'].values\n",
    "    # your code here\n",
    "    \n",
    "    # если аккуратно выписать правдоподобие для каждой из вероятностей, когда 0 и когда не 0, получается такая вещь\n",
    "    l = np.sum(np.log(p + (1-p)*np.exp(-(lam_0)))) + n_n0*np.log(1-p) + k.dot(np.log(lam_1).reshape(-1, 1)) - np.sum(lam_1)\n",
    "    \n",
    "    return -np.sum(l)"
   ]
  },
  {
   "cell_type": "code",
   "execution_count": 100,
   "metadata": {},
   "outputs": [
    {
     "data": {
      "text/plain": [
       "27323.48927288092"
      ]
     },
     "execution_count": 100,
     "metadata": {},
     "output_type": "execute_result"
    }
   ],
   "source": [
    "lnL(par, df)"
   ]
  },
  {
   "cell_type": "code",
   "execution_count": 101,
   "metadata": {
    "deletable": false,
    "editable": false,
    "nbgrader": {
     "cell_type": "code",
     "checksum": "7d145719813eca9e0c746744d9a0b5e2",
     "grade": true,
     "grade_id": "cell-99b60d545cb87471",
     "locked": true,
     "points": 1,
     "schema_version": 3,
     "solution": false,
     "task": false
    }
   },
   "outputs": [],
   "source": [
    "par = np.hstack((0.5, np.ones(4)))\n",
    "assert np.abs(lnL(par, df) - 27323.49) < 1e-2"
   ]
  },
  {
   "cell_type": "code",
   "execution_count": 102,
   "metadata": {},
   "outputs": [
    {
     "data": {
      "text/plain": [
       "      fun: -1030.0420857288104\n",
       " hess_inv: array([[ 0.02248065,  0.00957601,  0.00221266, -0.00235083, -0.00117123],\n",
       "       [ 0.00957601,  0.02732902,  0.00199233, -0.00632283, -0.00556837],\n",
       "       [ 0.00221266,  0.00199233,  0.00787646, -0.00110478,  0.00087248],\n",
       "       [-0.00235083, -0.00632283, -0.00110478,  0.00207432, -0.00090515],\n",
       "       [-0.00117123, -0.00556837,  0.00087248, -0.00090515,  0.01066022]])\n",
       "      jac: array([ 0.00000000e+00,  0.00000000e+00,  0.00000000e+00, -1.52587891e-05,\n",
       "        0.00000000e+00])\n",
       "  message: 'Desired error not necessarily achieved due to precision loss.'\n",
       "     nfev: 396\n",
       "      nit: 21\n",
       "     njev: 55\n",
       "   status: 2\n",
       "  success: False\n",
       "        x: array([-0.36585154, -0.99805143, -1.36091063,  0.872142  ,  0.79560939])"
      ]
     },
     "execution_count": 102,
     "metadata": {},
     "output_type": "execute_result"
    }
   ],
   "source": [
    "theta_init = np.hstack((0.5, np.ones(4)))\n",
    "res = minimize(lnL, theta_init, args=df)\n",
    "res"
   ]
  },
  {
   "cell_type": "code",
   "execution_count": 103,
   "metadata": {
    "deletable": false,
    "editable": false,
    "nbgrader": {
     "cell_type": "code",
     "checksum": "ae0411de658ae60531f2ac04215322db",
     "grade": true,
     "grade_id": "cell-045ba49676aa1bff",
     "locked": true,
     "points": 1,
     "schema_version": 3,
     "solution": false,
     "task": false
    }
   },
   "outputs": [],
   "source": [
    "assert np.abs(res.x[0] - -0.3658) < 1e-4\n",
    "assert np.abs(res.x[-1] - 0.7956) < 1e-4"
   ]
  },
  {
   "cell_type": "markdown",
   "metadata": {},
   "source": [
    "__е)__ Поднимаем ставки ещё выше. Скрестим нашу модель с логистической регрессией. Пусть не только интенсивность пуассоновского потока зависит от других факторов, но и вероятность не поймать ни одной рыбы: \n",
    "\n",
    "\\begin{equation*}\n",
    "\\begin{aligned}\n",
    "& z_i = \\gamma_0 + \\gamma_1 \\cdot child_i + \\gamma_2 \\cdot persons_i + \\gamma_3 \\cdot camper_i \\\\\n",
    "& p_i = P(y_i = 1 \\mid child, persons, camper) = \\frac{1}{1 + \\exp(-z_i)} \\\\\n",
    "\\end{aligned}\n",
    "\\end{equation*}\n",
    "\n",
    "Выпишите для такой модели логарифмическое правдоподобие, вбейте его в python и оцените параметры $\\beta_0, \\beta_1, \\beta_2, \\beta_3, \\gamma_0, \\gamma_1, \\gamma_2, \\gamma_3$."
   ]
  },
  {
   "cell_type": "code",
   "execution_count": 110,
   "metadata": {
    "deletable": false,
    "nbgrader": {
     "cell_type": "code",
     "checksum": "488995a7b3fdaaef12eb0387ff2fb8b7",
     "grade": false,
     "grade_id": "cell-b10ef4fd41fdeb70",
     "locked": false,
     "schema_version": 3,
     "solution": true,
     "task": false
    }
   },
   "outputs": [],
   "source": [
    "### ╰( ͡° ͜ʖ ͡° )つ▬▬ι═══════  bzzzzzzzzzz\n",
    "# will the code be with you\n",
    "\n",
    "def lnL(theta, data):\n",
    "    beta = theta[:4]\n",
    "    gamma = theta[4:]\n",
    "    \n",
    "    # your code here\n",
    "    data_0 = data[data['count'] == 0][['child', 'persons', 'camper']]\n",
    "    st_0 = np.hstack((np.ones(shape=(len(data_0), 1)), data_0.values)).T\n",
    "    z_0 = gamma.dot(st_0)\n",
    "    p_0 = np.exp(z_0)/(1 + np.exp(z_0))\n",
    "    \n",
    "    data_1 = data[data['count'] != 0][['child', 'persons', 'camper']]\n",
    "    st_1 = np.hstack((np.ones(shape=(len(data_1), 1)), data_1.values)).T\n",
    "    z_1 = gamma.dot(st_1)\n",
    "    p_1 = np.exp(z_1)/(1 + np.exp(z_1))\n",
    "    \n",
    "    lam_0 = np.exp(beta.dot(st_0))\n",
    "    lam_1 = np.exp(beta.dot(st_1))\n",
    "    \n",
    "    n_0 = np.sum((data['count'] == 0).astype(int))\n",
    "    n_n0 = np.sum((data['count'] != 0).astype(int))\n",
    "    \n",
    "    k = data[data['count'] != 0]['count'].values\n",
    "    \n",
    "    # если аккуратно выписать правдоподобие для каждой из вероятностей, когда 0 и когда не 0, получается такая вещь\n",
    "    l = np.sum(np.log(p_0 + (1-p_0)*np.exp(-(lam_0)))) + np.sum(np.log(1-p_1)) + k.dot(np.log(lam_1).reshape(-1, 1))\\\n",
    "    - np.sum(lam_1)\n",
    "    \n",
    "    return -np.sum(l)"
   ]
  },
  {
   "cell_type": "code",
   "execution_count": 111,
   "metadata": {
    "deletable": false,
    "nbgrader": {
     "cell_type": "code",
     "checksum": "f2f5cf08a47c3991cde120c4e71e19fd",
     "grade": false,
     "grade_id": "cell-300049689cec05b6",
     "locked": false,
     "schema_version": 3,
     "solution": true,
     "task": false
    }
   },
   "outputs": [
    {
     "data": {
      "text/plain": [
       "      fun: -1053.7767953476946\n",
       " hess_inv: array([[ 3.04177209e-02, -1.31715213e-03, -8.51333530e-03,\n",
       "         5.53608414e-04,  2.52591514e-02, -3.81528344e-03,\n",
       "        -1.48748185e-02,  1.16484428e-02],\n",
       "       [-1.31715213e-03,  7.77177389e-03,  5.93501564e-05,\n",
       "        -7.25108069e-04, -3.17721081e-03,  1.07845656e-03,\n",
       "         4.64770895e-04,  2.50973023e-03],\n",
       "       [-8.51333530e-03,  5.93501564e-05,  2.85807155e-03,\n",
       "        -1.76712361e-03, -6.80973376e-03,  2.78681610e-03,\n",
       "         3.96485523e-03, -4.49224332e-03],\n",
       "       [ 5.53608414e-04, -7.25108069e-04, -1.76712361e-03,\n",
       "         7.43951723e-03, -4.21418787e-04, -8.22060300e-03,\n",
       "         8.79032145e-04,  4.44758424e-03],\n",
       "       [ 2.52591514e-02, -3.17721081e-03, -6.80973376e-03,\n",
       "        -4.21418787e-04,  4.12663901e-02,  3.95554529e-03,\n",
       "        -1.95748159e-02, -7.08574436e-03],\n",
       "       [-3.81528344e-03,  1.07845656e-03,  2.78681610e-03,\n",
       "        -8.22060300e-03,  3.95554529e-03,  2.32076285e-02,\n",
       "         1.53905390e-03, -2.54717272e-02],\n",
       "       [-1.48748185e-02,  4.64770895e-04,  3.96485523e-03,\n",
       "         8.79032145e-04, -1.95748159e-02,  1.53905390e-03,\n",
       "         1.36791492e-02, -6.45405552e-03],\n",
       "       [ 1.16484428e-02,  2.50973023e-03, -4.49224332e-03,\n",
       "         4.44758424e-03, -7.08574436e-03, -2.54717272e-02,\n",
       "        -6.45405552e-03,  4.45105624e-02]])\n",
       "      jac: array([-1.52587891e-05,  0.00000000e+00,  0.00000000e+00,  0.00000000e+00,\n",
       "        0.00000000e+00,  1.52587891e-05,  0.00000000e+00,  0.00000000e+00])\n",
       "  message: 'Desired error not necessarily achieved due to precision loss.'\n",
       "     nfev: 391\n",
       "      nit: 29\n",
       "     njev: 39\n",
       "   status: 2\n",
       "  success: False\n",
       "        x: array([-0.79826154, -1.13665976,  0.82904233,  0.72425417,  1.66357939,\n",
       "        1.9045746 , -0.92278803, -0.83362822])"
      ]
     },
     "execution_count": 111,
     "metadata": {},
     "output_type": "execute_result"
    }
   ],
   "source": [
    "### ╰( ͡° ͜ʖ ͡° )つ▬▬ι═══════  bzzzzzzzzzz\n",
    "# will the code be with you\n",
    "theta_init = np.hstack((np.ones(4), np.ones(4)))\n",
    "res = minimize(lnL, theta_init, args=df)\n",
    "\n",
    "# your code here\n",
    "res"
   ]
  },
  {
   "cell_type": "code",
   "execution_count": 112,
   "metadata": {
    "deletable": false,
    "editable": false,
    "nbgrader": {
     "cell_type": "code",
     "checksum": "48e4f1dcbca47414147154d36a42b76c",
     "grade": true,
     "grade_id": "cell-d8ccb0d15c85c7ef",
     "locked": true,
     "points": 1,
     "schema_version": 3,
     "solution": false,
     "task": false
    }
   },
   "outputs": [],
   "source": [
    "assert np.abs(res.x[0] + 0.7982) < 1e-4\n",
    "assert np.abs(res.x[-1] + 0.8336) < 1e-4"
   ]
  },
  {
   "cell_type": "markdown",
   "metadata": {},
   "source": [
    "__ё)__ Ровно такие же результаты, как в пункте __е)__ можно получить с помощью уже реализованной в рамках пакета `statsmodels` модели. Код для этого написан ниже. "
   ]
  },
  {
   "cell_type": "code",
   "execution_count": 113,
   "metadata": {},
   "outputs": [],
   "source": [
    "df['const'] = 1\n",
    "y = df['count'].to_numpy()\n",
    "X = df[['const', 'child', 'persons', 'camper']]"
   ]
  },
  {
   "cell_type": "code",
   "execution_count": 114,
   "metadata": {},
   "outputs": [
    {
     "name": "stdout",
     "output_type": "stream",
     "text": [
      "Optimization terminated successfully.\n",
      "         Current function value: 3.010926\n",
      "         Iterations: 29\n",
      "         Function evaluations: 31\n",
      "         Gradient evaluations: 31\n"
     ]
    },
    {
     "name": "stderr",
     "output_type": "stream",
     "text": [
      "/opt/conda/lib/python3.7/site-packages/statsmodels/base/model.py:568: ConvergenceWarning: Maximum Likelihood optimization failed to converge. Check mle_retvals\n",
      "  \"Check mle_retvals\", ConvergenceWarning)\n"
     ]
    },
    {
     "data": {
      "text/html": [
       "<table class=\"simpletable\">\n",
       "<caption>ZeroInflatedPoisson Regression Results</caption>\n",
       "<tr>\n",
       "  <th>Dep. Variable:</th>            <td>y</td>          <th>  No. Observations:  </th>   <td>   250</td>  \n",
       "</tr>\n",
       "<tr>\n",
       "  <th>Model:</th>           <td>ZeroInflatedPoisson</td> <th>  Df Residuals:      </th>   <td>   246</td>  \n",
       "</tr>\n",
       "<tr>\n",
       "  <th>Method:</th>                  <td>MLE</td>         <th>  Df Model:          </th>   <td>     3</td>  \n",
       "</tr>\n",
       "<tr>\n",
       "  <th>Date:</th>             <td>Wed, 14 Jul 2021</td>   <th>  Pseudo R-squ.:     </th>   <td>0.3321</td>  \n",
       "</tr>\n",
       "<tr>\n",
       "  <th>Time:</th>                 <td>07:05:04</td>       <th>  Log-Likelihood:    </th>  <td> -752.73</td> \n",
       "</tr>\n",
       "<tr>\n",
       "  <th>converged:</th>              <td>True</td>         <th>  LL-Null:           </th>  <td> -1127.0</td> \n",
       "</tr>\n",
       "<tr>\n",
       "  <th>Covariance Type:</th>      <td>nonrobust</td>      <th>  LLR p-value:       </th> <td>6.123e-162</td>\n",
       "</tr>\n",
       "</table>\n",
       "<table class=\"simpletable\">\n",
       "<tr>\n",
       "         <td></td>            <th>coef</th>     <th>std err</th>      <th>z</th>      <th>P>|z|</th>  <th>[0.025</th>    <th>0.975]</th>  \n",
       "</tr>\n",
       "<tr>\n",
       "  <th>inflate_const</th>   <td>    1.6636</td> <td>    0.503</td> <td>    3.308</td> <td> 0.001</td> <td>    0.678</td> <td>    2.649</td>\n",
       "</tr>\n",
       "<tr>\n",
       "  <th>inflate_child</th>   <td>    1.9046</td> <td>    0.322</td> <td>    5.915</td> <td> 0.000</td> <td>    1.273</td> <td>    2.536</td>\n",
       "</tr>\n",
       "<tr>\n",
       "  <th>inflate_persons</th> <td>   -0.9228</td> <td>    0.197</td> <td>   -4.689</td> <td> 0.000</td> <td>   -1.308</td> <td>   -0.537</td>\n",
       "</tr>\n",
       "<tr>\n",
       "  <th>inflate_camper</th>  <td>   -0.8336</td> <td>    0.350</td> <td>   -2.385</td> <td> 0.017</td> <td>   -1.519</td> <td>   -0.148</td>\n",
       "</tr>\n",
       "<tr>\n",
       "  <th>const</th>           <td>   -0.7983</td> <td>    0.165</td> <td>   -4.830</td> <td> 0.000</td> <td>   -1.122</td> <td>   -0.474</td>\n",
       "</tr>\n",
       "<tr>\n",
       "  <th>child</th>           <td>   -1.1367</td> <td>    0.091</td> <td>  -12.464</td> <td> 0.000</td> <td>   -1.315</td> <td>   -0.958</td>\n",
       "</tr>\n",
       "<tr>\n",
       "  <th>persons</th>         <td>    0.8290</td> <td>    0.043</td> <td>   19.415</td> <td> 0.000</td> <td>    0.745</td> <td>    0.913</td>\n",
       "</tr>\n",
       "<tr>\n",
       "  <th>camper</th>          <td>    0.7243</td> <td>    0.092</td> <td>    7.854</td> <td> 0.000</td> <td>    0.544</td> <td>    0.905</td>\n",
       "</tr>\n",
       "</table>"
      ],
      "text/plain": [
       "<class 'statsmodels.iolib.summary.Summary'>\n",
       "\"\"\"\n",
       "                     ZeroInflatedPoisson Regression Results                    \n",
       "===============================================================================\n",
       "Dep. Variable:                       y   No. Observations:                  250\n",
       "Model:             ZeroInflatedPoisson   Df Residuals:                      246\n",
       "Method:                            MLE   Df Model:                            3\n",
       "Date:                 Wed, 14 Jul 2021   Pseudo R-squ.:                  0.3321\n",
       "Time:                         07:05:04   Log-Likelihood:                -752.73\n",
       "converged:                        True   LL-Null:                       -1127.0\n",
       "Covariance Type:             nonrobust   LLR p-value:                6.123e-162\n",
       "===================================================================================\n",
       "                      coef    std err          z      P>|z|      [0.025      0.975]\n",
       "-----------------------------------------------------------------------------------\n",
       "inflate_const       1.6636      0.503      3.308      0.001       0.678       2.649\n",
       "inflate_child       1.9046      0.322      5.915      0.000       1.273       2.536\n",
       "inflate_persons    -0.9228      0.197     -4.689      0.000      -1.308      -0.537\n",
       "inflate_camper     -0.8336      0.350     -2.385      0.017      -1.519      -0.148\n",
       "const              -0.7983      0.165     -4.830      0.000      -1.122      -0.474\n",
       "child              -1.1367      0.091    -12.464      0.000      -1.315      -0.958\n",
       "persons             0.8290      0.043     19.415      0.000       0.745       0.913\n",
       "camper              0.7243      0.092      7.854      0.000       0.544       0.905\n",
       "===================================================================================\n",
       "\"\"\""
      ]
     },
     "execution_count": 114,
     "metadata": {},
     "output_type": "execute_result"
    }
   ],
   "source": [
    "import statsmodels.api as sm\n",
    "\n",
    "model = sm.ZeroInflatedPoisson(endog=y, exog=X, exog_infl=X, inflation='logit').fit()\n",
    "model.summary()"
   ]
  },
  {
   "cell_type": "markdown",
   "metadata": {},
   "source": [
    "Сравните получившиеся результаты со своими и дайте ответ на следующие вопросы: \n",
    "\n",
    "- Все ли переменные значимы для прогнозирования интенсивности пуассоновского потока и $P(y_i = 0)?$  \n",
    "- Проинтерпретируйте знаки перед коэффициентами, логично ли, что рост `persons` увеличивает интенсивность пуасоновского потока и уменьшает $P(y_i = 0)$? Логичные ли знаки стоит перед переменными `child` и `camper`?"
   ]
  },
  {
   "cell_type": "markdown",
   "metadata": {},
   "source": [
    "Конечно же, с помощью такой модели можно попытаться спрогнозировать сколько рыбы поймает та или иная группа. Для этого надо посчитать все разумные $P(Y = k)$ и выбрать $k$, которое соотвествует максимальной. Более того, можно даже построить предиктивный интервал. Даже можно разбить выборку на тренировочную и тестовую, а дальше воспользоватся подходами из машинного обучения, чтобы сравнить нащу модель с классическими вариантами."
   ]
  },
  {
   "cell_type": "markdown",
   "metadata": {},
   "source": [
    "  "
   ]
  }
 ],
 "metadata": {
  "kernelspec": {
   "display_name": "Python 3",
   "language": "python",
   "name": "python3"
  },
  "language_info": {
   "codemirror_mode": {
    "name": "ipython",
    "version": 3
   },
   "file_extension": ".py",
   "mimetype": "text/x-python",
   "name": "python",
   "nbconvert_exporter": "python",
   "pygments_lexer": "ipython3",
   "version": "3.7.6"
  }
 },
 "nbformat": 4,
 "nbformat_minor": 2
}
